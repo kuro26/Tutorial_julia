{
 "cells": [
  {
   "cell_type": "markdown",
   "metadata": {},
   "source": [
    "### 本文件已经完成历史使命了"
   ]
  },
  {
   "cell_type": "code",
   "execution_count": null,
   "metadata": {},
   "outputs": [],
   "source": [
    "using RigidBodyDynamics"
   ]
  },
  {
   "cell_type": "code",
   "execution_count": 45,
   "metadata": {},
   "outputs": [
    {
     "data": {
      "text/plain": [
       "Spanning tree:\n",
       "Vertex: world (root)\n",
       "  Vertex: torso-base, Edge: torso-base_to_world\n",
       "    Vertex: left-block, Edge: left_j1\n",
       "      Vertex: left-thigh, Edge: left_j2\n",
       "        Vertex: left-shank, Edge: left_j3\n",
       "    Vertex: right-block, Edge: right_j1\n",
       "      Vertex: right-thigh, Edge: right_j2\n",
       "        Vertex: right-shank, Edge: right_j3\n",
       "No non-tree joints."
      ]
     },
     "execution_count": 45,
     "metadata": {},
     "output_type": "execute_result"
    }
   ],
   "source": [
    "urdf = \"../urdf/biped_No1.urdf\"\n",
    "mechanism = parse_urdf(urdf, floating=true)"
   ]
  },
  {
   "cell_type": "code",
   "execution_count": 57,
   "metadata": {},
   "outputs": [
    {
     "data": {
      "text/plain": [
       "7-element Array{Joint{Float64,JT} where JT<:JointType{Float64},1}:\n",
       " Joint \"torso-base_to_world\": Quaternion floating joint    \n",
       " Joint \"left_j1\": Revolute joint with axis [1.0, 0.0, 0.0] \n",
       " Joint \"right_j1\": Revolute joint with axis [1.0, 0.0, 0.0]\n",
       " Joint \"left_j2\": Revolute joint with axis [0.0, 1.0, 0.0] \n",
       " Joint \"right_j2\": Revolute joint with axis [0.0, 1.0, 0.0]\n",
       " Joint \"left_j3\": Revolute joint with axis [0.0, 1.0, 0.0] \n",
       " Joint \"right_j3\": Revolute joint with axis [0.0, 1.0, 0.0]"
      ]
     },
     "execution_count": 57,
     "metadata": {},
     "output_type": "execute_result"
    }
   ],
   "source": [
    "joints(mechanism)\n",
    "joint_bw, left_j1, right_j1, left_j2, right_j2, left_j3, right_j3 = joints(mechanism)"
   ]
  },
  {
   "cell_type": "code",
   "execution_count": 47,
   "metadata": {},
   "outputs": [
    {
     "data": {
      "text/plain": [
       "MechanismState{Float64, Float64, Float64, …}(…)"
      ]
     },
     "execution_count": 47,
     "metadata": {},
     "output_type": "execute_result"
    }
   ],
   "source": [
    "state = MechanismState(mechanism)"
   ]
  },
  {
   "cell_type": "code",
   "execution_count": 58,
   "metadata": {},
   "outputs": [
    {
     "data": {
      "text/plain": [
       "6-element view(::Array{Float64,1}, 1:6) with eltype Float64:\n",
       " 0.0\n",
       " 0.0\n",
       " 0.0\n",
       " 0.0\n",
       " 0.0\n",
       " 0.0"
      ]
     },
     "execution_count": 58,
     "metadata": {},
     "output_type": "execute_result"
    }
   ],
   "source": [
    "velocity_range(state, left_j1)\n",
    "velocity(state, joint_bw)"
   ]
  },
  {
   "cell_type": "code",
   "execution_count": 54,
   "metadata": {},
   "outputs": [
    {
     "data": {
      "text/plain": [
       "m_control! (generic function with 1 method)"
      ]
     },
     "execution_count": 54,
     "metadata": {},
     "output_type": "execute_result"
    }
   ],
   "source": [
    "# get joint handles, and build a null controller\n",
    "function m_control!(torques::AbstractVector, t, state::MechanismState)\n",
    "    torques[velocity_range(state, left_j1)] .= 1.0\n",
    "    torques[velocity_range(state, left_j2)] .= 0\n",
    "    torques[velocity_range(state, left_j3)] .= 0\n",
    "    torques[velocity_range(state, right_j1)] .= 0\n",
    "    torques[velocity_range(state, right_j2)] .= 0\n",
    "    torques[velocity_range(state, right_j3)] .= 0\n",
    "end"
   ]
  },
  {
   "cell_type": "code",
   "execution_count": 55,
   "metadata": {},
   "outputs": [],
   "source": [
    "# set intial condition\n",
    "zero_velocity!(state)\n",
    "set_configuration!(state, left_j1, 0.1)\n",
    "set_configuration!(state, left_j2, 0.2)\n",
    "set_configuration!(state, left_j3, 0.1)\n",
    "set_configuration!(state, right_j1, 0.1)\n",
    "set_configuration!(state, right_j2, 0.2)\n",
    "set_configuration!(state, right_j3, 0.1)"
   ]
  },
  {
   "cell_type": "code",
   "execution_count": 5,
   "metadata": {},
   "outputs": [],
   "source": [
    "# begin simulation\n",
    "final_time = 10.\n",
    "ts, qs, vs = simulate(state, final_time, m_control!; Δt = 1e-3);"
   ]
  },
  {
   "cell_type": "code",
   "execution_count": null,
   "metadata": {},
   "outputs": [],
   "source": [
    "# drawing server\n",
    "using MeshCatMechanisms\n",
    "\n",
    "mvis = MechanismVisualizer(mechanism, URDFVisuals(urdf));\n",
    "open(mvis)"
   ]
  },
  {
   "cell_type": "code",
   "execution_count": null,
   "metadata": {},
   "outputs": [],
   "source": [
    "# run animation\n",
    "MeshCatMechanisms.animate(mvis, ts, qs; realtimerate = 1.);"
   ]
  }
 ],
 "metadata": {
  "kernelspec": {
   "display_name": "Julia 1.2.0",
   "language": "julia",
   "name": "julia-1.2"
  },
  "language_info": {
   "file_extension": ".jl",
   "mimetype": "application/julia",
   "name": "julia",
   "version": "1.2.0"
  }
 },
 "nbformat": 4,
 "nbformat_minor": 2
}
