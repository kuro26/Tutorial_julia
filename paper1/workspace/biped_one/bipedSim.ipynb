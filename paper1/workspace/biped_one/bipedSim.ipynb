{
 "cells": [
  {
   "cell_type": "code",
   "execution_count": 15,
   "metadata": {},
   "outputs": [],
   "source": [
    "using RigidBodyDynamics\n",
    "using Rotations"
   ]
  },
  {
   "cell_type": "code",
   "execution_count": 11,
   "metadata": {},
   "outputs": [
    {
     "data": {
      "text/plain": [
       "loadModel (generic function with 2 methods)"
      ]
     },
     "execution_count": 11,
     "metadata": {},
     "output_type": "execute_result"
    }
   ],
   "source": [
    "# ----------------------------------\n",
    "# 1. load the model\n",
    "# 2. add contact point\n",
    "# 3. add halfspace\n",
    "# 4. return mechanism\n",
    "# ----------------------------------\n",
    "function loadModel(urdf_path)\n",
    "    mechanism = parse_urdf(urdf_path, floating=true)\n",
    "    # add contact\n",
    "    Nmdl = RigidBodyDynamics.Contact.hunt_crossley_hertz()          # 法向碰撞模型\n",
    "    Fmdl = RigidBodyDynamics.Contact.ViscoelasticCoulombModel(0.3, 30e3,0.3)     # 摩擦模型，库伦\n",
    "    scm = RigidBodyDynamics.Contact.SoftContactModel(Nmdl, Fmdl)    # Soft Contact Model\n",
    "    lbd, rbd = bodies(mechanism)[7:8]   # left body, right body\n",
    "    \n",
    "    lp = Point3D(default_frame(lbd), 0.0, 0.0, -0.525)   # 硬编码的尺寸，手动捂脸\n",
    "    rp = Point3D(default_frame(rbd), 0.0, 0.0, -0.525)\n",
    "    \n",
    "    lcp =  RigidBodyDynamics.Contact.ContactPoint(lp, scm)   # contact point with model\n",
    "    rcp =  RigidBodyDynamics.Contact.ContactPoint(rp, scm)\n",
    "    add_contact_point!(bodies(mechanism)[7], lcp)\n",
    "    add_contact_point!(bodies(mechanism)[8], rcp)\n",
    "    \n",
    "    # add halfspace env\n",
    "    frame = default_frame(bodies(mechanism)[1])\n",
    "    point = Point3D(frame, 0.0, 0.0, 0.0)\n",
    "    normal = FreeVector3D(frame, 0., 0., 1.)\n",
    "    halfspace = RigidBodyDynamics.Contact.HalfSpace3D(point, normal)\n",
    "    push!(mechanism.environment.halfspaces, halfspace)\n",
    "    \n",
    "    return mechanism\n",
    "end"
   ]
  },
  {
   "cell_type": "code",
   "execution_count": 5,
   "metadata": {},
   "outputs": [],
   "source": [
    "# 2. pid controller\n",
    "\n",
    "\n"
   ]
  },
  {
   "cell_type": "code",
   "execution_count": 78,
   "metadata": {},
   "outputs": [
    {
     "data": {
      "text/plain": [
       "setInitialState! (generic function with 1 method)"
      ]
     },
     "execution_count": 78,
     "metadata": {},
     "output_type": "execute_result"
    }
   ],
   "source": [
    "# 3. robot initial status\n",
    "# s0j，初始关节状态向量\n",
    "# s0b，初始body，绕y轴旋转角度，高度\n",
    "function setInitialState!(state, mech, s0j, v0j, s0b, v0b)\n",
    "    joint_set = joints(mech)\n",
    "    # set initial floating state\n",
    "    rot = RotXYZ{Float64}(0.0, s0b[1], 0.0)       # 旋转\n",
    "    quat = convert(Quat{Float64}, rot)\n",
    "    set_configuration!(state, joint_set[1], [quat.w, quat.x, quat.y, quat.z, 0.0, 0.0, s0b[2]])\n",
    "#     rotv = RotXYZ{Float64}(0.0, v0b[1], 0.0)\n",
    "#     quatv = convert(Quat{Float64}, rotv)\n",
    "#     set_velocity!(state, joint_set[1], [quatv.w, quatv.x, quatv.y, quatv.z, v0b[1], v0b[2], 0.0])\n",
    "    set_velocity!(state, joint_set[1], [0.0, v0b[1], 0.0, v0b[2], v0b[3], 0.0])\n",
    "    \n",
    "    # set initial joint state\n",
    "    for i in 2:7\n",
    "        set_configuration!(state, joint_set[i], s0j[i-1])\n",
    "        set_velocity!(state, joint_set[i], v0j[i-1])\n",
    "    end\n",
    "end"
   ]
  },
  {
   "cell_type": "code",
   "execution_count": 97,
   "metadata": {},
   "outputs": [
    {
     "data": {
      "text/plain": [
       "biped_run_controller! (generic function with 1 method)"
      ]
     },
     "execution_count": 97,
     "metadata": {},
     "output_type": "execute_result"
    }
   ],
   "source": [
    "# -------------------------------------\n",
    "# 4. robot force control\n",
    "# torques顺序[1~6,body-world],[7, left_j1], [8, right_j1], [9, left_j2]...\n",
    "# torques[7] = 1， 给左腿关节赋值\n",
    "# \n",
    "# -------------------------------------\n",
    "# global vars\n",
    "left_contact_out = []\n",
    "right_contact_out = []\n",
    "\n",
    "function biped_run_controller!(torques::AbstractVector, t, state::MechanismState)\n",
    "    for i in 1:length(torques)\n",
    "        torques[i] = 0\n",
    "    end\n",
    "    # 获取接触信息(if contact. which one on contact)\n",
    "    append!(left_contact_out, [t, state.contact_states[BodyID(7)]])\n",
    "    append!(right_contact_out, state.contact_states[BodyID(8)])\n",
    "    # 获取当前状态，并实时规划\n",
    "\n",
    "    # 优化算法+PD输出\n",
    "\n",
    "end"
   ]
  },
  {
   "cell_type": "code",
   "execution_count": 8,
   "metadata": {},
   "outputs": [
    {
     "data": {
      "text/plain": [
       "biped_walk_controller! (generic function with 1 method)"
      ]
     },
     "execution_count": 8,
     "metadata": {},
     "output_type": "execute_result"
    }
   ],
   "source": [
    "function biped_walk_controller!(torques::AbstractVector, t, state::MechanismState)\n",
    "    for i in 1:length(torques)\n",
    "        torques[i] = 0\n",
    "    end\n",
    "    append!(sin_out, sin(t))   # 测试能否输出，虽然比较蠢\n",
    "    # 获取接触信息\n",
    "    append!(contact_out, state.contact_states[BodyID(2)])\n",
    "end"
   ]
  },
  {
   "cell_type": "code",
   "execution_count": 9,
   "metadata": {},
   "outputs": [],
   "source": [
    "# 5. 轨迹规划\n",
    "# ***************************************************************\n",
    "# 说明：\n",
    "#    a. 处于空中&没有规划==>触发规划\n",
    "#    b. 获取轨迹随时间的曲线\n",
    "#    c. 输出\n",
    "\n",
    "# 6. 优化"
   ]
  },
  {
   "cell_type": "code",
   "execution_count": 98,
   "metadata": {},
   "outputs": [],
   "source": [
    "# -----------------------------------\n",
    "# 6. 仿真主程序\n",
    "# -----------------------------------\n",
    "urdf_path = \"../urdf/biped_No1.urdf\"\n",
    "mechanism = loadModel(urdf_path)\n",
    "state = MechanismState(mechanism)     # 创建运行时数据存储\n",
    "body_s0 = [pi/10, 2.0]       # body: ry, z0\n",
    "body_v0 = [0.0, 1.0, 0.0]    # body: wy, vx, vy\n",
    "#           l1,  r1,  l2,  r2,  l3,  r3\n",
    "joint_s0 = [0.0, 0.0, 0.0, 0.0, 0.0, 0.0]\n",
    "joint_v0 = [0.0, 0.0, 0.0, 0.0, 0.0, 0.0]\n",
    "setInitialState!(state, mechanism, joint_s0, joint_v0, body_s0, body_v0)\n",
    "final_time = 5.0\n",
    "ts, qs, vs = simulate(state, final_time, biped_run_controller!; Δt = 1e-5);"
   ]
  },
  {
   "cell_type": "code",
   "execution_count": 39,
   "metadata": {},
   "outputs": [
    {
     "name": "stderr",
     "output_type": "stream",
     "text": [
      "┌ Info: Serving MeshCat visualizer at http://127.0.0.1:8701\n",
      "└ @ MeshCat /home/kuro/.julia/packages/MeshCat/GMobF/src/servers.jl:24\n"
     ]
    },
    {
     "data": {
      "text/plain": [
       "Process(`\u001b[4mxdg-open\u001b[24m \u001b[4mhttp://127.0.0.1:8701\u001b[24m`, ProcessExited(0))"
      ]
     },
     "execution_count": 39,
     "metadata": {},
     "output_type": "execute_result"
    },
    {
     "name": "stderr",
     "output_type": "stream",
     "text": [
      "Fontconfig warning: \"/etc/fonts/fonts.conf\", line 100: unknown element \"blank\"\n"
     ]
    },
    {
     "name": "stdout",
     "output_type": "stream",
     "text": [
      "正在现有的浏览器会话中打开。\n"
     ]
    },
    {
     "name": "stderr",
     "output_type": "stream",
     "text": [
      "[6197:6218:1021/143711.355717:ERROR:browser_process_sub_thread.cc(209)] Waited 35 ms for network service\n"
     ]
    }
   ],
   "source": [
    "using MeshCatMechanisms\n",
    "mvis = MechanismVisualizer(mechanism, URDFVisuals(urdf_path));\n",
    "open(mvis)"
   ]
  },
  {
   "cell_type": "markdown",
   "metadata": {},
   "source": [
    "#### 绘制动画"
   ]
  },
  {
   "cell_type": "code",
   "execution_count": 90,
   "metadata": {},
   "outputs": [],
   "source": [
    "select = 1:Int64(round(length(ts)/5))\n",
    "MeshCatMechanisms.animate(mvis, ts[select], qs[select]; realtimerate = 0.3);"
   ]
  },
  {
   "cell_type": "code",
   "execution_count": 102,
   "metadata": {},
   "outputs": [
    {
     "data": {
      "text/plain": [
       "2-element Array{Any,1}:\n",
       " 5.0e-6                                                                                                                                                                                                                                                                                                                                                                                                                                                                                                                                                                         \n",
       "  Array{RigidBodyDynamics.Contact.SoftContactState{Nothing,RigidBodyDynamics.Contact.ViscoelasticCoulombState{SubArray{Float64,1,Array{Float64,1},Tuple{UnitRange{Int64}},true}}},1}[[RigidBodyDynamics.Contact.SoftContactState{Nothing,RigidBodyDynamics.Contact.ViscoelasticCoulombState{SubArray{Float64,1,Array{Float64,1},Tuple{UnitRange{Int64}},true}}}(nothing, RigidBodyDynamics.Contact.ViscoelasticCoulombState{SubArray{Float64,1,Array{Float64,1},Tuple{UnitRange{Int64}},true}}(FreeVector3D in \"world\": [0.0003009615562030784, 5.2461912197792595e-17, 0.0]))]]"
      ]
     },
     "execution_count": 102,
     "metadata": {},
     "output_type": "execute_result"
    }
   ],
   "source": [
    "left_contact_out[3:4]"
   ]
  },
  {
   "cell_type": "code",
   "execution_count": null,
   "metadata": {},
   "outputs": [],
   "source": []
  },
  {
   "cell_type": "code",
   "execution_count": null,
   "metadata": {},
   "outputs": [],
   "source": []
  },
  {
   "cell_type": "code",
   "execution_count": null,
   "metadata": {},
   "outputs": [],
   "source": []
  }
 ],
 "metadata": {
  "kernelspec": {
   "display_name": "Julia 1.2.0",
   "language": "julia",
   "name": "julia-1.2"
  },
  "language_info": {
   "file_extension": ".jl",
   "mimetype": "application/julia",
   "name": "julia",
   "version": "1.2.0"
  }
 },
 "nbformat": 4,
 "nbformat_minor": 2
}
