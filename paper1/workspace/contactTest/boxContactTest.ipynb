{
 "cells": [
  {
   "cell_type": "code",
   "execution_count": 6,
   "metadata": {},
   "outputs": [],
   "source": [
    "using RigidBodyDynamics\n",
    "using Rotations"
   ]
  },
  {
   "cell_type": "code",
   "execution_count": 7,
   "metadata": {},
   "outputs": [
    {
     "data": {
      "text/plain": [
       "Spanning tree:\n",
       "Vertex: world (root)\n",
       "  Vertex: box, Edge: box_to_world\n",
       "No non-tree joints."
      ]
     },
     "execution_count": 7,
     "metadata": {},
     "output_type": "execute_result"
    }
   ],
   "source": [
    "urdf = \"../urdf/singleBox.urdf\"\n",
    "mechanism = parse_urdf(urdf, floating=true) "
   ]
  },
  {
   "cell_type": "code",
   "execution_count": 8,
   "metadata": {},
   "outputs": [],
   "source": [
    "# 向mechanism结构体中添加接触点\n",
    "box = bodies(mechanism)[2]        # bodies中第一个是world\n",
    "Nmdl = RigidBodyDynamics.Contact.hunt_crossley_hertz()          # 法向碰撞模型\n",
    "Fmdl = RigidBodyDynamics.Contact.ViscoelasticCoulombModel(0.3, 30e3,0.3)     # 摩擦模型，库伦\n",
    "scm = RigidBodyDynamics.Contact.SoftContactModel(Nmdl, Fmdl)    # 创建接触模型\n",
    "for i in [-0.1, 0.1]\n",
    "    for j in [-0.1, 0.1]\n",
    "        for k in [-0.1, 0.1]\n",
    "            point = Point3D(default_frame(box), i, j, k)\n",
    "            # 在刚体上添加接触点\n",
    "            cp = RigidBodyDynamics.Contact.ContactPoint(point, scm)\n",
    "            # 修改mechanism的数据结构，添加接触点\n",
    "            add_contact_point!(bodies(mechanism)[2], cp)\n",
    "        end\n",
    "    end\n",
    "end"
   ]
  },
  {
   "cell_type": "code",
   "execution_count": 9,
   "metadata": {},
   "outputs": [
    {
     "data": {
      "text/plain": [
       "1-element Array{RigidBodyDynamics.Contact.HalfSpace3D{Float64},1}:\n",
       " RigidBodyDynamics.Contact.HalfSpace3D{Float64}(Point3D in \"world\": [0.0, 0.0, 0.0], FreeVector3D in \"world\": [0.0, 0.0, 1.0])"
      ]
     },
     "execution_count": 9,
     "metadata": {},
     "output_type": "execute_result"
    }
   ],
   "source": [
    "# 添加半空间地形\n",
    "# 这里就不能自己新建frame\n",
    "frame = default_frame(bodies(mechanism)[1])\n",
    "point = Point3D(frame, 0.0, 0.0, 0.0)\n",
    "normal = FreeVector3D(frame, 0., 0., 1.)\n",
    "halfspace = RigidBodyDynamics.Contact.HalfSpace3D(point, normal)\n",
    "\n",
    "push!(mechanism.environment.halfspaces, halfspace)"
   ]
  },
  {
   "cell_type": "code",
   "execution_count": 10,
   "metadata": {},
   "outputs": [
    {
     "data": {
      "text/plain": [
       "no_control! (generic function with 1 method)"
      ]
     },
     "execution_count": 10,
     "metadata": {},
     "output_type": "execute_result"
    }
   ],
   "source": [
    "# 控制函数，嵌入到仿真的过程\n",
    "# sin_out = []\n",
    "# time_out = []\n",
    "# contact_out = []\n",
    "# 实际上默认的参数就是zeros_torque!\n",
    "function no_control!(torques::AbstractVector, t, state::MechanismState)\n",
    "    for i in 1:length(torques)\n",
    "        torques[i] = 0\n",
    "    end\n",
    "    # append!(sin_out, sin(t))   # 测试能否输出，虽然比较蠢\n",
    "    # 获取接触信息\n",
    "    # append!(contact_out, state.contact_states[BodyID(2)])\n",
    "end"
   ]
  },
  {
   "cell_type": "code",
   "execution_count": 11,
   "metadata": {},
   "outputs": [],
   "source": [
    "# box设置初始条件\n",
    "floating_joint = joints(mechanism)[1]\n",
    "state = MechanismState(mechanism)\n",
    "zero_velocity!(state)\n",
    "# 这个函数在文件mechanism_state中，因为目标是修改状态\n",
    "rot = RotXYZ{Float64}(0.2, 0.4, 0.6)\n",
    "quat = convert(Quat{Float64}, rot)\n",
    "set_configuration!(state, floating_joint, [quat.w, quat.x, quat.y, quat.z, 1.0, 1.0, 2])"
   ]
  },
  {
   "cell_type": "code",
   "execution_count": null,
   "metadata": {
    "scrolled": false
   },
   "outputs": [],
   "source": [
    "final_time = 5\n",
    "ts, qs, vs = simulate(state, final_time, no_control!; Δt = 1e-5);\n",
    "\n",
    "using MeshCatMechanisms\n",
    "mvis = MechanismVisualizer(mechanism, URDFVisuals(urdf));\n",
    "open(mvis)"
   ]
  },
  {
   "cell_type": "code",
   "execution_count": null,
   "metadata": {},
   "outputs": [],
   "source": [
    "MeshCatMechanisms.animate(mvis, ts, qs; realtimerate = 1.);"
   ]
  },
  {
   "cell_type": "code",
   "execution_count": null,
   "metadata": {},
   "outputs": [],
   "source": []
  }
 ],
 "metadata": {
  "kernelspec": {
   "display_name": "Julia 1.2.0",
   "language": "julia",
   "name": "julia-1.2"
  },
  "language_info": {
   "file_extension": ".jl",
   "mimetype": "application/julia",
   "name": "julia",
   "version": "1.2.0"
  }
 },
 "nbformat": 4,
 "nbformat_minor": 2
}
