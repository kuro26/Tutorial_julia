{
 "cells": [
  {
   "cell_type": "code",
   "execution_count": 1,
   "metadata": {},
   "outputs": [],
   "source": [
    "using DifferentialEquations, ParameterizedFunctions\n",
    "using Plots"
   ]
  },
  {
   "cell_type": "markdown",
   "metadata": {},
   "source": [
    "### 1. air situation\n",
    "状态：u = [x, y, z, vx, vy, vz]\n",
    "\n",
    "参数：p = [g, l0, α, β]"
   ]
  },
  {
   "cell_type": "code",
   "execution_count": 2,
   "metadata": {},
   "outputs": [
    {
     "data": {
      "text/plain": [
       "calc_foot_end (generic function with 1 method)"
      ]
     },
     "execution_count": 2,
     "metadata": {},
     "output_type": "execute_result"
    }
   ],
   "source": [
    "function calc_foot_end(u, p)\n",
    "    \"\"\" calculate the foot position in air \"\"\"\n",
    "    x, y, z = u[1:3]\n",
    "    l0, α, β = p[2:4]\n",
    "    x_pf = x + l0*cos(β)sin(α)\n",
    "    y_pf = y + l0*sin(β)\n",
    "    z_pf = z - l0*cos(β)cos(α)\n",
    "    return (x_pf, y_pf, z_pf)\n",
    "end"
   ]
  },
  {
   "cell_type": "code",
   "execution_count": 3,
   "metadata": {},
   "outputs": [
    {
     "data": {
      "text/plain": [
       "cond_peak (generic function with 1 method)"
      ]
     },
     "execution_count": 3,
     "metadata": {},
     "output_type": "execute_result"
    }
   ],
   "source": [
    "function diff_fun_fly!(du, u, p, t)\n",
    "    \"\"\" Differential Equations in air\"\"\"\n",
    "    x, y, z, vx, vy, vz = u\n",
    "    g = p[1]\n",
    "    du[1], du[2], du[3] = dx, dy, dz = vx, vy, vz\n",
    "    du[4], du[5], du[6] = 0.0, 0.0, -g \n",
    "end\n",
    "\n",
    "cond_contact(u, t, integrator) = calc_foot_end(u, integrator.p)[3]  # positive-->negative\n",
    "affect_contact!(integrator) = terminate!(integrator)\n",
    "cond_peak(u, t, integrator) = u[6]"
   ]
  },
  {
   "cell_type": "markdown",
   "metadata": {},
   "source": [
    "### 2. ground situation\n",
    "\n",
    "参数：p2 = [m, g, l0, k1, k2, x0, y0, z0]"
   ]
  },
  {
   "cell_type": "code",
   "execution_count": 4,
   "metadata": {},
   "outputs": [
    {
     "data": {
      "text/plain": [
       "jointForce (generic function with 1 method)"
      ]
     },
     "execution_count": 4,
     "metadata": {},
     "output_type": "execute_result"
    }
   ],
   "source": [
    "# controller\n",
    "function compressingCalc(u, p)\n",
    "    \"\"\" decide if on compressing \"\"\"\n",
    "    x, y, z, vx, vy, vz = u\n",
    "    x0, y0, z0 = p[6:8]\n",
    "    vec1 = transpose([x-x0, y-y0, z])  # ground-->mass point\n",
    "    vec2 = [vx, vy, vz]                # velocity vector\n",
    "    return vec1*vec2\n",
    "end\n",
    "function k1k2Force(u, p)\n",
    "    \"\"\" Control law1: using fixed k1, k2 model \"\"\"\n",
    "    k1, k2, x0, y0, z0 = p[4:8]\n",
    "    l0 = p[3]\n",
    "    x, y, z= u[1:3]\n",
    "    l = sqrt((x-x0)^2 + (y-y0)^2 + (z-0)^2)\n",
    "    k = compressingCalc(u, p)<=0 ? k1 : k2\n",
    "\n",
    "    fx = - k * (x - (x0 - l0*(x0-x)/l))\n",
    "    fy = - k * (y - (y0 - l0*(y0-y)/l))\n",
    "    fz = - k * (z - ( 0 - l0*(z0-z)/l))\n",
    "    return (fx, fy, fz)\n",
    "end\n",
    "function jointForce(u, p)\n",
    "    \"\"\"Calculation: k force --> joint force\"\"\"\n",
    "    k1, k2, x0, y0, z0 = p[4:8]\n",
    "    l0 = p[3]\n",
    "    x, y, z= u[1:3]\n",
    "    l = sqrt((x-x0)^2 + (y-y0)^2 + (z-0)^2)\n",
    "    k = compressingCalc(u, p)<=0 ? k1 : k2\n",
    "    kforce = k*abs(l0-l)\n",
    "    torque = kforce * sqrt(l0^2 - l^2)/2\n",
    "    return torque\n",
    "end"
   ]
  },
  {
   "cell_type": "code",
   "execution_count": 5,
   "metadata": {},
   "outputs": [
    {
     "data": {
      "text/plain": [
       "cond_leave (generic function with 1 method)"
      ]
     },
     "execution_count": 5,
     "metadata": {},
     "output_type": "execute_result"
    }
   ],
   "source": [
    "function diff_fun_support!(du, u, p, t)\n",
    "    \"\"\" Differential Equations on ground \"\"\"\n",
    "    m, g = p[1:2]\n",
    "    x, y, z, vx, vy, vz = u\n",
    "    \n",
    "    fx, fy, fz = k1k2Force(u, p)          # force specification\n",
    "    ax, ay, az = fx/m, fy/m, (fz-m*g)/m\n",
    "    du[1], du[2], du[3] = vx, vy, vz\n",
    "    du[4], du[5], du[6] = ax, ay, az\n",
    "end\n",
    "\n",
    "function cond_compressed(u, t, integrator)\n",
    "    x, y, z, vx, vy, vz = u\n",
    "    x0, y0, z0 = integrator.p[6:8]\n",
    "    vec1 = transpose([x-x0, y-y0, z])  # ground-->mass point\n",
    "    vec2 = [vx, vy, vz]                # velocity vector\n",
    "    return vec1*vec2                   # negative-->positive\n",
    "end\n",
    "\n",
    "function cond_leave(u, t, integrator)\n",
    "    \"\"\" Condition: Leave ground \"\"\"\n",
    "    x, y, z = u[1:3]\n",
    "    x0, y0, z0 = integrator.p[6:8]\n",
    "    l = sqrt((x-x0)^2 + (y-y0)^2 + (z-z0)^2)\n",
    "    return (l - integrator.p[3])\n",
    "end"
   ]
  },
  {
   "cell_type": "markdown",
   "metadata": {},
   "source": [
    "### 3. 综合\n",
    "初始条件：s0 = [z0, vx0, vy0]\n",
    "\n",
    "控制器条件：ctrl = [[α, β, k1, k2]]\n",
    "\n",
    "返回值：有效轨迹，足地接触点"
   ]
  },
  {
   "cell_type": "code",
   "execution_count": 6,
   "metadata": {},
   "outputs": [
    {
     "name": "stderr",
     "output_type": "stream",
     "text": [
      "┌ Warning: special characters \"#{}()[]<>|&*?~;\" should now be quoted in commands\n",
      "│   caller = #shell_parse#353(::String, ::typeof(Base.shell_parse), ::String, ::Bool) at shell.jl:100\n",
      "└ @ Base ./shell.jl:100\n"
     ]
    },
    {
     "data": {
      "text/plain": [
       "cycleCalc (generic function with 1 method)"
      ]
     },
     "execution_count": 6,
     "metadata": {},
     "output_type": "execute_result"
    }
   ],
   "source": [
    "function cycleCalc(m, l0, s0, ctrl)\n",
    "    α, β, k1, k2 = ctrl\n",
    "    z0, vx0, vy0 = s0\n",
    "    u0 = [0.0, 0.0, z0, vx0, vy0, 0.0]\n",
    "    tspan = (0.0, 4.0)\n",
    "    p1 = (9.8, l0, α, β, k1, k2)\n",
    "    ```------------------------------------------------------\n",
    "    segment1, air-->contact\n",
    "    the initial foot positon is not supposed to be underground!\n",
    "    ---------------------------------------------------------```\n",
    "    if(calc_foot_end(u0, p1)[3] <= 0)           # check\n",
    "        return ([], [], [])\n",
    "    end\n",
    "    \n",
    "    prob = ODEProblem(diff_fun_fly!, u0, tspan, p1)\n",
    "    cb = ContinuousCallback(cond_contact, affect_contact!)\n",
    "    sol1 = solve(prob, Tsit5(), callback=cb, saveat = 0.01)\n",
    "    \n",
    "    ```------------------------------------------------------\n",
    "    segment2, compressing\n",
    "    if segment1 end with opposite velocity, simulation may get wired!\n",
    "    --------------------------------------------------------```\n",
    "    u0 = sol1.u[end]    \n",
    "    foot_p = calc_foot_end(u0, p1)\n",
    "    p2 = [m, 9.8, l0, k1, k2, foot_p...]\n",
    "    if(compressingCalc(u0, p2) >= 0)\n",
    "        return ([sol1, foot_p])               # check\n",
    "    end\n",
    "    \n",
    "    prob = ODEProblem(diff_fun_support!, u0, tspan, p2)\n",
    "    cb = ContinuousCallback(cond_compressed, terminate!)\n",
    "    sol2 = solve(prob, Tsit5(), callback=cb, saveat = 0.01)\n",
    "\n",
    "    ```-----------------------------------------------------\n",
    "    segment3, thrusting\n",
    "    compressing should not be too much! small k\n",
    "    ------------------------------------------------------```\n",
    "    u0, p3 = sol2.u[end], p2\n",
    "    if(u0[3] <= 0)\n",
    "        return ([sol1, sol2,], foot_p)\n",
    "    end\n",
    "    prob = ODEProblem(diff_fun_support!, u0, tspan, p3)\n",
    "    cb = ContinuousCallback(cond_leave, terminate!, abstol=1e-9)\n",
    "    sol3 = solve(prob, Tsit5(), callback=cb, saveat = 0.01)\n",
    "    \n",
    "    ```-----------------------------------------------------\n",
    "    segment4, air up\n",
    "    thrusting initial z velocity shou be positive\n",
    "    ------------------------------------------------------```\n",
    "    u0, p4 = sol3.u[end], p1\n",
    "    if(u0[6] <= 0)\n",
    "        return ([sol1, sol2, sol3,], foot_p)\n",
    "    end\n",
    "    \n",
    "    prob = ODEProblem(diff_fun_fly!, u0, tspan, p4)\n",
    "    cb = ContinuousCallback(cond_peak, terminate!)\n",
    "    sol4 = solve(prob, Tsit5(), callback=cb, saveat = 0.01)\n",
    "    \n",
    "    return ([sol1, sol2, sol3, sol4], foot_p, [p1, p2, p3, p4])\n",
    "end"
   ]
  },
  {
   "cell_type": "code",
   "execution_count": 7,
   "metadata": {},
   "outputs": [
    {
     "data": {
      "text/plain": [
       "test1 (generic function with 1 method)"
      ]
     },
     "execution_count": 7,
     "metadata": {},
     "output_type": "execute_result"
    }
   ],
   "source": [
    "pyplot(leg=false, ticks=nothing)\n",
    "function test1(p)\n",
    "    m , l0, s0, ctrl = p\n",
    "    sol, foot_p, _ = cycleCalc(m, l0, s0, ctrl)\n",
    "    sol1, sol2, sol3, sol4 = sol\n",
    "    x1, y1, z1 = [u[1] for u in sol1.u], [u[2] for u in sol1.u], [u[3] for u in sol1.u]\n",
    "    x2, y2, z2 = [u[1] for u in sol2.u], [u[2] for u in sol2.u], [u[3] for u in sol2.u]\n",
    "    x3, y3, z3 = [u[1] for u in sol3.u], [u[2] for u in sol3.u], [u[3] for u in sol3.u]\n",
    "    x4, y4, z4 = [u[1] for u in sol4.u], [u[2] for u in sol4.u], [u[3] for u in sol4.u]\n",
    "    p = plot3d(x1, y1, z1, color=[:red,])\n",
    "    plot3d!(x2, y2, z2, color=[:green,])\n",
    "    plot3d!(x3, y3, z3, color=[:blue,])\n",
    "    plot3d!(x4, y4, z4, color=[:red,])\n",
    "    plot3d!([0,foot_p[1]], [0,foot_p[2]], [0,foot_p[3]], seriestype=:scatter)\n",
    "    plot3d!([0, 1], [0, 0], [0, 0], color=[:red,])\n",
    "    plot3d!([0, 0], [0, 1], [0, 0], color=[:green,])\n",
    "    plot3d!([0, 0], [0, 0], [0, 1], color=[:blue,])\n",
    "    xlabel!(p,\"x\")\n",
    "    @gif for i in range(0, stop = 2π, length = 100)\n",
    "        plot!(p, camera=(30*cos(i), 40)) # , aspect_ratio=:equal， 3D绘图好像不能设置这个\n",
    "    end\n",
    "end\n",
    "\n",
    "# Test\n",
    "p1 = (20, 0.8, [1.0, 1.0, 0.2], [pi/8, pi/9, 1e3, 1e3])\n",
    "p2 = (20, 0.8, [0.9, 1.0, 0.0], [pi/18, pi/18, 1e4, 1e4])\n",
    "test1(p2)"
   ]
  },
  {
   "cell_type": "markdown",
   "metadata": {},
   "source": [
    "\n"
   ]
  },
  {
   "cell_type": "markdown",
   "metadata": {},
   "source": [
    "### 4. cost函数设计\n",
    "在当前的设计下，参数主要是，初始条件（高度，速度），期望的终点条件（高度，速度），着地角度，以及两个k。需要考虑的性能主要包括：\n",
    "1. 腿部的出力，出力应该映射到实际的关节设计上\n",
    "2. 目标的达成情况，应该尽量达到期望的条件，但不强求\n",
    "3. 插一个话题：可能这一个周期是能达到期望的条件，但以期望的条件为起点可能很难达到稳定的运行状态（问题）\n",
    "4. 尽管失败的状态是不能达到期望的，我们还是应该在仿真阶段直接去掉这些样本\n",
    "\n",
    "神经网络的设计应该是，输入<初始状态，期望状态>，输出一个控制参数，我们假定在优化中能够得到足够优秀的参数方案，也就是说在当前的条件下想要达到目标状态，这就已经是最佳方案了，因此我们可以直接用这些参数来进行设计，而我们同时也可以训练一个状态评价网络，这个网络用于制定目标状态；认为这种simplified结合神经网络以及传统算法将能够达到非常好的效果\n",
    "\n",
    "考虑第一层的优化，优化的目标是首要稳定，其次接近目标状态，最后是出力优化，所谓的Multi-layer应该怎么处理？这里是一个非线性优化问题，并且需要构造一个[参数-->值]的函数"
   ]
  },
  {
   "cell_type": "code",
   "execution_count": 11,
   "metadata": {},
   "outputs": [
    {
     "data": {
      "text/plain": [
       "evalSolution (generic function with 1 method)"
      ]
     },
     "execution_count": 11,
     "metadata": {},
     "output_type": "execute_result"
    }
   ],
   "source": [
    "# 怎么确定惩罚的量级问题，以及怎么设计惩罚函数的问题\n",
    "eff = 1000\n",
    "cost1_func(x) = eff .*(1 .- exp.(x))\n",
    "function evalSolution(sol, target, p)\n",
    "    p1, p2, p3, p4 = p\n",
    "    # 1. fail\n",
    "    cost1 = 0;\n",
    "    if(size(sol)==3)\n",
    "        cost1 = cost1_func(sol[3].u[end][6])\n",
    "    elseif(size(sol)==2)\n",
    "        cost1 = cost1_func(sol[2].u[end][3]) + eff\n",
    "    elseif(size(sol)==1)\n",
    "        cost1 = cost_func(compressingCalc(sol[1].u[end], p2)) + 2*eff\n",
    "    elseif(size(sol)==0)\n",
    "        cost1 = cost_func(calc_foot_end(sol[1].u[1], p1)[3]) + 3*eff\n",
    "    else\n",
    "        cost1 = 0.0\n",
    "    end\n",
    "    # 2. target reached, distance cost\n",
    "    sol1, sol2, sol3, sol4 = sol\n",
    "    real_end = sol4.u[end][3:5]\n",
    "    err = real_end - target\n",
    "    cost2 = err[1]^2 + err[2]^2 + err[3]^2\n",
    "    \n",
    "    # 3. joint force cost\n",
    "    # recommond district, capble district, unreachable district\\\n",
    "    # first not, because we dont know the real range!\n",
    "    Tacc = 0\n",
    "    torque_1 = jointForce(sol2.u[1], p2)\n",
    "    for i in 1:length(sol2.t)-1\n",
    "        torque = jointForce(sol2.u[i+1], p2)\n",
    "        Tacc += (torque_1 + torque)*(sol2.t[i+1] - sol2.t[i])/2\n",
    "        torque_1 = torque\n",
    "    end\n",
    "    torque_1 = jointForce(sol3.u[1], p3)\n",
    "    for i in 1:length(sol3.t)-1\n",
    "        torque = jointForce(sol3.u[i+1], p3)\n",
    "        Tacc += (torque_1 + torque)*(sol3.t[i+1] - sol3.t[i])/2\n",
    "        torque_1 = torque\n",
    "    end\n",
    "    cost3 = Tacc\n",
    "    return cost1, cost2, cost3\n",
    "end\n",
    "# Test\n",
    "p_cycle = (20, 0.8, [0.9, 1.0, 0.0], [pi/18, pi/18, 1e4, 1e4])\n",
    "m , l0, s0, ctrl = p_cycle\n",
    "sol, foot_p, p = cycleCalc(m , l0, s0, ctrl)\n",
    "evalSolution(sol, [0.9, 1.0, 0.0], p)"
   ]
  },
  {
   "cell_type": "markdown",
   "metadata": {},
   "source": [
    "### 5. 优化求解\n",
    "\n"
   ]
  },
  {
   "cell_type": "code",
   "execution_count": null,
   "metadata": {},
   "outputs": [],
   "source": []
  },
  {
   "cell_type": "code",
   "execution_count": 71,
   "metadata": {},
   "outputs": [
    {
     "data": {
      "image/png": "[encoded data removed]"
     },
     "execution_count": 71,
     "metadata": {},
     "output_type": "execute_result"
    }
   ],
   "source": [
    "h1 = -10:0.1:1;\n",
    "cost_seg1(x) = 1000 .*(1 .- exp.(x))\n",
    "y = cost_seg1(h1)\n",
    "index = findall(x->x<0, y)\n",
    "y[index] = zeros(length(index))\n",
    "plot(h1, y)"
   ]
  },
  {
   "cell_type": "code",
   "execution_count": null,
   "metadata": {},
   "outputs": [],
   "source": []
  },
  {
   "cell_type": "code",
   "execution_count": null,
   "metadata": {
    "scrolled": true
   },
   "outputs": [],
   "source": []
  },
  {
   "cell_type": "code",
   "execution_count": null,
   "metadata": {},
   "outputs": [],
   "source": []
  },
  {
   "cell_type": "code",
   "execution_count": null,
   "metadata": {},
   "outputs": [],
   "source": []
  }
 ],
 "metadata": {
  "kernelspec": {
   "display_name": "Julia 1.2.0",
   "language": "julia",
   "name": "julia-1.2"
  },
  "language_info": {
   "file_extension": ".jl",
   "mimetype": "application/julia",
   "name": "julia",
   "version": "1.2.0"
  }
 },
 "nbformat": 4,
 "nbformat_minor": 2
}
