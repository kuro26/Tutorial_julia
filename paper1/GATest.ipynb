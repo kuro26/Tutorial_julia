{
 "cells": [
  {
   "cell_type": "markdown",
   "metadata": {},
   "source": [
    "### episode 1\n",
    "函数：$f(x)=x+10sin(5x)+7cos(4x)$"
   ]
  },
  {
   "cell_type": "code",
   "execution_count": null,
   "metadata": {},
   "outputs": [],
   "source": [
    "# 种群数量，编码长度，交叉率，变异率，最大代，上限，下限\n",
    "NP, L, Pc, Pm, G, Xs,  Xx = 50, 20, 0.8, 0.1, 100, Xs, Xx\n",
    "f = "
   ]
  }
 ],
 "metadata": {
  "kernelspec": {
   "display_name": "Julia 1.2.0",
   "language": "julia",
   "name": "julia-1.2"
  },
  "language_info": {
   "file_extension": ".jl",
   "mimetype": "application/julia",
   "name": "julia",
   "version": "1.2.0"
  }
 },
 "nbformat": 4,
 "nbformat_minor": 2
}
