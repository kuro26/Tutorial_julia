{
 "cells": [
  {
   "cell_type": "markdown",
   "metadata": {},
   "source": [
    "### episode 1\n",
    "函数：$f(x)=x+10sin(5x)+7cos(4x)$"
   ]
  },
  {
   "cell_type": "code",
   "execution_count": 1,
   "metadata": {},
   "outputs": [
    {
     "data": {
      "text/plain": [
       "fitFunCalc (generic function with 1 method)"
      ]
     },
     "execution_count": 1,
     "metadata": {},
     "output_type": "execute_result"
    }
   ],
   "source": [
    "function fitFunCalc(x)\n",
    "    return x + 10*sin(5*x)+7*cos(4*x)\n",
    "end"
   ]
  },
  {
   "cell_type": "code",
   "execution_count": 30,
   "metadata": {},
   "outputs": [
    {
     "data": {
      "text/plain": [
       "seriesCalc (generic function with 1 method)"
      ]
     },
     "execution_count": 30,
     "metadata": {},
     "output_type": "execute_result"
    }
   ],
   "source": [
    "# 将序列转化成对应范围内的数\n",
    "function series2Number(s, r_max, r_min)\n",
    "    num = 0\n",
    "    for i in 1:length(s)\n",
    "        num = num*2 + s[i]\n",
    "    end\n",
    "#     println(num)\n",
    "#     println(2^length(s))\n",
    "    return r_min + (r_max-r_min) * num / 2^length(s)\n",
    "end\n",
    "function seriesCalc(ge, r_max, r_min)\n",
    "    sz = size(ge)\n",
    "    x = zeros(sz[1])\n",
    "    y = zeros(sz[1])\n",
    "    for i in 1:sz[1]\n",
    "        x[i] = series2Number(ge[i, :], r_max, r_min)\n",
    "        y[i] = fitFunCalc(x[i])\n",
    "    end\n",
    "    return x, y\n",
    "end"
   ]
  },
  {
   "cell_type": "code",
   "execution_count": 3,
   "metadata": {},
   "outputs": [
    {
     "data": {
      "text/plain": [
       "selectAndGenerate (generic function with 1 method)"
      ]
     },
     "execution_count": 3,
     "metadata": {},
     "output_type": "execute_result"
    }
   ],
   "source": [
    "# select good ones\n",
    "function selectAndGenerate(ge, r_max, r_min)\n",
    "    sz = size(ge)\n",
    "    # 1. 计算值序列\n",
    "    num, fitValue = seriesCalc(ge, r_max, r_min)\n",
    "    \n",
    "    # 2. 归一化\n",
    "    maxFit, maxIdx = findmax(fitValue)    # 只会返回第一个最大\n",
    "    minFit, minIdx = findmin(fitValue)\n",
    "    geBest = ge[maxIdx, :]\n",
    "    fitBest = fitValue[maxIdx]\n",
    "    fitValue = (fitValue .- minFit)./(maxFit-minFit)\n",
    "    \n",
    "    # 3. 轮盘赌替换,生成新一代\n",
    "    fv = fitValue./sum(fitValue)         # 使得和为1\n",
    "    fv = cumsum(fv)                       # 生成序列\n",
    "    sel = sort(rand(sz[1]))              # 生成选择序列\n",
    "    nge = zeros(sz)\n",
    "    newi, fiti = 1, 1\n",
    "    while newi < sz[1]\n",
    "        if(sel[newi]<fv[fiti])\n",
    "            nge[newi, :] = ge[fiti, :]\n",
    "            newi += 1\n",
    "        else\n",
    "            fiti += 1\n",
    "        end\n",
    "    end\n",
    "    return nge, geBest, fitBest\n",
    "end"
   ]
  },
  {
   "cell_type": "markdown",
   "metadata": {},
   "source": [
    "`怎么来理解交叉的影响？`<br />\n",
    "`解答`：在进化的过程中，高位决定了大范围的分布情况，这些数据会大致判断一下当前所处区域的好坏，在多次淘汰后，一些不太好的区域就被淘汰掉，而这高位的基因也开始趋同"
   ]
  },
  {
   "cell_type": "code",
   "execution_count": 4,
   "metadata": {},
   "outputs": [
    {
     "data": {
      "text/plain": [
       "geneCross! (generic function with 1 method)"
      ]
     },
     "execution_count": 4,
     "metadata": {},
     "output_type": "execute_result"
    }
   ],
   "source": [
    "# this function only switch the neighbor\n",
    "function geneCross!(ge, Pc)\n",
    "    sz = size(ge)\n",
    "    for i in 1:2:sz[1]\n",
    "        # decide if having cross operation\n",
    "        if rand() < Pc\n",
    "            select = round.(rand(sz[2]))\n",
    "            for j in 1:length(select)\n",
    "                if select[j]>0\n",
    "                    tmp = ge[i, j]; ge[i, j] = ge[i+1, j]; \n",
    "                    ge[i+1, j] = tmp;\n",
    "                end\n",
    "            end\n",
    "        end\n",
    "    end\n",
    "end\n",
    "# test\n",
    "# 基于概率的不太容易测试"
   ]
  },
  {
   "cell_type": "markdown",
   "metadata": {},
   "source": [
    "`变异在搜索过程中的影响`<br />\n",
    "`解答`：尽量去搜索更多的区域，尽量得到全局的解，但变异的速度显然比不上淘汰的同化，不改变我认为这是低效算法的看法"
   ]
  },
  {
   "cell_type": "code",
   "execution_count": 5,
   "metadata": {},
   "outputs": [
    {
     "data": {
      "text/plain": [
       "geneVariation! (generic function with 1 method)"
      ]
     },
     "execution_count": 5,
     "metadata": {},
     "output_type": "execute_result"
    }
   ],
   "source": [
    "# this kind of Algorithm dont need to be so accurate\n",
    "function geneVariation!(ge, Pm)\n",
    "    for i in 1: size(ge)[1]\n",
    "        for j in 1:size(ge)[2]\n",
    "            if rand() < Pm\n",
    "                ge[i, j] = ge[i, j]>0 ? 0 : 1;\n",
    "            end\n",
    "        end\n",
    "    end\n",
    "end"
   ]
  },
  {
   "cell_type": "markdown",
   "metadata": {},
   "source": [
    "#### 计算\n",
    "对这种"
   ]
  },
  {
   "cell_type": "code",
   "execution_count": 49,
   "metadata": {},
   "outputs": [
    {
     "name": "stderr",
     "output_type": "stream",
     "text": [
      "┌ Info: Saved animation to \n",
      "│   fn = /home/kuro/julia/Tutorial_julia/paper1/anim_fps1.gif\n",
      "└ @ Plots /home/kuro/.julia/packages/Plots/Iuc9S/src/animation.jl:95\n"
     ]
    },
    {
     "data": {
      "text/html": [
       "<img src=\"anim_fps1.gif\" />"
      ],
      "text/plain": [
       "Plots.AnimatedGif(\"/home/kuro/julia/Tutorial_julia/paper1/anim_fps1.gif\")"
      ]
     },
     "execution_count": 49,
     "metadata": {},
     "output_type": "execute_result"
    }
   ],
   "source": [
    "using Plots\n",
    "# 种群数量，编码长度，交叉率，变异率，最大代，上限，下限\n",
    "NP, L, Pc, Pm, G, Xs,  Xx = 30, 20, 0.6, 0.05, 30, 10.0, 0.0;\n",
    "ge = Int8.(round.(rand(NP, L)));\n",
    "cur_x = 0:0.02:10\n",
    "cur_y = fitFunCalc.(cur_x)\n",
    "anim = @animate for i in 1:G\n",
    "    global ge\n",
    "    plot(cur_x, cur_y)\n",
    "    x, y = seriesCalc(ge, Xs, Xx)\n",
    "    plot!(x, y, seriestype=:scatter, title=string(i))\n",
    "    nge, geBest, fitBest = selectAndGenerate(ge, Xs, Xx)\n",
    "    geneCross!(nge, Pc)\n",
    "    geneVariation!(nge, Pm)\n",
    "    ge = nge\n",
    "    ge[1, :] = geBest     # 保留上一步的最佳解\n",
    "end\n",
    "gif(anim, \"anim_fps1.gif\", fps = 1)"
   ]
  },
  {
   "cell_type": "markdown",
   "metadata": {},
   "source": [
    "### episode 2 TSP问题\n",
    "这应该算是一个典型的应用场景了"
   ]
  },
  {
   "cell_type": "code",
   "execution_count": null,
   "metadata": {},
   "outputs": [],
   "source": []
  },
  {
   "cell_type": "code",
   "execution_count": null,
   "metadata": {},
   "outputs": [],
   "source": []
  },
  {
   "cell_type": "code",
   "execution_count": null,
   "metadata": {},
   "outputs": [],
   "source": []
  },
  {
   "cell_type": "code",
   "execution_count": null,
   "metadata": {},
   "outputs": [],
   "source": []
  }
 ],
 "metadata": {
  "kernelspec": {
   "display_name": "Julia 1.2.0",
   "language": "julia",
   "name": "julia-1.2"
  },
  "language_info": {
   "file_extension": ".jl",
   "mimetype": "application/julia",
   "name": "julia",
   "version": "1.2.0"
  }
 },
 "nbformat": 4,
 "nbformat_minor": 2
}
