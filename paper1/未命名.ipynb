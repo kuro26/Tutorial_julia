{
 "cells": [
  {
   "cell_type": "markdown",
   "metadata": {},
   "source": [
    "### Diff\n",
    "this is the file for DifferentialEquations<br />\n",
    "\n",
    "主要的目标包括：\n",
    "1. 事件\n",
    "2. 精度\n",
    "3. 步长\n",
    "\n",
    "ref：http://docs.juliadiffeq.org/latest/features/callback_functions.html"
   ]
  },
  {
   "cell_type": "code",
   "execution_count": null,
   "metadata": {},
   "outputs": [
    {
     "name": "stderr",
     "output_type": "stream",
     "text": [
      "\u001b[32mProgress:  90%|████████████████████████████████████▉    |  ETA: 0:00:10\u001b[39m"
     ]
    }
   ],
   "source": [
    "using Plots, ProgressMeter\n",
    "pyplot(leg=false, ticks=nothing) #change to the pyplot backend and define some defaults\n",
    "x = y = range(-5, stop = 5, length = 40)\n",
    "zs = zeros(0,40)\n",
    "n = 100\n",
    "\n",
    "# create a progress bar for tracking the animation generation\n",
    "prog = Progress(n,1)\n",
    "\n",
    "@gif for i in range(0, stop = 2π, length = n)\n",
    "    f(x,y) = sin(x + 10sin(i)) + cos(y)\n",
    "\n",
    "    # create a plot with 3 subplots and a custom layout\n",
    "    l = @layout [a{0.7w} b; c{0.2h}]\n",
    "    p = plot(x, y, f, st = [:surface, :contourf], layout=l)\n",
    "\n",
    "    # induce a slight oscillating camera angle sweep, in degrees (azimuth, altitude)\n",
    "    plot!(p[1], camera=(15*cos(i), 40))\n",
    "\n",
    "    # add a tracking line\n",
    "    fixed_x = zeros(40)\n",
    "    z = map(f, fixed_x, y)\n",
    "    plot!(p[1], fixed_x, y, z, line = (:black, 5, 0.2))\n",
    "    vline!(p[2], [0], line = (:black, 5))\n",
    "\n",
    "    # add to and show the tracked values over time\n",
    "    global zs = vcat(zs, z')\n",
    "    plot!(p[3], zs, alpha = 0.2, palette = cgrad(:blues).colors)\n",
    "\n",
    "    # increment the progress bar\n",
    "    next!(prog)\n",
    "end"
   ]
  },
  {
   "cell_type": "code",
   "execution_count": null,
   "metadata": {},
   "outputs": [],
   "source": []
  }
 ],
 "metadata": {
  "kernelspec": {
   "display_name": "Julia 1.2.0",
   "language": "julia",
   "name": "julia-1.2"
  },
  "language_info": {
   "file_extension": ".jl",
   "mimetype": "application/julia",
   "name": "julia",
   "version": "1.2.0"
  }
 },
 "nbformat": 4,
 "nbformat_minor": 2
}
