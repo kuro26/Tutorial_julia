{
 "cells": [
  {
   "cell_type": "code",
   "execution_count": 1,
   "metadata": {},
   "outputs": [],
   "source": [
    "using DifferentialEquations, ParameterizedFunctions\n",
    "using Plots\n",
    "using SharedArrays, Distributed"
   ]
  },
  {
   "cell_type": "markdown",
   "metadata": {},
   "source": [
    "### 1. air situation\n",
    "状态：u = [x, y, z, vx, vy, vz]\n",
    "\n",
    "参数：p = [g, l0, α, β]"
   ]
  },
  {
   "cell_type": "code",
   "execution_count": 2,
   "metadata": {},
   "outputs": [
    {
     "data": {
      "text/plain": [
       "calc_foot_end (generic function with 1 method)"
      ]
     },
     "execution_count": 2,
     "metadata": {},
     "output_type": "execute_result"
    }
   ],
   "source": [
    "function calc_foot_end(u, p)\n",
    "    \"\"\" calculate the foot position in air \"\"\"\n",
    "    x, y, z = u[1:3]\n",
    "    l0, α, β = p[2:4]\n",
    "    x_pf = x + l0*cos(β)sin(α)\n",
    "    y_pf = y + l0*sin(β)\n",
    "    z_pf = z - l0*cos(β)cos(α)\n",
    "    return (x_pf, y_pf, z_pf)\n",
    "end"
   ]
  },
  {
   "cell_type": "code",
   "execution_count": 3,
   "metadata": {},
   "outputs": [
    {
     "data": {
      "text/plain": [
       "cond_peak (generic function with 1 method)"
      ]
     },
     "execution_count": 3,
     "metadata": {},
     "output_type": "execute_result"
    }
   ],
   "source": [
    "function diff_fun_fly!(du, u, p, t)\n",
    "    \"\"\" Differential Equations in air\"\"\"\n",
    "    x, y, z, vx, vy, vz = u\n",
    "    g = p[1]\n",
    "    du[1], du[2], du[3] = dx, dy, dz = vx, vy, vz\n",
    "    du[4], du[5], du[6] = 0.0, 0.0, -g \n",
    "end\n",
    "\n",
    "cond_contact(u, t, integrator) = calc_foot_end(u, integrator.p)[3]  # positive-->negative\n",
    "affect_contact!(integrator) = terminate!(integrator)\n",
    "cond_peak(u, t, integrator) = u[6]"
   ]
  },
  {
   "cell_type": "markdown",
   "metadata": {},
   "source": [
    "### 2. ground situation\n",
    "\n",
    "参数：p2 = [m, g, l0, k1, k2, x0, y0, z0]"
   ]
  },
  {
   "cell_type": "code",
   "execution_count": 4,
   "metadata": {},
   "outputs": [
    {
     "data": {
      "text/plain": [
       "jointForce (generic function with 1 method)"
      ]
     },
     "execution_count": 4,
     "metadata": {},
     "output_type": "execute_result"
    }
   ],
   "source": [
    "# controller\n",
    "function compressingCalc(u, p)\n",
    "    \"\"\" decide if on compressing \"\"\"\n",
    "    x, y, z, vx, vy, vz = u\n",
    "    x0, y0, z0 = p[6:8]\n",
    "    vec1 = transpose([x-x0, y-y0, z])  # ground-->mass point\n",
    "    vec2 = [vx, vy, vz]                # velocity vector\n",
    "    return vec1*vec2\n",
    "end\n",
    "function k1k2Force(u, p)\n",
    "    \"\"\" Control law1: using fixed k1, k2 model \"\"\"\n",
    "    k1, k2, x0, y0, z0 = p[4:8]\n",
    "    l0 = p[3]\n",
    "    x, y, z= u[1:3]\n",
    "    l = sqrt((x-x0)^2 + (y-y0)^2 + (z-0)^2)\n",
    "    k = compressingCalc(u, p)<=0 ? k1 : k2\n",
    "\n",
    "    fx = - k * (x - (x0 - l0*(x0-x)/l))\n",
    "    fy = - k * (y - (y0 - l0*(y0-y)/l))\n",
    "    fz = - k * (z - ( 0 - l0*(z0-z)/l))\n",
    "    return (fx, fy, fz)\n",
    "end\n",
    "function jointForce(u, p)\n",
    "    \"\"\"Calculation: k force --> joint force\"\"\"\n",
    "    p1, p2 = p[1], p[2]\n",
    "    k1, k2, x0, y0, z0 = p2[4:8]\n",
    "    l0 = p2[3]\n",
    "    x, y, z= u[1:3]\n",
    "    l = sqrt((x-x0)^2 + (y-y0)^2 + (z-0)^2)\n",
    "    k = compressingCalc(u, p2)<=0 ? k1 : k2\n",
    "    kforce = k*abs(l0-l)\n",
    "    tmp = l0^2 - l^2\n",
    "    if tmp < 0\n",
    "        if tmp > -0.003\n",
    "            tmp = 0.0\n",
    "        else\n",
    "            # 其实在遇到这个问题的时候我不希望仿真结束，而想要记录下这个问题然后继续\n",
    "            println(\"error in mass point position:\", tmp, \", with\", [p1[3], p1[4],k1, k2])\n",
    "            tmp = 0.0\n",
    "        end\n",
    "    end\n",
    "    torque = kforce * sqrt(tmp)/2\n",
    "    return torque\n",
    "end"
   ]
  },
  {
   "cell_type": "code",
   "execution_count": 5,
   "metadata": {},
   "outputs": [
    {
     "data": {
      "text/plain": [
       "cond_leave (generic function with 1 method)"
      ]
     },
     "execution_count": 5,
     "metadata": {},
     "output_type": "execute_result"
    }
   ],
   "source": [
    "function diff_fun_support!(du, u, p, t)\n",
    "    \"\"\" Differential Equations on ground \"\"\"\n",
    "    m, g = p[1:2]\n",
    "    x, y, z, vx, vy, vz = u\n",
    "    \n",
    "    fx, fy, fz = k1k2Force(u, p)          # force specification\n",
    "    ax, ay, az = fx/m, fy/m, (fz-m*g)/m\n",
    "    du[1], du[2], du[3] = vx, vy, vz\n",
    "    du[4], du[5], du[6] = ax, ay, az\n",
    "end\n",
    "\n",
    "function cond_compressed(u, t, integrator)\n",
    "    x, y, z, vx, vy, vz = u\n",
    "    x0, y0, z0 = integrator.p[6:8]\n",
    "    vec1 = transpose([x-x0, y-y0, z])  # ground-->mass point\n",
    "    vec2 = [vx, vy, vz]                # velocity vector\n",
    "    return vec1*vec2                   # negative-->positive\n",
    "end\n",
    "\n",
    "function cond_leave(u, t, integrator)\n",
    "    \"\"\" Condition: Leave ground \"\"\"\n",
    "    x, y, z = u[1:3]\n",
    "    x0, y0, z0 = integrator.p[6:8]\n",
    "    l = sqrt((x-x0)^2 + (y-y0)^2 + (z-z0)^2)\n",
    "    return (l - integrator.p[3])\n",
    "end"
   ]
  },
  {
   "cell_type": "markdown",
   "metadata": {},
   "source": [
    "### 3. 综合\n",
    "初始条件：s0 = [z0, vx0, vy0]\n",
    "\n",
    "控制器条件：ctrl = [[α, β, k1, k2]]\n",
    "\n",
    "返回值：有效轨迹，足地接触点"
   ]
  },
  {
   "cell_type": "code",
   "execution_count": 6,
   "metadata": {},
   "outputs": [
    {
     "name": "stderr",
     "output_type": "stream",
     "text": [
      "┌ Warning: special characters \"#{}()[]<>|&*?~;\" should now be quoted in commands\n",
      "│   caller = #shell_parse#353(::String, ::typeof(Base.shell_parse), ::String, ::Bool) at shell.jl:100\n",
      "└ @ Base ./shell.jl:100\n"
     ]
    },
    {
     "data": {
      "text/plain": [
       "cycleCalc (generic function with 1 method)"
      ]
     },
     "execution_count": 6,
     "metadata": {},
     "output_type": "execute_result"
    }
   ],
   "source": [
    "function cycleCalc(m, l0, s0, ctrl)\n",
    "    α, β, k1, k2 = ctrl\n",
    "    z0, vx0, vy0 = s0\n",
    "    u0 = [0.0, 0.0, z0, vx0, vy0, 0.0]\n",
    "    tspan = (0.0, 4.0)\n",
    "    p1 = (9.8, l0, α, β, k1, k2)\n",
    "    ```------------------------------------------------------\n",
    "    segment1, air-->contact\n",
    "    the initial foot positon is not supposed to be underground!\n",
    "    ---------------------------------------------------------```\n",
    "    if(calc_foot_end(u0, p1)[3] <= 0)           # check\n",
    "        return ([], [], [p1,])\n",
    "    end\n",
    "    \n",
    "    prob = ODEProblem(diff_fun_fly!, u0, tspan, p1)\n",
    "    cb = ContinuousCallback(cond_contact, affect_contact!)\n",
    "    sol1 = solve(prob, Tsit5(), callback=cb, saveat = 0.01)\n",
    "    \n",
    "    ```------------------------------------------------------\n",
    "    segment2, compressing\n",
    "    if segment1 end with opposite velocity, simulation may get wired!\n",
    "    --------------------------------------------------------```\n",
    "    u0 = sol1.u[end]    \n",
    "    foot_p = calc_foot_end(u0, p1)\n",
    "    p2 = [m, 9.8, l0, k1, k2, foot_p...]\n",
    "    if(compressingCalc(u0, p2) > 0)\n",
    "        return ([sol1,], foot_p, [p1, p2])               # check\n",
    "    end\n",
    "    \n",
    "    prob = ODEProblem(diff_fun_support!, u0, tspan, p2)\n",
    "    cb = ContinuousCallback(cond_compressed, terminate!)\n",
    "    sol2 = solve(prob, Tsit5(), callback=cb, saveat = 0.01)\n",
    "\n",
    "    ```-----------------------------------------------------\n",
    "    segment3, thrusting\n",
    "    compressing should not be too much! small k\n",
    "    ------------------------------------------------------```\n",
    "    u0, p3 = sol2.u[end], p2\n",
    "    if(u0[3] <= 0)\n",
    "        return ([sol1, sol2,], foot_p, [p1, p2, p3,])\n",
    "    end\n",
    "    prob = ODEProblem(diff_fun_support!, u0, tspan, p3)\n",
    "    cb = ContinuousCallback(cond_leave, terminate!, abstol=1e-9)\n",
    "    sol3 = solve(prob, Tsit5(), callback=cb, saveat = 0.01)\n",
    "    \n",
    "    ```-----------------------------------------------------\n",
    "    segment4, air up\n",
    "    thrusting initial z velocity shou be positive\n",
    "    ------------------------------------------------------```\n",
    "    u0, p4 = sol3.u[end], p1\n",
    "    if(u0[6] <= 0)\n",
    "        return ([sol1, sol2, sol3,], foot_p, [p1, p2, p3,p4])\n",
    "    end\n",
    "    prob = ODEProblem(diff_fun_fly!, u0, tspan, p4)\n",
    "    cb = ContinuousCallback(cond_peak, terminate!)\n",
    "    sol4 = solve(prob, Tsit5(), callback=cb, saveat = 0.01)\n",
    "    \n",
    "    return ([sol1, sol2, sol3, sol4], foot_p, [p1, p2, p3, p4])\n",
    "end"
   ]
  },
  {
   "cell_type": "code",
   "execution_count": 7,
   "metadata": {},
   "outputs": [
    {
     "data": {
      "image/png": "[encoded data removed]",
      "text/plain": [
       "PyPlot.Figure(PyObject <Figure size 600x400 with 1 Axes>)"
      ]
     },
     "metadata": {},
     "output_type": "display_data"
    },
    {
     "name": "stderr",
     "output_type": "stream",
     "text": [
      "┌ Info: Saved animation to \n",
      "│   fn = /home/kuro/julia/Tutorial_julia/paper1/tmp.gif\n",
      "└ @ Plots /home/kuro/.julia/packages/Plots/Iuc9S/src/animation.jl:95\n"
     ]
    },
    {
     "data": {
      "text/html": [
       "<img src=\"tmp.gif\" />"
      ],
      "text/plain": [
       "Plots.AnimatedGif(\"/home/kuro/julia/Tutorial_julia/paper1/tmp.gif\")"
      ]
     },
     "execution_count": 7,
     "metadata": {},
     "output_type": "execute_result"
    }
   ],
   "source": [
    "pyplot(leg=false, ticks=nothing)\n",
    "function test1(p)\n",
    "    m , l0, s0, ctrl = p\n",
    "    sol, foot_p, _ = cycleCalc(m, l0, s0, ctrl)\n",
    "    if(size(sol)[1]<4)\n",
    "        println(\"Param failed!\")\n",
    "        return\n",
    "    end\n",
    "    sol1, sol2, sol3, sol4 = sol\n",
    "    x1, y1, z1 = [u[1] for u in sol1.u], [u[2] for u in sol1.u], [u[3] for u in sol1.u]\n",
    "    x2, y2, z2 = [u[1] for u in sol2.u], [u[2] for u in sol2.u], [u[3] for u in sol2.u]\n",
    "    x3, y3, z3 = [u[1] for u in sol3.u], [u[2] for u in sol3.u], [u[3] for u in sol3.u]\n",
    "    x4, y4, z4 = [u[1] for u in sol4.u], [u[2] for u in sol4.u], [u[3] for u in sol4.u]\n",
    "    p = plot3d(x1, y1, z1, color=[:red,])\n",
    "    plot3d!(x2, y2, z2, color=[:green,])\n",
    "    plot3d!(x3, y3, z3, color=[:blue,])\n",
    "    plot3d!(x4, y4, z4, color=[:red,])\n",
    "    plot3d!([0,foot_p[1]], [0,foot_p[2]], [0,foot_p[3]], seriestype=:scatter)\n",
    "    plot3d!([0, 1], [0, 0], [0, 0], color=[:red,]);\n",
    "    plot3d!([0, 0], [0, 1], [0, 0], color=[:green,]);\n",
    "    plot3d!([0, 0], [0, 0], [0, 1], color=[:blue,]);\n",
    "    xlabel!(p,\"x\");\n",
    "    @gif for i in range(0, stop = 2π, length = 100)\n",
    "        plot!(p, camera=(30*cos(i), 40)); # , aspect_ratio=:equal， 3D绘图好像不能设置这个\n",
    "    end\n",
    "end\n",
    "\n",
    "# Test\n",
    "p1 = (20, 0.8, [1.0, 1.0, 0.2], [pi/8, pi/9, 1e3, 1e3])\n",
    "p2 = (20, 0.8, [0.9, 1.0, 0.0], [pi/18, pi/18, 1e4, 1e4])\n",
    "test1(p2)"
   ]
  },
  {
   "cell_type": "markdown",
   "metadata": {},
   "source": [
    "### 3.5 工具函数，计算仿真中间量"
   ]
  },
  {
   "cell_type": "code",
   "execution_count": 7,
   "metadata": {},
   "outputs": [
    {
     "data": {
      "text/plain": [
       "jointTorqueAcc_Ex (generic function with 1 method)"
      ]
     },
     "execution_count": 7,
     "metadata": {},
     "output_type": "execute_result"
    }
   ],
   "source": [
    "function maxJointTorque(sol, p)\n",
    "    if(size(sol)[1] >= 2)\n",
    "        u = sol[2].u[end]\n",
    "        p2 = p[2]\n",
    "        return jointForce(u, p)\n",
    "    else\n",
    "        println(\"Error: no maxJointTorque!\")\n",
    "        return 0\n",
    "    end\n",
    "end\n",
    "\n",
    "function jointTorqueAcc_Raw(sol, p)\n",
    "    if(size(sol)[1] < 4)\n",
    "        println(\"failed in testing\")\n",
    "        return 0\n",
    "    end\n",
    "    \n",
    "    Tacc = 0\n",
    "    sol1, sol2, sol3, sol4 = sol\n",
    "    p1, p2, p3, p4 = p\n",
    "    torque_1 = jointForce(sol2.u[1], p)\n",
    "    for i in 1:length(sol2.t)-1\n",
    "        torque = jointForce(sol2.u[i+1], p)\n",
    "        Tacc += (torque_1 + torque)*(sol2.t[i+1] - sol2.t[i])/2\n",
    "        torque_1 = torque\n",
    "    end\n",
    "    torque_1 = jointForce(sol3.u[1], p)\n",
    "    for i in 1:length(sol3.t)-1\n",
    "        torque = jointForce(sol3.u[i+1], p)\n",
    "        Tacc += (torque_1 + torque)*(sol3.t[i+1] - sol3.t[i])/2\n",
    "        torque_1 = torque\n",
    "    end\n",
    "    return Tacc\n",
    "end\n",
    "\n",
    "function jointTorqueAcc_Ex(sol, p)\n",
    "    maxT = maxJointTorque(sol, p)\n",
    "    c_n = jointTorqueAcc_Raw(sol, p)\n",
    "    if maxT > 40\n",
    "        return c_n*0.1 + maxT*10\n",
    "    else\n",
    "        return c_n*0.1 + maxT*10\n",
    "    end\n",
    "end"
   ]
  },
  {
   "cell_type": "markdown",
   "metadata": {},
   "source": [
    "\n"
   ]
  },
  {
   "cell_type": "markdown",
   "metadata": {},
   "source": [
    "### 4. loss function design\n",
    "在当前的设计下，参数主要是，初始条件（高度，速度），期望的终点条件（高度，速度），着地角度，以及两个k。需要考虑的性能主要包括：\n",
    "1. 腿部的出力，出力应该映射到实际的关节设计上\n",
    "2. 目标的达成情况，应该尽量达到期望的条件，但不强求\n",
    "3. 插一个话题：可能这一个周期是能达到期望的条件，但以期望的条件为起点可能很难达到稳定的运行状态（问题）\n",
    "4. 尽管失败的状态是不能达到期望的，我们还是应该在仿真阶段直接去掉这些样本\n",
    "\n",
    "神经网络的设计应该是，输入<初始状态，期望状态>，输出一个控制参数，我们假定在优化中能够得到足够优秀的参数方案，也就是说在当前的条件下想要达到目标状态，这就已经是最佳方案了，因此我们可以直接用这些参数来进行设计，而我们同时也可以训练一个状态评价网络，这个网络用于制定目标状态；认为这种simplified结合神经网络以及传统算法将能够达到非常好的效果\n",
    "\n",
    "考虑第一层的优化，优化的目标是首要稳定，其次接近目标状态，最后是出力优化，所谓的Multi-layer应该怎么处理？这里是一个非线性优化问题，并且需要构造一个[参数-->值]的函数"
   ]
  },
  {
   "cell_type": "code",
   "execution_count": 8,
   "metadata": {},
   "outputs": [
    {
     "data": {
      "text/plain": [
       "4813.993830743169"
      ]
     },
     "execution_count": 8,
     "metadata": {},
     "output_type": "execute_result"
    }
   ],
   "source": [
    "# 怎么确定惩罚的量级问题，以及怎么设计惩罚函数的问题\n",
    "# h1 = -10:0.1:1;\n",
    "# cost_seg1(x) = 1000 .*(1 .- exp.(x))\n",
    "# y = cost_seg1(h1)\n",
    "# index = findall(x->x<0, y)\n",
    "# y[index] = zeros(length(index))\n",
    "# plot(h1, y)\n",
    "eff = 2000\n",
    "cost1_func(x) = eff .*(1 .- exp.(x))\n",
    "function cost_func1(x)\n",
    "    tmp = 1-exp(x)\n",
    "    return tmp>0 ? eff*tmp : 0\n",
    "end\n",
    "function evalSolution(sol, target, p)\n",
    "    # 1. fail\n",
    "    cost1 = 0;\n",
    "    if(size(sol)[1]==3)\n",
    "        p1, p2, p3, p4 = p\n",
    "        cost1 = cost_func1(sol[3].u[end][6])\n",
    "    elseif(size(sol)[1]==2)\n",
    "        p1, p2, p3 = p\n",
    "        cost1 = cost_func1(sol[2].u[end][3]) + eff\n",
    "    elseif(size(sol)[1]==1)\n",
    "        p1, p2 = p\n",
    "        cost1 = cost_func1(-compressingCalc(sol[1].u[end], p2)) + 2*eff\n",
    "        # println(compressingCalc(sol[1].u[end], p2), \"  \",cost_func1(compressingCalc(sol[1].u[end], p2)), \"  \", 2*eff)\n",
    "    elseif(size(sol)[1]==0)\n",
    "        p1 = p[1]\n",
    "        cost1 = cost_func1(calc_foot_end(sol[1].u[1], p1)[3]) + 3*eff\n",
    "    else\n",
    "        p1, p2, p3, p4 = p\n",
    "        cost1 = 0.0\n",
    "    end\n",
    "    if(size(sol)[1]<4)\n",
    "        return cost1+2000, 0, 0\n",
    "    end\n",
    "    # 2. target reached, distance cost\n",
    "    sol1, sol2, sol3, sol4 = sol\n",
    "    real_end = sol4.u[end][3:5]\n",
    "    err = real_end - target\n",
    "    cost2 = (abs(err[1])*4000 + abs(err[2])*2000 + abs(err[3])*2000)\n",
    "    \n",
    "    # 3. joint force cost\n",
    "    \n",
    "    cost3 = jointTorqueAcc_Ex(sol, p)\n",
    "    \n",
    "    # 4. 一些其他处理\n",
    "    # cost2 = cost2>1000 ? 1000 : cost2\n",
    "    # cost3 = cost3>1000 ? 1000 : cost3\n",
    "    #cost2 = 1000 / (1+ exp(-cost2-10))\n",
    "    #cost3 = 300 / (1 + exp(-cost3/10 - 10))\n",
    "    \n",
    "    return cost1, cost2, cost3\n",
    "end\n",
    "function evalParam(m, l0, u0, target, ctrl)\n",
    "    sol, foot_p, p = cycleCalc(m, l0, u0, ctrl)\n",
    "    c1, c2, c3 = evalSolution(sol, target, p)\n",
    "    return c1+c2+c3\n",
    "end\n",
    "\n",
    "# Test\n",
    "p_cycle = (20, 0.8, [0.9, 1.0, 0.0], [pi/18, pi/18, 1e4, 1e4])\n",
    "m , l0, u0, ctrl = p_cycle\n",
    "evalParam(m, l0, u0, u0, ctrl)"
   ]
  },
  {
   "cell_type": "markdown",
   "metadata": {},
   "source": [
    "#### >>>>>>>>>>>>>>>>>>>>>>>>>>>>>>>>>>>>控制参数对应信息输出>>>>>>>>>>>>>>>>>>>>>>>>>>>>>>>>>>>>>>>>>>>>>>"
   ]
  },
  {
   "cell_type": "code",
   "execution_count": 10,
   "metadata": {},
   "outputs": [
    {
     "data": {
      "text/plain": [
       "test_info (generic function with 1 method)"
      ]
     },
     "execution_count": 10,
     "metadata": {},
     "output_type": "execute_result"
    }
   ],
   "source": [
    "# 解相关信息输出\n",
    "function ctrlInfo(ctrl, u0, u1, ifplot)\n",
    "    m, l0 = 20, 0.8\n",
    "    sol, foot_p, p = cycleCalc(m, l0, u0, ctrl);\n",
    "    println(\"完成阶段：\",size(sol)[1], \", with \", ctrl)\n",
    "    c1, c2, c3 = evalSolution(sol, u0, p)\n",
    "    println(\"三阶段loss：\",[c1, c2, c3])\n",
    "    println(\"最大关节扭矩：\",maxJointTorque(sol, p))\n",
    "    target = [1.0, 0.8, 0.2]\n",
    "    reach = sol[end].u[end][3:5]\n",
    "    println(\"目标：\",target, \", 结果\", reach)\n",
    "    dis = target - reach\n",
    "    dis = sqrt(dis[1]^2 + dis[2]^2 + dis[3]^2)\n",
    "    println(\"距离：\", dis)\n",
    "    if ifplot\n",
    "        cycle_p = (m, l0, u0, ctrl)\n",
    "        test1(cycle_p)\n",
    "    end\n",
    "end\n",
    "test_info(ctrl) = ctrlInfo(ctrl, [0.9, 1.0, 0.0], [1.0, 0.8, 0.2], false)"
   ]
  },
  {
   "cell_type": "markdown",
   "metadata": {},
   "source": [
    "### 5. optimization based on GE or GA\n",
    "说明：可以稳定求解但是效率太低了,但是发现在第二次运行的时候竟然快了很多，果然Julia的原因？相对于Ipopt是真的可以稳定求解一个足够优化的解，目前可行吧！嗯，很猥琐的办法!堆计算量，不过还是可以的！<br />\n",
    "说明：\n",
    "1. 如果不对关节扭矩做约束，还是能得到比较好的结果的，如果对关节力进行约束，看起来比较难\n",
    "2. 调整GE的参数，一般都能收敛到同一个位置，所以可以认为这就是我们的优化函数给出的解\n",
    "3. 实际发现通过地毯式搜索得到的解还GE算法得到的解，而地毯式的计算耗时要更长一点\n",
    "4. 发现实际运行都是单核的，没有完全利用好遗传算法的多核计算优势\n",
    "5. SLIP模型假设腿部是定刚度的，因此在弹出过程中，压缩大的过程会产生较大的力，压缩小的过程则出力更小，这种结果非常不符合实际情况，所以这里的最大扭矩才会很难降下来，但是，在本篇中我们先忽略这个！到下一篇论文中再讨论这个问题！本篇中主要讨论对应的思想！\n",
    "6. 也就是说在这种情况下，我很难在最大出力与目标之间进行取舍，如果要限制最大出力，很大可能我们没办法达到目标状态，如果想要尽量接近目标状态，我们可能需要更大的出力，我们应该在效果的评价中找到一个足够好的平衡！也就是，去设计你的评价函数！"
   ]
  },
  {
   "cell_type": "code",
   "execution_count": 25,
   "metadata": {},
   "outputs": [
    {
     "data": {
      "text/plain": [
       "generateNew! (generic function with 1 method)"
      ]
     },
     "execution_count": 25,
     "metadata": {},
     "output_type": "execute_result"
    }
   ],
   "source": [
    "`默认认为这里GE参数范围给设定到0~10之间`\n",
    "function GEPara2Ctrl(pa, lim_u, lim_d)\n",
    "    gap = lim_u - lim_d\n",
    "    la = lim_u + lim_d\n",
    "    return [(2*pa[1]-la)*pi/(3*gap), (2*pa[2]-la)*pi/(3*gap), pa[3]*2000, pa[4]*2000]\n",
    "end\n",
    "`fit function interface`\n",
    "function fitFuncCalc(vec)\n",
    "    return evalParam(20, 0.8, [0.9, 1.0, 0.0], [1.0, 0.8, 0.2], GEPara2Ctrl(vec, 10.0, 0.0))\n",
    "end\n",
    "\n",
    "`Variation function, x->v`\n",
    "function geneVariation(x, F)\n",
    "    sz = size(x)\n",
    "    v = zeros(sz)\n",
    "    for i in 1:sz[1]\n",
    "        r1 = rand(setdiff(1:sz[1], i))             # 随机选中一个不一样的index\n",
    "        r2 = rand(setdiff(1:sz[1], [i, r1]))\n",
    "        r3 = rand(setdiff(1:sz[1], [i, r1, r2]))\n",
    "        v[i,:] = x[r1,:] + F*(x[r2,:] - x[r3,:])\n",
    "    end\n",
    "    return v\n",
    "end\n",
    "\n",
    "`cross function,writer may wrong`\n",
    "function geneCross(x, v, CR)\n",
    "    `从x和v中选择出u`\n",
    "    sz = size(x)\n",
    "    r = rand(1:sz[2])\n",
    "    u = zeros(sz)\n",
    "    for i = 1:sz[2]\n",
    "        cr = rand()\n",
    "        if(cr<=CR || i==r)      # 随机选择其中的一维进行变化，其他的按概率变化\n",
    "            u[:, i] = v[:, i]\n",
    "        else\n",
    "            u[:, i] = x[:, i]\n",
    "        end\n",
    "    end\n",
    "    return u\n",
    "end\n",
    "\n",
    "`deal with bound`\n",
    "function dealBound!(u, Xs, Xx)\n",
    "    for i in 1:size(u)[1]\n",
    "        for j in 1:size(u)[2]\n",
    "            u[i, j] = u[i, j]>Xs ? Xs : u[i, j]\n",
    "            u[i, j] = u[i, j]<Xx ? Xx : u[i, j]\n",
    "        end\n",
    "    end\n",
    "end\n",
    "`select if new better`\n",
    "function generateNew!(x, u)\n",
    "    sz = size(u)\n",
    "    obj1 = SharedArray{Float64}(sz[1])\n",
    "    obj2 = SharedArray{Float64}(sz[1])\n",
    "    @distributed for i in 1:sz[1]\n",
    "        # println(Threads.threadid())\n",
    "        obj1[i] = fitFuncCalc(x[i, :])\n",
    "        obj2[i] = fitFuncCalc(u[i, :])\n",
    "    end\n",
    "    for i in 1:sz[1]\n",
    "        if obj2[i] < obj1[i]\n",
    "            x[i, :] = u[i,:]\n",
    "        end\n",
    "    end\n",
    "    minValue, minIdx = findmin(obj1)\n",
    "    return minValue\n",
    "end"
   ]
  },
  {
   "cell_type": "code",
   "execution_count": 26,
   "metadata": {},
   "outputs": [
    {
     "data": {
      "image/png": "[encoded data removed]"
     },
     "execution_count": 26,
     "metadata": {},
     "output_type": "execute_result"
    }
   ],
   "source": [
    "\n",
    "NP, D, G, CR, F, Xs, Xx = 30, 4, 400, 0.25, 0.6, 10, 0\n",
    "x = rand(NP, D) .*(Xs-Xx) .+ Xx\n",
    "trace = []\n",
    "for gen in 1:G\n",
    "    v = geneVariation(x, F)\n",
    "    u = geneCross(x, v, CR)\n",
    "    dealBound!(u, Xs, Xx)\n",
    "    append!(trace, generateNew!(x, u))\n",
    "end\n",
    "\n",
    "# final answer\n",
    "obj = []\n",
    "for i in 1:size(x)[1]\n",
    "    append!(obj, fitFuncCalc(x[i, :]))\n",
    "end\n",
    "minValue, minIdx = findmin(obj)\n",
    "append!(trace, minValue)\n",
    "\n",
    "plot(trace)"
   ]
  },
  {
   "cell_type": "code",
   "execution_count": 15,
   "metadata": {},
   "outputs": [
    {
     "name": "stdout",
     "output_type": "stream",
     "text": [
      "best Value:1807.4754169450493\n",
      "best Ctrl:[0.15592469479339754, -0.03304681770120712, 20000.0, 6763.944504146537]\n",
      "完成阶段：4, with [0.15592469479339754, -0.03304681770120712, 20000.0, 6763.944504146537]\n",
      "三阶段loss：[0.0, 1359.3789973046241, 625.5234129492429]\n",
      "最大关节扭矩：62.457273678611806\n",
      "目标：[1.0, 0.8, 0.2], 结果[0.8043874903137135, 0.6558922690474654, 0.14435674832720438]\n",
      "距离：0.24925381345684103\n"
     ]
    }
   ],
   "source": [
    "println(\"best Value:\", minValue)\n",
    "vec = x[minIdx, :]\n",
    "ctrl = GEPara2Ctrl(vec, 10.0, 0.0);\n",
    "println(\"best Ctrl:\",ctrl)\n",
    "test_info(ctrl)"
   ]
  },
  {
   "cell_type": "code",
   "execution_count": null,
   "metadata": {},
   "outputs": [],
   "source": [
    "``` GE优化器，对每一组目标计算一组参数\n",
    "u0, u_tar--初始状态，目标状态\n",
    "说明：\n",
    "1. 及时判断结束，尽量减少计算\n",
    "```\n",
    "function optimizePara(u0, u_tar)\n",
    "    \n",
    "end"
   ]
  },
  {
   "cell_type": "markdown",
   "metadata": {},
   "source": [
    "### 5. 求解优化参数\n",
    "1. 优化目标设置为cost最小\n",
    "2. 参数为对应的《初始状态，期望状态，控制量》\n",
    "\n",
    "说明<br />\n",
    "1. 目前julia的优化函数不支持用户自定义函数中包含外部库，只能自己用差分来写函数导数"
   ]
  },
  {
   "cell_type": "code",
   "execution_count": 13,
   "metadata": {},
   "outputs": [
    {
     "name": "stderr",
     "output_type": "stream",
     "text": [
      "WARNING: using JuMP.solve in module Main conflicts with an existing identifier.\n"
     ]
    }
   ],
   "source": [
    "using JuMP\n",
    "using Ipopt"
   ]
  },
  {
   "cell_type": "code",
   "execution_count": null,
   "metadata": {
    "scrolled": false
   },
   "outputs": [],
   "source": [
    "Δdiff = 0.00001\n",
    "function optFun(α,β, k1, k2)\n",
    "    res = evalParam(20, 0.8, [0.9, 1.0, 0.0], [1.0, 0.8, 0.2], [α, β, k1*1000, k2*1000])\n",
    "end\n",
    "function ∇optFun(g, α,β, k1, k2)\n",
    "    g[1] = α_df = (optFun(α+Δdiff,β, k1, k2)-optFun(α-Δdiff,β, k1, k2))/(2*Δdiff)\n",
    "    g[2] = β_df = (optFun(α,β+Δdiff, k1, k2)-optFun(α,β-Δdiff, k1, k2))/(2*Δdiff)\n",
    "    g[3] = k1_df = (optFun(α,β, k1+Δdiff, k2)-optFun(α,β, k1-Δdiff, k2))/(2*Δdiff)\n",
    "    g[4] = k2_df = (optFun(α,β, k1, k2+Δdiff)-optFun(α,β, k1, k2-Δdiff))/(2*Δdiff)\n",
    "    # println(\"para:\", [α,β, k1, k2])\n",
    "end\n",
    "\n",
    "model = Model(with_optimizer(Ipopt.Optimizer, max_iter=100))\n",
    "@variable(model, 1.0 <= k1 <= 10.0)\n",
    "@variable(model, 1.0 <= k2 <= 10.0)\n",
    "@variable(model, -pi/2 <= α <= pi/2)\n",
    "@variable(model, -pi/2 <= β <= pi/2)\n",
    "register(model, :optFun, 4,optFun, ∇optFun)\n",
    "@NLobjective(model, Min, optFun(α, β, k1, k2))\n",
    "mopt = optimize!(model)"
   ]
  },
  {
   "cell_type": "code",
   "execution_count": 15,
   "metadata": {
    "scrolled": true
   },
   "outputs": [
    {
     "data": {
      "text/plain": [
       "4-element Array{Float64,1}:\n",
       "    0.17281026454776888\n",
       "   -0.02499469730835483\n",
       " 5572.2491241578555    \n",
       " 2869.5835337630187    "
      ]
     },
     "execution_count": 15,
     "metadata": {},
     "output_type": "execute_result"
    }
   ],
   "source": [
    "ctrl = [value(α), value(β), value(k1)*1000, value(k2)*1000]"
   ]
  },
  {
   "cell_type": "code",
   "execution_count": 74,
   "metadata": {},
   "outputs": [
    {
     "data": {
      "text/plain": [
       "4-element Array{Float64,1}:\n",
       "    0.16870759369818233 \n",
       "   -0.025801798211923077\n",
       " 5378.029145318306      \n",
       " 4706.8529709115755     "
      ]
     },
     "execution_count": 74,
     "metadata": {},
     "output_type": "execute_result"
    }
   ],
   "source": [
    "ctrl = [value(α), value(β), value(k1)*1000, value(k2)*1000]"
   ]
  },
  {
   "cell_type": "markdown",
   "metadata": {},
   "source": [
    "### 6. 调试信息"
   ]
  },
  {
   "cell_type": "code",
   "execution_count": 174,
   "metadata": {},
   "outputs": [],
   "source": [
    "`这组参数很有意思，感觉我设置的条件已经足够剔除这些情况了，可以的`\n",
    "m, l0, u0 = 20, 0.8, [0.9, 1.0, 0.0]\n",
    "# ctrl = [-1.515074442319863, -1.5707963267948966, 6190.308902366722, 6003.30788553199];\n",
    "# ctrl = [0.24755314616902746, -1.5707963267948966, 10000.0, 3290.6938975600033]\n",
    "ctrl = [0.10354207417183257, -0.04396097568364638, 20000.0, 6250.397578225312];\n",
    "# ctrl = [0.11734557111899611, -0.03711754272031342, 14147.591615784911, 20000.0];"
   ]
  },
  {
   "cell_type": "code",
   "execution_count": 186,
   "metadata": {},
   "outputs": [
    {
     "name": "stdout",
     "output_type": "stream",
     "text": [
      "完成阶段：4, with [0.1198159171772039, -0.04434887902043484, 20000.0, 6133.143936140749]\n"
     ]
    }
   ],
   "source": [
    "m, l0, u0 = 20, 0.8, [0.9, 1.0, 0.0]\n",
    "sol, foot_p, p = cycleCalc(m, l0, u0, ctrl);\n",
    "println(\"完成阶段：\",size(sol)[1], \", with \", ctrl)"
   ]
  },
  {
   "cell_type": "code",
   "execution_count": 187,
   "metadata": {
    "scrolled": true
   },
   "outputs": [
    {
     "name": "stdout",
     "output_type": "stream",
     "text": [
      "三阶段loss：[0.0, 165.71294872698468, 550.8892852340109]\n",
      "最大关节扭矩：54.17483017532188\n",
      "目标：[1.0, 0.8, 0.2], 结果[0.7920205042707251, 0.8305622647371407, 0.19146271434815396]\n",
      "距离：0.21038633015471264\n"
     ]
    }
   ],
   "source": [
    "# ctrl2 = [0.28678316237174406, -0.002803495660065451, 1010.0267501534099, 1010.0264709279156];\n",
    "# ctrl2 = [0.15932352796868318 , -0.029932970949137754,  7.433066089458452*1000, 7.597399199338621*1000]\n",
    "c1, c2, c3 = evalSolution(sol, u0, p)\n",
    "println(\"三阶段loss：\",[c1, c2, c3])\n",
    "println(\"最大关节扭矩：\",maxJointTorque(sol, p))\n",
    "target = [1.0, 0.8, 0.2]\n",
    "reach = sol[end].u[end][3:5]\n",
    "println(\"目标：\",target, \", 结果\", reach)\n",
    "dis = target - reach\n",
    "dis = sqrt(dis[1]^2 + dis[2]^2 + dis[3]^2)\n",
    "println(\"距离：\", dis)"
   ]
  },
  {
   "cell_type": "code",
   "execution_count": null,
   "metadata": {},
   "outputs": [],
   "source": []
  },
  {
   "cell_type": "code",
   "execution_count": 97,
   "metadata": {},
   "outputs": [
    {
     "data": {
      "image/png": "[encoded data removed]",
      "text/plain": [
       "PyPlot.Figure(PyObject <Figure size 600x400 with 1 Axes>)"
      ]
     },
     "metadata": {},
     "output_type": "display_data"
    },
    {
     "name": "stderr",
     "output_type": "stream",
     "text": [
      "┌ Info: Saved animation to \n",
      "│   fn = /home/kuro/julia/Tutorial_julia/paper1/tmp.gif\n",
      "└ @ Plots /home/kuro/.julia/packages/Plots/Iuc9S/src/animation.jl:95\n"
     ]
    },
    {
     "data": {
      "text/html": [
       "<img src=\"tmp.gif\" />"
      ],
      "text/plain": [
       "Plots.AnimatedGif(\"/home/kuro/julia/Tutorial_julia/paper1/tmp.gif\")"
      ]
     },
     "execution_count": 97,
     "metadata": {},
     "output_type": "execute_result"
    }
   ],
   "source": [
    "cycle_p = (m, l0, u0, ctrl)\n",
    "test1(cycle_p)"
   ]
  },
  {
   "cell_type": "markdown",
   "metadata": {},
   "source": [
    "### 实验1，刚度对过程做功的影响\n",
    "结论：k越大，过程中的积分越小，但为什么优化的结果是偏向于小端？难以理解<br />\n",
    "。。。：粗心把上限也给写成了下限，有毒"
   ]
  },
  {
   "cell_type": "code",
   "execution_count": null,
   "metadata": {},
   "outputs": [],
   "source": []
  },
  {
   "cell_type": "code",
   "execution_count": null,
   "metadata": {},
   "outputs": [],
   "source": []
  },
  {
   "cell_type": "code",
   "execution_count": null,
   "metadata": {},
   "outputs": [],
   "source": []
  },
  {
   "cell_type": "code",
   "execution_count": null,
   "metadata": {},
   "outputs": [],
   "source": []
  },
  {
   "cell_type": "code",
   "execution_count": 55,
   "metadata": {},
   "outputs": [
    {
     "data": {
      "image/png": "[encoded data removed]"
     },
     "execution_count": 55,
     "metadata": {},
     "output_type": "execute_result"
    }
   ],
   "source": [
    "torqueAcc_list = []\n",
    "for k in 1000.0:100:3000.0\n",
    "    m, l0, u0 = 20, 0.8, [0.9, 1.0, 0.0]\n",
    "    ctrl = [0.28678316237174406, -0.002803495660065451 , k , k]\n",
    "    # ctrl = [pi/8, pi/9, k, k]\n",
    "    sol, foot_p, p = cycleCalc(m, l0, u0, ctrl);\n",
    "    append!(torqueAcc_list, jointTorqueAcc_Raw(sol, p))\n",
    "end\n",
    "plot(torqueAcc_list)"
   ]
  },
  {
   "cell_type": "markdown",
   "metadata": {},
   "source": [
    "### 实验2，alpha, k1, k2对结果的影响\n",
    "我想要看看在最终的结果中，[alpha,k1, k2]空间的分布情况，可能会绘制一个3D的评估图形 <br />\n",
    "alpha = -pi/2 ~ pi/2 <br />\n",
    "k1 = 1\\~10 <br />\n",
    "k2 = 1\\~10 <br />\n",
    "\n",
    "结果：\n",
    "1. 计算时间不算太长，其实还挺短的\n",
    "2. 实验计算的结果看起来，就这样子分格子的优化，结果也是比之前的Ipopt好得多\n",
    "3. 具体的解到底是什么样子的我也不清楚，不过这个优化的效率不是很重要\n",
    "4. 而且在后续的完整模型中我们也可以利用之前计算出来的结果作为初值"
   ]
  },
  {
   "cell_type": "code",
   "execution_count": 19,
   "metadata": {},
   "outputs": [],
   "source": [
    "m, l0, u0 = 20, 0.8, [0.9, 1.0, 0.0]\n",
    "target = [1.0, 0.8, 0.2]\n",
    "malpha = -pi/5: pi/10: pi/5\n",
    "mbeta = -pi/5: pi/10: pi/5\n",
    "k1 = 1:5:10\n",
    "k2 = 1:3:10\n",
    "# res = zeros(length(malpha), length(mbeta), length(k1), length(k2))\n",
    "res = SharedArray{Float64}(length(malpha), length(mbeta), length(k1), length(k2))\n",
    "for i_alpha = 1:length(malpha)\n",
    "    for i_beta = 1:length(mbeta)\n",
    "        for i_k1 = 1:length(k1)\n",
    "            @distributed for i_k2 = 1:length(k2)\n",
    "                ctrl = [malpha[i_alpha], mbeta[i_beta], k1[i_k1]*1000, k2[i_k2]*1000]\n",
    "#                 sol, foot_p, p = cycleCalc(m, l0, u0, ctrl);\n",
    "#                 if(size(sol)[1]==4)\n",
    "#                     tmp = sol[end].u[end][3:5] - [1.0, 0.8, 0.2]\n",
    "#                     dis = sqrt(tmp[1]^2 + tmp[2]^2 + tmp[3]^2)\n",
    "#                     res[i_alpha, i_beta, i_k1, i_k2] = dis\n",
    "#                 else\n",
    "#                     res[i_alpha, i_beta, i_k1, i_k2] = 1000.0\n",
    "#                 end\n",
    "                sol, foot_p, p = cycleCalc(m, l0, u0, ctrl)\n",
    "                # c1, c2, c3 = evalSolution(sol, target, p)\n",
    "                tmp = sum(p)\n",
    "                # tmp = evalParam(m, l0, u0, target, ctrl)\n",
    "                res[i_alpha, i_beta, i_k1, i_k2] = tmp\n",
    "                println(\"Thread: \",Threads.threadid(), \"res:\", tmp)\n",
    "            end\n",
    "        end\n",
    "    end\n",
    "end"
   ]
  },
  {
   "cell_type": "code",
   "execution_count": 66,
   "metadata": {
    "scrolled": false
   },
   "outputs": [
    {
     "name": "stdout",
     "output_type": "stream",
     "text": [
      "1:5:6\n"
     ]
    }
   ],
   "source": [
    "println(k2)"
   ]
  },
  {
   "cell_type": "code",
   "execution_count": 46,
   "metadata": {},
   "outputs": [
    {
     "data": {
      "text/plain": [
       "5×5×2×2 SharedArray{Float64,4}:\n",
       "[:, :, 1, 1] =\n",
       " 3976.28  3972.0   3969.62  3972.0   3976.28\n",
       " 3974.76  3958.78  3946.82  3958.78  3974.76\n",
       " 3972.83  3919.87  3808.53  3919.87  3972.83\n",
       " 3978.11  3921.89  7452.37  3921.89  3978.11\n",
       " 3985.87  3980.92  3975.26  3980.92  3985.87\n",
       "\n",
       "[:, :, 2, 1] =\n",
       " 3953.81  3930.93  3917.4   3930.93  3953.81\n",
       " 3922.38  3852.17  3837.76  3852.17  3922.38\n",
       " 3888.4   3774.06  3811.86  3774.06  3888.4 \n",
       " 3889.12  3772.96  3805.03  3772.96  3889.12\n",
       " 3942.28  3859.07  3810.72  3859.07  3942.28\n",
       "\n",
       "[:, :, 1, 2] =\n",
       " 3967.41  3949.41   3939.73  3949.41  3967.41\n",
       " 3946.68  3835.3    3696.3   3835.3   3946.68\n",
       " 3922.77  2860.56  14355.8   2860.56  3922.77\n",
       " 3943.95  2606.93  20555.5   2606.93  3943.95\n",
       " 3980.16  3952.09   3885.99  3952.09  3980.16\n",
       "\n",
       "[:, :, 2, 2] =\n",
       " 3932.84  3872.05   3836.24   3872.05  3932.84\n",
       " 3813.55  3350.83   3014.72   3350.83  3813.55\n",
       " 3564.67  7928.3    4527.55   8728.3   3564.67\n",
       " 3558.5   9879.58   5260.67  10679.6   3558.5 \n",
       " 3854.47  3044.46  12738.9    3044.46  3854.47"
      ]
     },
     "execution_count": 46,
     "metadata": {},
     "output_type": "execute_result"
    }
   ],
   "source": [
    "res"
   ]
  },
  {
   "cell_type": "code",
   "execution_count": 218,
   "metadata": {},
   "outputs": [
    {
     "name": "stdout",
     "output_type": "stream",
     "text": [
      "最小距离：1623.588459207897\n",
      "对应参数：[0.15707963267948977, -0.031415926535897865, 8400.0, 3600.0]\n"
     ]
    }
   ],
   "source": [
    "va, idx = findmin(res)\n",
    "ctrl = [malpha[idx[1]], mbeta[idx[2]], k1[idx[3]]*1000, k2[idx[4]]*1000]\n",
    "println(\"最小距离：\", va)\n",
    "println(\"对应参数：\",ctrl)"
   ]
  },
  {
   "cell_type": "code",
   "execution_count": 23,
   "metadata": {},
   "outputs": [
    {
     "data": {
      "text/plain": [
       "4"
      ]
     },
     "execution_count": 23,
     "metadata": {},
     "output_type": "execute_result"
    }
   ],
   "source": [
    "Threads.nthreads()"
   ]
  },
  {
   "cell_type": "code",
   "execution_count": null,
   "metadata": {},
   "outputs": [],
   "source": [
    "# ctrl = [0.15707963267948977 ,   -0.031415926535897865, 5800.0, 7600.0];， 这个结果还可以\n",
    "\n",
    "ctrl = [malpha[idx[1]], mbeta[idx[2]], k1[idx[3]]*1000, k2[idx[4]]*1000]\n",
    "cycle_p = (m, l0, u0, ctrl)\n",
    "test1(cycle_p)"
   ]
  },
  {
   "cell_type": "code",
   "execution_count": 9,
   "metadata": {},
   "outputs": [
    {
     "data": {
      "text/plain": [
       "1-element Array{Int64,1}:\n",
       " 1"
      ]
     },
     "execution_count": 9,
     "metadata": {},
     "output_type": "execute_result"
    }
   ],
   "source": [
    "procs()"
   ]
  },
  {
   "cell_type": "code",
   "execution_count": 54,
   "metadata": {},
   "outputs": [
    {
     "data": {
      "text/plain": [
       "Task (done) @0x00007fafa3067820"
      ]
     },
     "execution_count": 54,
     "metadata": {},
     "output_type": "execute_result"
    }
   ],
   "source": [
    "rmprocs([6,7,8,9])"
   ]
  },
  {
   "cell_type": "code",
   "execution_count": 10,
   "metadata": {},
   "outputs": [
    {
     "data": {
      "text/plain": [
       "2-element Array{Int64,1}:\n",
       " 2\n",
       " 3"
      ]
     },
     "execution_count": 10,
     "metadata": {},
     "output_type": "execute_result"
    }
   ],
   "source": [
    "addprocs(2)"
   ]
  },
  {
   "cell_type": "code",
   "execution_count": 12,
   "metadata": {},
   "outputs": [
    {
     "data": {
      "text/plain": [
       "Task (runnable) @0x00007f975008b5b0"
      ]
     },
     "execution_count": 12,
     "metadata": {},
     "output_type": "execute_result"
    },
    {
     "name": "stdout",
     "output_type": "stream",
     "text": [
      "      From worker 2:\t1\n",
      "      From worker 2:\t1\n",
      "      From worker 2:\t1\n",
      "      From worker 2:\t1\n",
      "      From worker 2:\t1\n",
      "      From worker 3:\t1\n",
      "      From worker 3:\t1\n",
      "      From worker 3:\t1\n",
      "      From worker 3:\t1\n",
      "      From worker 3:\t1\n"
     ]
    }
   ],
   "source": [
    "a = SharedArray{Float64}(1, 10)\n",
    "@distributed for i = 1:10\n",
    "    println(Threads.threadid())\n",
    "    a[i] = i\n",
    "end"
   ]
  },
  {
   "cell_type": "code",
   "execution_count": null,
   "metadata": {},
   "outputs": [],
   "source": []
  },
  {
   "cell_type": "code",
   "execution_count": null,
   "metadata": {},
   "outputs": [],
   "source": []
  }
 ],
 "metadata": {
  "kernelspec": {
   "display_name": "Julia 1.2.0",
   "language": "julia",
   "name": "julia-1.2"
  },
  "language_info": {
   "file_extension": ".jl",
   "mimetype": "application/julia",
   "name": "julia",
   "version": "1.2.0"
  }
 },
 "nbformat": 4,
 "nbformat_minor": 2
}
