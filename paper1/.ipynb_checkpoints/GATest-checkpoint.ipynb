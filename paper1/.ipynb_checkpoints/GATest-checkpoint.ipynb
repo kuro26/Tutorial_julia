{
 "cells": [
  {
   "cell_type": "markdown",
   "metadata": {},
   "source": [
    "### episode 1\n",
    "函数：$f(x)=x+10sin(5x)+7cos(4x)$"
   ]
  },
  {
   "cell_type": "code",
   "execution_count": 57,
   "metadata": {},
   "outputs": [],
   "source": [
    "# 种群数量，编码长度，交叉率，变异率，最大代，上限，下限\n",
    "NP, L, Pc, Pm, G, Xs,  Xx = 5, 4, 0.8, 0.1, 100, 10, 0;\n",
    "ge = Int8.(round.(rand(NP, L)));\n",
    "\n",
    "function fitFunCalc(x)\n",
    "    return x + 10*sin(5*x)+7*cos(4*x)\n",
    "end"
   ]
  },
  {
   "cell_type": "code",
   "execution_count": 30,
   "metadata": {},
   "outputs": [
    {
     "name": "stdout",
     "output_type": "stream",
     "text": [
      "Int8[1, 0, 1, 1, 1, 1, 1, 1, 1, 0, 0, 1, 1, 1, 1, 0, 1, 1, 1, 0]\n"
     ]
    },
    {
     "data": {
      "text/plain": [
       "7.485179901123047"
      ]
     },
     "execution_count": 30,
     "metadata": {},
     "output_type": "execute_result"
    }
   ],
   "source": [
    "# 将序列转化成对应范围内的数\n",
    "function series2Number(s, r_max, r_min)\n",
    "    num = 0\n",
    "    for i in 1:length(s)\n",
    "        num = num*2 + s[i]\n",
    "    end\n",
    "    return r_min + (r_max-r_min) * num / 2^length(s)\n",
    "end\n",
    "# test\n",
    "println(ge[1, :])\n",
    "series2Number(ge[1, :], 10, 0)"
   ]
  },
  {
   "cell_type": "code",
   "execution_count": null,
   "metadata": {},
   "outputs": [],
   "source": [
    "# select good ones\n",
    "function selectAndGenerate(ge, r_max, r_min)\n",
    "    sz = size(ge)\n",
    "    # 1. 计算值序列\n",
    "    fitValue = zeros(sz[1])\n",
    "    for i in 1:sz[1]\n",
    "        num = series2Number(ge[i, :], r_max, r_min)\n",
    "        fitValue = fitFunCalc(num)\n",
    "    end\n",
    "    # 2. 归一化\n",
    "    maxFit, maxIdx = findmax(fitValue)    # 只会返回第一个最大\n",
    "    minFit = min(fitValue)\n",
    "    geBest = ge[maxIdx, :]\n",
    "    fitValue = (fitValue .- minFit)./(maxFit-minFit)\n",
    "    # 3. 轮盘赌替换\n",
    "    fv = fitValue./sum(fitValue)         # 使得和为1\n",
    "    fv = cusum(fv)                       # 生成序列\n",
    "    sel = sort(rand(sz[1]))              # 生成选择序列\n",
    "    nge = zeros(sz)\n",
    "    for\n",
    "end"
   ]
  },
  {
   "cell_type": "markdown",
   "metadata": {},
   "source": [
    "`怎么来理解交叉的影响？`<br />\n",
    "`解答`：在进化的过程中，高位决定了大范围的分布情况，这些数据会大致判断一下当前所处区域的好坏，在多次淘汰后，一些不太好的区域就被淘汰掉，而这高位的基因也开始趋同"
   ]
  },
  {
   "cell_type": "code",
   "execution_count": 45,
   "metadata": {},
   "outputs": [
    {
     "data": {
      "text/plain": [
       "geneCorss! (generic function with 1 method)"
      ]
     },
     "execution_count": 45,
     "metadata": {},
     "output_type": "execute_result"
    }
   ],
   "source": [
    "# this function only switch the neighbor\n",
    "function geneCorss!(ge, Pc)\n",
    "    sz = size(ge)\n",
    "    for i in 1:2:sz[1]\n",
    "        # decide if having cross operation\n",
    "        if rand() < Pc\n",
    "            select = round.(rand(sz[2]))\n",
    "            for j in 1:length(select)\n",
    "                if select[j]>0\n",
    "                    tmp = ge[i, j]; ge[i, j] = ge[i+1, j]; \n",
    "                    ge[i+1, j] = tmp;\n",
    "                end\n",
    "            end\n",
    "        end\n",
    "    end\n",
    "end\n",
    "# test\n",
    "# 基于概率的不太容易测试"
   ]
  },
  {
   "cell_type": "markdown",
   "metadata": {},
   "source": [
    "`变异在搜索过程中的影响`<br />\n",
    "`解答`：尽量去搜索更多的区域，尽量得到全局的解，但变异的速度显然比不上淘汰的同化，不改变我认为这是低效算法的看法"
   ]
  },
  {
   "cell_type": "code",
   "execution_count": 56,
   "metadata": {},
   "outputs": [
    {
     "data": {
      "text/plain": [
       "geneVariation! (generic function with 1 method)"
      ]
     },
     "execution_count": 56,
     "metadata": {},
     "output_type": "execute_result"
    }
   ],
   "source": [
    "# this kind of Algorithm dont need to be so accurate\n",
    "function geneVariation!(ge, Pm)\n",
    "    for i in 1: size(ge)[1]\n",
    "        for j in 1:size(ge)[2]\n",
    "            if rand() < Pm\n",
    "                ge[i, j] = ge[i, j]>0 ? 0 : 1;\n",
    "            end\n",
    "        end\n",
    "    end\n",
    "end"
   ]
  },
  {
   "cell_type": "code",
   "execution_count": null,
   "metadata": {},
   "outputs": [],
   "source": []
  },
  {
   "cell_type": "code",
   "execution_count": 75,
   "metadata": {},
   "outputs": [
    {
     "data": {
      "text/plain": [
       "10-element Array{Int64,1}:\n",
       "  1\n",
       "  5\n",
       "  3\n",
       "  4\n",
       "  5\n",
       "  6\n",
       "  7\n",
       "  8\n",
       "  9\n",
       " 10"
      ]
     },
     "execution_count": 75,
     "metadata": {},
     "output_type": "execute_result"
    }
   ],
   "source": [
    "\n",
    "a = [1,2,3,4,5,6,7,8,9,10]\n",
    "b = a\n",
    "b[2] = 5\n",
    "a"
   ]
  },
  {
   "cell_type": "code",
   "execution_count": null,
   "metadata": {},
   "outputs": [],
   "source": []
  },
  {
   "cell_type": "code",
   "execution_count": null,
   "metadata": {},
   "outputs": [],
   "source": []
  }
 ],
 "metadata": {
  "kernelspec": {
   "display_name": "Julia 1.2.0",
   "language": "julia",
   "name": "julia-1.2"
  },
  "language_info": {
   "file_extension": ".jl",
   "mimetype": "application/julia",
   "name": "julia",
   "version": "1.2.0"
  }
 },
 "nbformat": 4,
 "nbformat_minor": 2
}
