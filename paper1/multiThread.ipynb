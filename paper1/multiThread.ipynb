{
 "cells": [
  {
   "cell_type": "markdown",
   "metadata": {},
   "source": [
    "#### 一个julia并行计算的测试\n",
    "在当前环境中设置：`export JULIA_NUM_THREAD=4`来设置可以用的线程"
   ]
  },
  {
   "cell_type": "code",
   "execution_count": 1,
   "metadata": {},
   "outputs": [],
   "source": [
    "using SharedArrays, Distributed"
   ]
  },
  {
   "cell_type": "code",
   "execution_count": 8,
   "metadata": {},
   "outputs": [
    {
     "data": {
      "text/plain": [
       "4"
      ]
     },
     "execution_count": 8,
     "metadata": {},
     "output_type": "execute_result"
    }
   ],
   "source": [
    "Threads.nthreads()"
   ]
  },
  {
   "cell_type": "code",
   "execution_count": 8,
   "metadata": {},
   "outputs": [
    {
     "data": {
      "text/plain": [
       "15-element Array{Int64,1}:\n",
       "  1\n",
       "  2\n",
       "  3\n",
       "  4\n",
       "  5\n",
       "  6\n",
       "  7\n",
       "  8\n",
       "  9\n",
       " 10\n",
       " 11\n",
       " 12\n",
       " 13\n",
       " 14\n",
       " 15"
      ]
     },
     "execution_count": 8,
     "metadata": {},
     "output_type": "execute_result"
    }
   ],
   "source": [
    "procs()"
   ]
  },
  {
   "cell_type": "code",
   "execution_count": null,
   "metadata": {},
   "outputs": [],
   "source": []
  },
  {
   "cell_type": "code",
   "execution_count": 7,
   "metadata": {},
   "outputs": [
    {
     "data": {
      "text/plain": [
       "2-element Array{Int64,1}:\n",
       " 14\n",
       " 15"
      ]
     },
     "execution_count": 7,
     "metadata": {},
     "output_type": "execute_result"
    }
   ],
   "source": [
    "addprocs(2)"
   ]
  },
  {
   "cell_type": "code",
   "execution_count": 10,
   "metadata": {},
   "outputs": [
    {
     "data": {
      "text/plain": [
       "Task (runnable) @0x00007f2947e6a980"
      ]
     },
     "execution_count": 10,
     "metadata": {},
     "output_type": "execute_result"
    },
    {
     "name": "stdout",
     "output_type": "stream",
     "text": [
      "      From worker 3:\t1\n",
      "      From worker 3:\t1\n",
      "      From worker 3:\t1\n",
      "      From worker 3:\t1\n",
      "      From worker 3:\t1\n",
      "      From worker 2:\t1\n",
      "      From worker 2:\t1\n",
      "      From worker 2:\t1\n",
      "      From worker 2:\t1\n",
      "      From worker 2:\t1\n"
     ]
    }
   ],
   "source": [
    "a = SharedArray{Float64}(1, 10)\n",
    "@distributed for i = 1:10\n",
    "    println(Threads.threadid())\n",
    "    a[i] = i\n",
    "end"
   ]
  },
  {
   "cell_type": "code",
   "execution_count": 11,
   "metadata": {},
   "outputs": [
    {
     "data": {
      "text/plain": [
       "1×10 SharedArray{Float64,2}:\n",
       " 1.0  2.0  3.0  4.0  5.0  6.0  7.0  8.0  9.0  10.0"
      ]
     },
     "execution_count": 11,
     "metadata": {},
     "output_type": "execute_result"
    }
   ],
   "source": [
    "a"
   ]
  },
  {
   "cell_type": "code",
   "execution_count": 6,
   "metadata": {},
   "outputs": [],
   "source": [
    "m, l0, u0 = 20, 0.8, [0.9, 1.0, 0.0]\n",
    "target = [1.0, 0.8, 0.2]\n",
    "malpha = -pi/5: pi/10: pi/5\n",
    "mbeta = -pi/5: pi/10: pi/5\n",
    "k1 = 1:5:10\n",
    "k2 = 1:3:10\n",
    "# res = zeros(length(malpha), length(mbeta), length(k1), length(k2))\n",
    "res = SharedArray{Float64}(length(malpha), length(mbeta), length(k1), length(k2))\n",
    "for i_alpha = 1:length(malpha)\n",
    "    for i_beta = 1:length(mbeta)\n",
    "        for i_k1 = 1:length(k1)\n",
    "            @distributed for i_k2 = 1:length(k2)\n",
    "                ctrl = [malpha[i_alpha], mbeta[i_beta], k1[i_k1], k2[i_k2]]\n",
    "                tmp = sum(ctrl)\n",
    "                res[i_alpha, i_beta, i_k1, i_k2] = tmp\n",
    "                # println(\"Thread: \",Threads.threadid(), \"res:\", tmp)\n",
    "            end\n",
    "        end\n",
    "    end\n",
    "end"
   ]
  },
  {
   "cell_type": "markdown",
   "metadata": {},
   "source": [
    "### 看起来DE相关的东西没办法用distributed\n",
    "说明：<br />\n"
   ]
  },
  {
   "cell_type": "code",
   "execution_count": 8,
   "metadata": {},
   "outputs": [],
   "source": [
    "using DifferentialEquations, ParameterizedFunctions\n",
    "using SharedArrays, Distributed"
   ]
  },
  {
   "cell_type": "code",
   "execution_count": null,
   "metadata": {},
   "outputs": [],
   "source": [
    "addprocs(2)"
   ]
  },
  {
   "cell_type": "code",
   "execution_count": 16,
   "metadata": {},
   "outputs": [
    {
     "data": {
      "text/plain": [
       "Task (runnable) @0x00007f5fcfbb5870"
      ]
     },
     "execution_count": 16,
     "metadata": {},
     "output_type": "execute_result"
    }
   ],
   "source": [
    "function parameterized_lorenz(du,u,p,t)\n",
    "  x,y,z = u\n",
    "  σ,ρ,β = p\n",
    "  du[1] = dx = σ*(y-x)\n",
    "  du[2] = dy = x*(ρ-z) - y\n",
    "  du[3] = dz = x*y - β*z\n",
    "end\n",
    "function acc_p(p)\n",
    "    u0 = [1.0;0.0;0.0]\n",
    "    tspan = (0.0,1.0)\n",
    "    prob = ODEProblem(parameterized_lorenz,u0,tspan,p)\n",
    "    sol = solve(prob)\n",
    "    return sum(sol.u[:, 1])\n",
    "end\n",
    "\n",
    "# p = [10.0,28.0,8/3]\n",
    "arr = 8.0:0.1:10\n",
    "res = SharedArray{Float64}(1, length(arr))\n",
    "@distributed for i in 1:length(arr)\n",
    "    p = [arr[i], 28.0, 8/3]\n",
    "    res[i] = acc_p(p)[1]\n",
    "end"
   ]
  },
  {
   "cell_type": "code",
   "execution_count": 17,
   "metadata": {},
   "outputs": [
    {
     "data": {
      "text/plain": [
       "1×21 SharedArray{Float64,2}:\n",
       " 0.0  0.0  0.0  0.0  0.0  0.0  0.0  0.0  …  0.0  0.0  0.0  0.0  0.0  0.0  0.0"
      ]
     },
     "execution_count": 17,
     "metadata": {},
     "output_type": "execute_result"
    }
   ],
   "source": [
    "res"
   ]
  },
  {
   "cell_type": "markdown",
   "metadata": {},
   "source": [
    "### github issue给出的解答\n",
    "实际上只是因为运行在其他works上的程序是独立的，是不会知道我们原来的进程做了什么的，所以必须要在必要的代码前面使用`@everywhere`表示这部分代码也会在其他的worker上执行，这样子在其他worker上启动的代码会更多一点，但不影响！"
   ]
  },
  {
   "cell_type": "code",
   "execution_count": 22,
   "metadata": {},
   "outputs": [],
   "source": [
    "using Distributed\n",
    "if(length(procs())<3)\n",
    "    addprocs(2)\n",
    "end\n",
    "@everywhere using DifferentialEquations, SharedArrays, ParameterizedFunctions"
   ]
  },
  {
   "cell_type": "code",
   "execution_count": 23,
   "metadata": {},
   "outputs": [
    {
     "data": {
      "text/plain": [
       "5-element Array{Int64,1}:\n",
       " 1\n",
       " 2\n",
       " 3\n",
       " 4\n",
       " 5"
      ]
     },
     "execution_count": 23,
     "metadata": {},
     "output_type": "execute_result"
    }
   ],
   "source": [
    "procs()"
   ]
  },
  {
   "cell_type": "code",
   "execution_count": 44,
   "metadata": {},
   "outputs": [
    {
     "data": {
      "text/plain": [
       "1×20001 SharedArray{Float64,2}:\n",
       " 0.0  0.0  0.0  0.0  0.0  0.0  0.0  0.0  …  0.0  0.0  0.0  0.0  0.0  0.0  0.0"
      ]
     },
     "execution_count": 44,
     "metadata": {},
     "output_type": "execute_result"
    }
   ],
   "source": [
    "@everywhere function parameterized_lorenz(du,u,p,t)\n",
    "  x,y,z = u\n",
    "  σ,ρ,β = p\n",
    "  du[1] = dx = σ*(y-x)\n",
    "  du[2] = dy = x*(ρ-z) - y\n",
    "  du[3] = dz = x*y - β*z\n",
    "end\n",
    "@everywhere function acc_p(p)\n",
    "    u0 = [1.0;0.0;0.0]\n",
    "    tspan = (0.0,1.0)\n",
    "    prob = ODEProblem(parameterized_lorenz,u0,tspan,p)\n",
    "    sol = solve(prob)\n",
    "    return sum(sol.u[:, 1])\n",
    "end\n",
    "\n",
    "# p = [10.0,28.0,8/3]\n",
    "arr = 8.0:0.0001:10\n",
    "res = SharedArray{Float64}(1, length(arr))\n"
   ]
  },
  {
   "cell_type": "code",
   "execution_count": 52,
   "metadata": {},
   "outputs": [
    {
     "name": "stdout",
     "output_type": "stream",
     "text": [
      "  1.143065 seconds (181.03 k allocations: 9.019 MiB)\n"
     ]
    },
    {
     "data": {
      "text/plain": [
       "Task (done) @0x00007f5fcf9f5ae0"
      ]
     },
     "execution_count": 52,
     "metadata": {},
     "output_type": "execute_result"
    }
   ],
   "source": [
    "@time @sync @distributed for i in 1:length(arr)\n",
    "    p = [arr[i], 28.0, 8/3 + rand()]\n",
    "    res[i] = acc_p(p)[1]\n",
    "end"
   ]
  },
  {
   "cell_type": "code",
   "execution_count": 51,
   "metadata": {},
   "outputs": [
    {
     "name": "stdout",
     "output_type": "stream",
     "text": [
      "  2.139751 seconds (14.25 M allocations: 1.231 GiB, 11.10% gc time)\n"
     ]
    }
   ],
   "source": [
    "@time for i in 1:length(arr)\n",
    "    p = [arr[i], 28.0, 8/3 + rand()]\n",
    "    res[i] = acc_p(p)[1]\n",
    "end"
   ]
  },
  {
   "cell_type": "markdown",
   "metadata": {},
   "source": [
    "#### 总结\n",
    "在本例子中，当数量不太多，小于10000的时候，分布式计算的时间好像比单芯片的计算时间还多，所以还是对大规模的计算用分布式比较好"
   ]
  },
  {
   "cell_type": "markdown",
   "metadata": {},
   "source": [
    "### 文件操作测试"
   ]
  },
  {
   "cell_type": "code",
   "execution_count": 11,
   "metadata": {},
   "outputs": [
    {
     "data": {
      "text/plain": [
       "IOStream(<file hello.txt>)"
      ]
     },
     "execution_count": 11,
     "metadata": {},
     "output_type": "execute_result"
    }
   ],
   "source": [
    " f= open(\"hello.txt\", \"a\")"
   ]
  },
  {
   "cell_type": "code",
   "execution_count": 15,
   "metadata": {},
   "outputs": [
    {
     "data": {
      "text/plain": [
       "13"
      ]
     },
     "execution_count": 15,
     "metadata": {},
     "output_type": "execute_result"
    }
   ],
   "source": [
    "write(f, \"hello, world\\n\")"
   ]
  },
  {
   "cell_type": "code",
   "execution_count": 16,
   "metadata": {},
   "outputs": [],
   "source": [
    "close(f)"
   ]
  },
  {
   "cell_type": "code",
   "execution_count": null,
   "metadata": {},
   "outputs": [],
   "source": []
  },
  {
   "cell_type": "code",
   "execution_count": null,
   "metadata": {},
   "outputs": [],
   "source": []
  }
 ],
 "metadata": {
  "kernelspec": {
   "display_name": "Julia 1.2.0",
   "language": "julia",
   "name": "julia-1.2"
  },
  "language_info": {
   "file_extension": ".jl",
   "mimetype": "application/julia",
   "name": "julia",
   "version": "1.2.0"
  }
 },
 "nbformat": 4,
 "nbformat_minor": 2
}
