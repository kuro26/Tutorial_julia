{
 "cells": [
  {
   "cell_type": "code",
   "execution_count": 1,
   "metadata": {},
   "outputs": [],
   "source": [
    "using Flux, Metalhead, Statistics\n",
    "using Flux: onehotbatch, onecold, crossentropy, throttle\n",
    "using Metalhead: trainimgs\n",
    "using Images: channelview\n",
    "using Statistics: mean\n",
    "using Base.Iterators: partition\n"
   ]
  },
  {
   "cell_type": "code",
   "execution_count": 2,
   "metadata": {},
   "outputs": [
    {
     "data": {
      "text/plain": [
       "vgg16 (generic function with 1 method)"
      ]
     },
     "execution_count": 2,
     "metadata": {},
     "output_type": "execute_result"
    }
   ],
   "source": [
    "vgg16() = Chain(\n",
    "  Conv((3, 3), 3 => 64, relu, pad=(1, 1), stride=(1, 1)),\n",
    "  BatchNorm(64),\n",
    "  Conv((3, 3), 64 => 64, relu, pad=(1, 1), stride=(1, 1)),\n",
    "  BatchNorm(64),\n",
    "  MaxPool((2, 2)),\n",
    "  Conv((3, 3), 64 => 128, relu, pad=(1, 1), stride=(1, 1)),\n",
    "  BatchNorm(128),\n",
    "  Conv((3, 3), 128 => 128, relu, pad=(1, 1), stride=(1, 1)),\n",
    "  BatchNorm(128),\n",
    "  MaxPool((2, 2)),\n",
    "  Conv((3, 3), 128 => 256, relu, pad=(1, 1), stride=(1, 1)),\n",
    "  BatchNorm(256),\n",
    "  Conv((3, 3), 256 => 256, relu, pad=(1, 1), stride=(1, 1)),\n",
    "  BatchNorm(256),\n",
    "  Conv((3, 3), 256 => 256, relu, pad=(1, 1), stride=(1, 1)),\n",
    "  BatchNorm(256),\n",
    "  MaxPool((2, 2)),\n",
    "  Conv((3, 3), 256 => 512, relu, pad=(1, 1), stride=(1, 1)),\n",
    "  BatchNorm(512),\n",
    "  Conv((3, 3), 512 => 512, relu, pad=(1, 1), stride=(1, 1)),\n",
    "  BatchNorm(512),\n",
    "  Conv((3, 3), 512 => 512, relu, pad=(1, 1), stride=(1, 1)),\n",
    "  BatchNorm(512),\n",
    "  MaxPool((2, 2)),\n",
    "  Conv((3, 3), 512 => 512, relu, pad=(1, 1), stride=(1, 1)),\n",
    "  BatchNorm(512),\n",
    "  Conv((3, 3), 512 => 512, relu, pad=(1, 1), stride=(1, 1)),\n",
    "  BatchNorm(512),\n",
    "  Conv((3, 3), 512 => 512, relu, pad=(1, 1), stride=(1, 1)),\n",
    "  BatchNorm(512),\n",
    "  MaxPool((2, 2)),\n",
    "  x -> reshape(x, :, size(x, 4)),\n",
    "  Dense(512, 4096, relu),\n",
    "  Dropout(0.5),\n",
    "  Dense(4096, 4096, relu),\n",
    "  Dropout(0.5),\n",
    "  Dense(4096, 10),\n",
    "  softmax) |> gpu"
   ]
  },
  {
   "cell_type": "code",
   "execution_count": 3,
   "metadata": {},
   "outputs": [
    {
     "data": {
      "text/plain": [
       "vgg19 (generic function with 1 method)"
      ]
     },
     "execution_count": 3,
     "metadata": {},
     "output_type": "execute_result"
    }
   ],
   "source": [
    "vgg19() = Chain(\n",
    "  Conv((3, 3), 3 => 64, relu, pad=(1, 1), stride=(1, 1)),\n",
    "  BatchNorm(64),\n",
    "  Conv((3, 3), 64 => 64, relu, pad=(1, 1), stride=(1, 1)),\n",
    "  BatchNorm(64),\n",
    "  MaxPool((2, 2)),\n",
    "  Conv((3, 3), 64 => 128, relu, pad=(1, 1), stride=(1, 1)),\n",
    "  BatchNorm(128),\n",
    "  Conv((3, 3), 128 => 128, relu, pad=(1, 1), stride=(1, 1)),\n",
    "  BatchNorm(128),\n",
    "  MaxPool((2, 2)),\n",
    "  Conv((3, 3), 128 => 256, relu, pad=(1, 1), stride=(1, 1)),\n",
    "  BatchNorm(256),\n",
    "  Conv((3, 3), 256 => 256, relu, pad=(1, 1), stride=(1, 1)),\n",
    "  BatchNorm(256),\n",
    "  Conv((3, 3), 256 => 256, relu, pad=(1, 1), stride=(1, 1)),\n",
    "  BatchNorm(256),\n",
    "  Conv((3, 3), 256 => 256, relu, pad=(1, 1), stride=(1, 1)),\n",
    "  MaxPool((2, 2)),\n",
    "  Conv((3, 3), 256 => 512, relu, pad=(1, 1), stride=(1, 1)),\n",
    "  BatchNorm(512),\n",
    "  Conv((3, 3), 512 => 512, relu, pad=(1, 1), stride=(1, 1)),\n",
    "  BatchNorm(512),\n",
    "  Conv((3, 3), 512 => 512, relu, pad=(1, 1), stride=(1, 1)),\n",
    "  BatchNorm(512),\n",
    "  Conv((3, 3), 512 => 512, relu, pad=(1, 1), stride=(1, 1)),\n",
    "  MaxPool((2, 2)),\n",
    "  Conv((3, 3), 512 => 512, relu, pad=(1, 1), stride=(1, 1)),\n",
    "  BatchNorm(512),\n",
    "  Conv((3, 3), 512 => 512, relu, pad=(1, 1), stride=(1, 1)),\n",
    "  BatchNorm(512),\n",
    "  Conv((3, 3), 512 => 512, relu, pad=(1, 1), stride=(1, 1)),\n",
    "  BatchNorm(512),\n",
    "  Conv((3, 3), 512 => 512, relu, pad=(1, 1), stride=(1, 1)),\n",
    "  MaxPool((2, 2)),\n",
    "  x -> reshape(x, :, size(x, 4)),\n",
    "  Dense(512, 4096, relu),\n",
    "  Dropout(0.5),\n",
    "  Dense(4096, 4096, relu),\n",
    "  Dropout(0.5),\n",
    "  Dense(4096, 10),\n",
    "  softmax) |> gpu"
   ]
  },
  {
   "cell_type": "code",
   "execution_count": 4,
   "metadata": {},
   "outputs": [
    {
     "data": {
      "text/plain": [
       "Chain(Conv((3, 3), 3=>64, relu), BatchNorm(64), Conv((3, 3), 64=>64, relu), BatchNorm(64), MaxPool((2, 2), pad = (0, 0, 0, 0), stride = (2, 2)), Conv((3, 3), 64=>128, relu), BatchNorm(128), Conv((3, 3), 128=>128, relu), BatchNorm(128), MaxPool((2, 2), pad = (0, 0, 0, 0), stride = (2, 2)), Conv((3, 3), 128=>256, relu), BatchNorm(256), Conv((3, 3), 256=>256, relu), BatchNorm(256), Conv((3, 3), 256=>256, relu), BatchNorm(256), MaxPool((2, 2), pad = (0, 0, 0, 0), stride = (2, 2)), Conv((3, 3), 256=>512, relu), BatchNorm(512), Conv((3, 3), 512=>512, relu), BatchNorm(512), Conv((3, 3), 512=>512, relu), BatchNorm(512), MaxPool((2, 2), pad = (0, 0, 0, 0), stride = (2, 2)), Conv((3, 3), 512=>512, relu), BatchNorm(512), Conv((3, 3), 512=>512, relu), BatchNorm(512), Conv((3, 3), 512=>512, relu), BatchNorm(512), MaxPool((2, 2), pad = (0, 0, 0, 0), stride = (2, 2)), #3, Dense(512, 4096, relu), Dropout{Float64}(0.5, Colon(), true), Dense(4096, 4096, relu), Dropout{Float64}(0.5, Colon(), true), Dense(4096, 10), softmax)"
      ]
     },
     "execution_count": 4,
     "metadata": {},
     "output_type": "execute_result"
    }
   ],
   "source": [
    "# Function to convert the RGB image to Float64 Arrays\n",
    "\n",
    "getarray(X) = Float32.(permutedims(channelview(X), (2, 3, 1)))\n",
    "\n",
    "# Fetching the train and validation data and getting them into proper shape\n",
    "\n",
    "X = trainimgs(CIFAR10)\n",
    "imgs = [getarray(X[i].img) for i in 1:50000]\n",
    "labels = onehotbatch([X[i].ground_truth.class for i in 1:50000],1:10)\n",
    "train = gpu.([(cat(imgs[i]..., dims = 4), labels[:,i]) for i in partition(1:49000, 100)])\n",
    "valset = collect(49001:50000)\n",
    "valX = cat(imgs[valset]..., dims = 4) |> gpu\n",
    "valY = labels[:, valset] |> gpu\n",
    "\n",
    "# Defining the loss and accuracy functions\n",
    "\n",
    "m = vgg16()"
   ]
  },
  {
   "cell_type": "code",
   "execution_count": null,
   "metadata": {},
   "outputs": [],
   "source": [
    "loss(x, y) = crossentropy(m(x), y)\n",
    "\n",
    "accuracy(x, y) = mean(onecold(m(x), 1:10) .== onecold(y, 1:10))\n",
    "\n",
    "# Defining the callback and the optimizer\n",
    "\n",
    "evalcb = throttle(() -> @show(accuracy(valX, valY)), 10)\n",
    "\n",
    "opt = ADAM()\n",
    "\n",
    "# Starting to train models\n",
    "\n",
    "Flux.train!(loss, params(m), train, opt, cb = evalcb)"
   ]
  },
  {
   "cell_type": "code",
   "execution_count": null,
   "metadata": {},
   "outputs": [],
   "source": []
  }
 ],
 "metadata": {
  "kernelspec": {
   "display_name": "Julia 1.2.0",
   "language": "julia",
   "name": "julia-1.2"
  },
  "language_info": {
   "file_extension": ".jl",
   "mimetype": "application/julia",
   "name": "julia",
   "version": "1.2.0"
  }
 },
 "nbformat": 4,
 "nbformat_minor": 2
}
