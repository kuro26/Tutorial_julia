{
 "cells": [
  {
   "cell_type": "markdown",
   "metadata": {},
   "source": [
    "### Flux"
   ]
  },
  {
   "cell_type": "code",
   "execution_count": 1,
   "metadata": {},
   "outputs": [],
   "source": [
    "using Flux\n",
    "using Flux.Tracker: gradient"
   ]
  },
  {
   "cell_type": "code",
   "execution_count": 11,
   "metadata": {},
   "outputs": [
    {
     "data": {
      "text/plain": [
       "5×5 Array{Int64,2}:\n",
       " 1   2   3   4   5\n",
       " 2   4   6   8  10\n",
       " 3   6   9  12  15\n",
       " 4   8  12  16  20\n",
       " 5  10  15  20  25"
      ]
     },
     "execution_count": 11,
     "metadata": {},
     "output_type": "execute_result"
    }
   ],
   "source": [
    "# 一些基本的操作\n",
    "(1:5) .* (1:5)'"
   ]
  },
  {
   "cell_type": "code",
   "execution_count": 12,
   "metadata": {},
   "outputs": [
    {
     "data": {
      "text/plain": [
       "5-element Array{Float64,1}:\n",
       " -1.5280229671582855\n",
       " -0.8907901449186502\n",
       "  2.4692493354385805\n",
       " -0.7573421933228726\n",
       "  1.0693267200698322"
      ]
     },
     "execution_count": 12,
     "metadata": {},
     "output_type": "execute_result"
    }
   ],
   "source": [
    "x = [1, 2, 3]\n",
    "x = [1 2; 3 4]\n",
    "x = rand(5, 3)\n",
    "x = rand(BigFloat, 5, 3)\n",
    "x = rand(Float32, 5, 3)\n",
    "length(x)  # 长度\n",
    "size(x)    # 尺寸\n",
    "x[2, 3]    # 索引\n",
    "x[:, 3]    # 获取整行，像ode那种就不行\n",
    "x + x      # 矩阵相加\n",
    "x .+ 1     # 矩阵加常数\n",
    "zeros(5,5) .+ (1:5)   # 理解这是怎么加的\n",
    "(1:5) .* (1:5)'\n",
    "W = randn(5, 10)      # 矩阵乘法\n",
    "x = rand(10)\n",
    "W * x\n"
   ]
  },
  {
   "cell_type": "markdown",
   "metadata": {},
   "source": [
    "》》》在原本的tutorial中，这个是为了derivate函数来设计的，不过这个函数现在已经被丢弃了"
   ]
  },
  {
   "cell_type": "code",
   "execution_count": 30,
   "metadata": {},
   "outputs": [
    {
     "name": "stdout",
     "output_type": "stream",
     "text": [
      "[6, 17, 34]\n",
      "38.0 (tracked)\n"
     ]
    },
    {
     "data": {
      "text/plain": [
       "(6.0 (tracked),)"
      ]
     },
     "execution_count": 30,
     "metadata": {},
     "output_type": "execute_result"
    }
   ],
   "source": [
    "f(x) = 3 .*x.^2 .+ 2 .*x .+ 1\n",
    "println(f([1,2,3]))\n",
    "df(x) = gradient(f, x, nest=true)[1]    # 可以直接生成导函数\n",
    "println(df(6))\n",
    "ddf(x) = gradient(df, x)\n",
    "ddf(5)"
   ]
  },
  {
   "cell_type": "markdown",
   "metadata": {},
   "source": [
    "》》》考虑当输入x为张量（矩阵）时，如下所示"
   ]
  },
  {
   "cell_type": "code",
   "execution_count": 31,
   "metadata": {},
   "outputs": [
    {
     "data": {
      "text/plain": [
       "([0.9391502998225114 0.7674645991546505 … 0.5224331036148129 0.0626184715521072; 0.9391502998225114 0.7674645991546505 … 0.5224331036148129 0.0626184715521072; 0.9391502998225114 0.7674645991546505 … 0.5224331036148129 0.0626184715521072] (tracked), [1.0, 1.0, 1.0] (tracked), [0.33835051365464414, 0.4639248567104407, -1.0556493345309845, -0.49252737911456956, -1.301568942977636] (tracked))"
      ]
     },
     "execution_count": 31,
     "metadata": {},
     "output_type": "execute_result"
    }
   ],
   "source": [
    "# Tracker应该是类似tf中graph的存在\n",
    "using Flux.Tracker: gradient\n",
    "myloss(W, b, x) = sum(W * x .+ b)\n",
    "W = randn(3, 5)\n",
    "b = zeros(3)\n",
    "x = rand(5)\n",
    "# W, b, x 分别对应myloss的三个参数，计算结果分别对应三个参数的导数\n",
    "gradient(myloss, W, b, x) "
   ]
  },
  {
   "cell_type": "markdown",
   "metadata": {},
   "source": [
    "### 图的形式\n",
    "上一小节的表达直接用了函数来计算"
   ]
  },
  {
   "cell_type": "code",
   "execution_count": 36,
   "metadata": {},
   "outputs": [
    {
     "name": "stdout",
     "output_type": "stream",
     "text": [
      "[0.11254548320266577 0.1430648854859362 0.3318530809523499 0.9815254552559451 0.790644575891239; 0.11254548320266577 0.1430648854859362 0.3318530809523499 0.9815254552559451 0.790644575891239; 0.11254548320266577 0.1430648854859362 0.3318530809523499 0.9815254552559451 0.790644575891239]\n",
      "[1.0, 1.0, 1.0]\n"
     ]
    }
   ],
   "source": [
    "using Flux.Tracker: param, back!, grad\n",
    "\n",
    "W = param(randn(3, 5))   # 使用param来标注出不同\n",
    "b = param(zeros(3))\n",
    "x = rand(5)\n",
    "\n",
    "y = sum(W * x .+ b)     # 不同于之前的\n",
    "\n",
    "back!(y)                # 从结果y开始，反向传播\n",
    "println(grad(W))\n",
    "println(grad(b))        # 很显然这部分应该全是1"
   ]
  },
  {
   "cell_type": "markdown",
   "metadata": {},
   "source": [
    "### 使用成型的层\n",
    "一般我们在构造网络的时候会直接用已经封装好的`layers`，所以下面介绍一下对layers的操作，主要包括：\n",
    "1. 前向计算\n",
    "2. `layers`的连接\n",
    "3. 获取模型中的参数，以及对指定参数求导"
   ]
  },
  {
   "cell_type": "code",
   "execution_count": 40,
   "metadata": {},
   "outputs": [
    {
     "data": {
      "text/plain": [
       "4-element Array{Array{Float32,N} where N,1}:\n",
       " [0.0 0.0 … 0.0 0.0; 0.0 0.0 … 0.0 0.0; … ; 0.010352412 0.05010504 … 0.093890734 0.05208994; 0.0 0.0 … 0.0 0.0]\n",
       " [0.0, 0.0, 0.0, 0.11023957, 0.0]                                                                              \n",
       " [0.0 0.0 … 0.08931084 0.0; 0.0 0.0 … -0.089310855 0.0]                                                        \n",
       " [0.13391215, -0.13391218]                                                                                     "
      ]
     },
     "execution_count": 40,
     "metadata": {},
     "output_type": "execute_result"
    }
   ],
   "source": [
    "using Flux\n",
    "\n",
    "m = Dense(10, 5)             # 一个10输入，5输出的Dense模块\n",
    "\n",
    "x = rand(Float32, 10)\n",
    "\n",
    "m(x)                         # 直接计算输出\n",
    "\n",
    "m(x) == m.W * x .+ m.b      # m.W 和 m.b为Dense对象的参数\n",
    "\n",
    "params(m)                    # 这个很重要，获取参数并且对参数进行修改\n",
    "\n",
    "m = Chain(Dense(10, 5, relu), Dense(5, 2), softmax)     # 使用Chain连接不同的模型\n",
    "\n",
    "l = sum(Flux.crossentropy(m(x), [0.5, 0.5]))            # 将结果进行交叉熵计算\n",
    "back!(l)                     # 反向传播计算\n",
    "\n",
    "grad.(params(m))             # 使用params(m)获取是哪些参数，并计算导数"
   ]
  },
  {
   "cell_type": "markdown",
   "metadata": {},
   "source": [
    "### 更新权重参数\n",
    "不是一定要使用层，当层不满足需求的时候我们也可以自定义，不过使用`layers`的确可以加快开发迭代\n",
    "\n",
    "下面是一个手写的更新过程"
   ]
  },
  {
   "cell_type": "code",
   "execution_count": 41,
   "metadata": {},
   "outputs": [],
   "source": [
    "using Flux.Tracker: update!\n",
    "\n",
    "η = 0.1\n",
    "for p in params(m)\n",
    "  update!(p, -η * grad(p))       # 对每一个layers中的参数迭代计算新的数值\n",
    "end"
   ]
  },
  {
   "cell_type": "markdown",
   "metadata": {},
   "source": [
    "### 使用库中的迭代方法\n",
    "随着系统变得复杂，更新值的方法也更复杂，就没必要全部自己手写了\n",
    "\n",
    "好像这里举例说明的两个已经被抛弃了！"
   ]
  },
  {
   "cell_type": "code",
   "execution_count": 42,
   "metadata": {},
   "outputs": [
    {
     "name": "stderr",
     "output_type": "stream",
     "text": [
      "┌ Warning: SGD(params) is deprecated; use Descent(η::Float64) instead\n",
      "│   caller = top-level scope at In[42]:1\n",
      "└ @ Core In[42]:1\n",
      "┌ Warning: `_update_params!` is deprecated, use `update!` instead.\n",
      "│   caller = ip:0x0\n",
      "└ @ Core :-1\n"
     ]
    }
   ],
   "source": [
    "opt = SGD(params(m), 0.01)\n",
    "opt()     # 更新权值"
   ]
  },
  {
   "cell_type": "code",
   "execution_count": 43,
   "metadata": {},
   "outputs": [
    {
     "name": "stdout",
     "output_type": "stream",
     "text": [
      "search: \u001b[0m\u001b[1mf\u001b[22m\u001b[0m\u001b[1mi\u001b[22m\u001b[0m\u001b[1ml\u001b[22m\u001b[0m\u001b[1ml\u001b[22m \u001b[0m\u001b[1mf\u001b[22m\u001b[0m\u001b[1mi\u001b[22m\u001b[0m\u001b[1ml\u001b[22m\u001b[0m\u001b[1ml\u001b[22m! \u001b[0m\u001b[1mf\u001b[22m\u001b[0m\u001b[1mi\u001b[22mna\u001b[0m\u001b[1ml\u001b[22m\u001b[0m\u001b[1ml\u001b[22my \u001b[0m\u001b[1mf\u001b[22m\u001b[0m\u001b[1mi\u001b[22mnda\u001b[0m\u001b[1ml\u001b[22m\u001b[0m\u001b[1ml\u001b[22m \u001b[0m\u001b[1mf\u001b[22m\u001b[0m\u001b[1mi\u001b[22m\u001b[0m\u001b[1ml\u001b[22mter \u001b[0m\u001b[1mf\u001b[22m\u001b[0m\u001b[1mi\u001b[22m\u001b[0m\u001b[1ml\u001b[22mter! \u001b[0m\u001b[1mf\u001b[22m\u001b[0m\u001b[1mi\u001b[22m\u001b[0m\u001b[1ml\u001b[22mesize \u001b[0m\u001b[1mf\u001b[22m\u001b[0m\u001b[1mi\u001b[22m\u001b[0m\u001b[1ml\u001b[22memode is\u001b[0m\u001b[1mf\u001b[22m\u001b[0m\u001b[1mi\u001b[22m\u001b[0m\u001b[1ml\u001b[22me\n",
      "\n"
     ]
    },
    {
     "data": {
      "text/latex": [
       "\\begin{verbatim}\n",
       "fill(x, dims)\n",
       "\\end{verbatim}\n",
       "Create an array filled with the value \\texttt{x}. For example, \\texttt{fill(1.0, (5,5))} returns a 5×5 array of floats, with each element initialized to \\texttt{1.0}.\n",
       "\n",
       "\\section{Examples}\n",
       "\\begin{verbatim}\n",
       "julia> fill(1.0, (5,5))\n",
       "5×5 Array{Float64,2}:\n",
       " 1.0  1.0  1.0  1.0  1.0\n",
       " 1.0  1.0  1.0  1.0  1.0\n",
       " 1.0  1.0  1.0  1.0  1.0\n",
       " 1.0  1.0  1.0  1.0  1.0\n",
       " 1.0  1.0  1.0  1.0  1.0\n",
       "\\end{verbatim}\n",
       "If \\texttt{x} is an object reference, all elements will refer to the same object. \\texttt{fill(Foo(), dims)} will return an array filled with the result of evaluating \\texttt{Foo()} once.\n",
       "\n"
      ],
      "text/markdown": [
       "```\n",
       "fill(x, dims)\n",
       "```\n",
       "\n",
       "Create an array filled with the value `x`. For example, `fill(1.0, (5,5))` returns a 5×5 array of floats, with each element initialized to `1.0`.\n",
       "\n",
       "# Examples\n",
       "\n",
       "```jldoctest\n",
       "julia> fill(1.0, (5,5))\n",
       "5×5 Array{Float64,2}:\n",
       " 1.0  1.0  1.0  1.0  1.0\n",
       " 1.0  1.0  1.0  1.0  1.0\n",
       " 1.0  1.0  1.0  1.0  1.0\n",
       " 1.0  1.0  1.0  1.0  1.0\n",
       " 1.0  1.0  1.0  1.0  1.0\n",
       "```\n",
       "\n",
       "If `x` is an object reference, all elements will refer to the same object. `fill(Foo(), dims)` will return an array filled with the result of evaluating `Foo()` once.\n"
      ],
      "text/plain": [
       "\u001b[36m  fill(x, dims)\u001b[39m\n",
       "\n",
       "  Create an array filled with the value \u001b[36mx\u001b[39m. For example, \u001b[36mfill(1.0, (5,5))\u001b[39m\n",
       "  returns a 5×5 array of floats, with each element initialized to \u001b[36m1.0\u001b[39m.\n",
       "\n",
       "\u001b[1m  Examples\u001b[22m\n",
       "\u001b[1m  ≡≡≡≡≡≡≡≡≡≡\u001b[22m\n",
       "\n",
       "\u001b[36m  julia> fill(1.0, (5,5))\u001b[39m\n",
       "\u001b[36m  5×5 Array{Float64,2}:\u001b[39m\n",
       "\u001b[36m   1.0  1.0  1.0  1.0  1.0\u001b[39m\n",
       "\u001b[36m   1.0  1.0  1.0  1.0  1.0\u001b[39m\n",
       "\u001b[36m   1.0  1.0  1.0  1.0  1.0\u001b[39m\n",
       "\u001b[36m   1.0  1.0  1.0  1.0  1.0\u001b[39m\n",
       "\u001b[36m   1.0  1.0  1.0  1.0  1.0\u001b[39m\n",
       "\n",
       "  If \u001b[36mx\u001b[39m is an object reference, all elements will refer to the same object.\n",
       "  \u001b[36mfill(Foo(), dims)\u001b[39m will return an array filled with the result of evaluating\n",
       "  \u001b[36mFoo()\u001b[39m once."
      ]
     },
     "execution_count": 43,
     "metadata": {},
     "output_type": "execute_result"
    }
   ],
   "source": [
    "?fill"
   ]
  },
  {
   "cell_type": "code",
   "execution_count": 49,
   "metadata": {},
   "outputs": [
    {
     "name": "stderr",
     "output_type": "stream",
     "text": [
      "┌ Warning: train!(loss, data, opt) is deprecated; use train!(loss, params, data, opt) instead\n",
      "│   caller = top-level scope at In[49]:3\n",
      "└ @ Core In[49]:3\n"
     ]
    }
   ],
   "source": [
    "data, labels = rand(10, 100), fill(0.5, 2, 100)\n",
    "loss(x, y) = sum(Flux.crossentropy(m(x), y))\n",
    "Flux.train!(loss, [(data,labels)], opt)\n",
    "# Flux.train!(loss, params(m),[(data,labels)], opt)"
   ]
  },
  {
   "cell_type": "code",
   "execution_count": 47,
   "metadata": {},
   "outputs": [
    {
     "data": {
      "text/plain": [
       "2×3 Array{Float64,2}:\n",
       " 0.162184  0.113996  0.330483\n",
       " 0.358728  0.884668  0.311931"
      ]
     },
     "execution_count": 47,
     "metadata": {},
     "output_type": "execute_result"
    }
   ],
   "source": [
    "rand(2,3)"
   ]
  },
  {
   "cell_type": "markdown",
   "metadata": {},
   "source": [
    "### 一个完整训练过程\n",
    "下面是例子训练的图片\n",
    "![title](https://pytorch.org/tutorials/_images/cifar10.png)\n",
    "实际数据为`32X32`，RGB三通道"
   ]
  },
  {
   "cell_type": "code",
   "execution_count": 74,
   "metadata": {},
   "outputs": [],
   "source": [
    "using Statistics\n",
    "# using CuArrays\n",
    "using Flux, Flux.Tracker, Flux.Optimise\n",
    "using Metalhead, Images\n",
    "using Metalhead: trainimgs\n",
    "using Images.ImageCore\n",
    "using Flux: onehotbatch, onecold\n",
    "using Base.Iterators: partition"
   ]
  },
  {
   "cell_type": "code",
   "execution_count": 75,
   "metadata": {},
   "outputs": [
    {
     "data": {
      "text/html": [
       "<table><tbody><tr><td style='text-align:center;vertical-align:middle; margin: 0.5em;border:1px #90999f solid;border-collapse:collapse'><img style='max-width: 100px; max-height:100px;display:inline' src=\"data:image/png;base64,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\"></td><td style='text-align:center;vertical-align:middle; margin: 0.5em;border:1px #90999f solid;border-collapse:collapse'><img style='max-width: 100px; max-height:100px;display:inline' src=\"data:image/png;base64,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\"></td><td style='text-align:center;vertical-align:middle; margin: 0.5em;border:1px #90999f solid;border-collapse:collapse'><img style='max-width: 100px; max-height:100px;display:inline' src=\"data:image/png;base64,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\"></td><td style='text-align:center;vertical-align:middle; margin: 0.5em;border:1px #90999f solid;border-collapse:collapse'><img style='max-width: 100px; max-height:100px;display:inline' src=\"data:image/png;base64,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\"></td><td style='text-align:center;vertical-align:middle; margin: 0.5em;border:1px #90999f solid;border-collapse:collapse'><img style='max-width: 100px; max-height:100px;display:inline' src=\"data:image/png;base64,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\"></td><td style='text-align:center;vertical-align:middle; margin: 0.5em;border:1px #90999f solid;border-collapse:collapse'><img style='max-width: 100px; max-height:100px;display:inline' src=\"data:image/png;base64,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\"></td><td style='text-align:center;vertical-align:middle; margin: 0.5em;border:1px #90999f solid;border-collapse:collapse'><img style='max-width: 100px; max-height:100px;display:inline' src=\"data:image/png;base64,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\"></td><td style='text-align:center;vertical-align:middle; margin: 0.5em;border:1px #90999f solid;border-collapse:collapse'><img style='max-width: 100px; max-height:100px;display:inline' src=\"data:image/png;base64,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\"></td><td style='text-align:center;vertical-align:middle; margin: 0.5em;border:1px #90999f solid;border-collapse:collapse'><img style='max-width: 100px; max-height:100px;display:inline' src=\"data:image/png;base64,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\"></td><td style='text-align:center;vertical-align:middle; margin: 0.5em;border:1px #90999f solid;border-collapse:collapse'><img style='max-width: 100px; max-height:100px;display:inline' src=\"data:image/png;base64,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\"></td></tr></tbody></table><div><small>(a vector displayed as a row to save space)</small></div>"
      ],
      "text/plain": [
       "10-element Array{Array{RGB{Normed{UInt8,8}},2},1}:\n",
       " [RGB{N0f8}(0.035,0.259,0.431) RGB{N0f8}(0.047,0.271,0.443) … RGB{N0f8}(0.051,0.275,0.435) RGB{N0f8}(0.086,0.302,0.455); RGB{N0f8}(0.039,0.271,0.435) RGB{N0f8}(0.051,0.278,0.443) … RGB{N0f8}(0.02,0.251,0.42) RGB{N0f8}(0.039,0.271,0.431); … ; RGB{N0f8}(0.565,0.573,0.463) RGB{N0f8}(0.592,0.588,0.482) … RGB{N0f8}(0.51,0.498,0.349) RGB{N0f8}(0.498,0.486,0.337); RGB{N0f8}(0.549,0.557,0.431) RGB{N0f8}(0.573,0.573,0.451) … RGB{N0f8}(0.467,0.475,0.294) RGB{N0f8}(0.455,0.463,0.294)]\n",
       " [RGB{N0f8}(0.051,0.141,0.271) RGB{N0f8}(0.035,0.125,0.251) … RGB{N0f8}(0.063,0.11,0.247) RGB{N0f8}(0.047,0.11,0.22); RGB{N0f8}(0.035,0.125,0.255) RGB{N0f8}(0.02,0.11,0.231) … RGB{N0f8}(0.078,0.11,0.2) RGB{N0f8}(0.035,0.11,0.2); … ; RGB{N0f8}(0.678,0.671,0.643) RGB{N0f8}(0.749,0.745,0.714) … RGB{N0f8}(0.149,0.129,0.09) RGB{N0f8}(0.035,0.039,0.031); RGB{N0f8}(0.682,0.682,0.655) RGB{N0f8}(0.765,0.769,0.745) … RGB{N0f8}(0.165,0.141,0.098) RGB{N0f8}(0.035,0.039,0.031)]         \n",
       " [RGB{N0f8}(0.392,0.424,0.275) RGB{N0f8}(0.384,0.412,0.267) … RGB{N0f8}(0.631,0.686,0.455) RGB{N0f8}(0.525,0.541,0.361); RGB{N0f8}(0.404,0.42,0.278) RGB{N0f8}(0.396,0.416,0.29) … RGB{N0f8}(0.671,0.718,0.471) RGB{N0f8}(0.639,0.639,0.463); … ; RGB{N0f8}(0.773,0.663,0.624) RGB{N0f8}(0.776,0.663,0.624) … RGB{N0f8}(0.573,0.451,0.439) RGB{N0f8}(0.659,0.529,0.514); RGB{N0f8}(0.827,0.722,0.659) RGB{N0f8}(0.851,0.737,0.69) … RGB{N0f8}(0.698,0.573,0.549) RGB{N0f8}(0.725,0.596,0.58)] \n",
       " [RGB{N0f8}(0.412,0.588,0.643) RGB{N0f8}(0.169,0.318,0.31) … RGB{N0f8}(0.067,0.106,0.075) RGB{N0f8}(0.106,0.145,0.114); RGB{N0f8}(0.369,0.51,0.514) RGB{N0f8}(0.157,0.286,0.247) … RGB{N0f8}(0.043,0.078,0.059) RGB{N0f8}(0.059,0.094,0.071); … ; RGB{N0f8}(0.502,0.376,0.435) RGB{N0f8}(0.51,0.286,0.329) … RGB{N0f8}(0.231,0.271,0.314) RGB{N0f8}(0.224,0.259,0.314); RGB{N0f8}(0.455,0.361,0.416) RGB{N0f8}(0.533,0.345,0.404) … RGB{N0f8}(0.239,0.278,0.318) RGB{N0f8}(0.231,0.267,0.318)]\n",
       " [RGB{N0f8}(1.0,1.0,1.0) RGB{N0f8}(0.98,0.98,0.988) … RGB{N0f8}(0.996,0.996,0.996) RGB{N0f8}(0.996,0.996,0.996); RGB{N0f8}(0.98,1.0,1.0) RGB{N0f8}(0.98,1.0,0.996) … RGB{N0f8}(1.0,1.0,1.0) RGB{N0f8}(1.0,1.0,1.0); … ; RGB{N0f8}(1.0,1.0,1.0) RGB{N0f8}(1.0,1.0,1.0) … RGB{N0f8}(1.0,1.0,1.0) RGB{N0f8}(1.0,1.0,1.0); RGB{N0f8}(1.0,1.0,1.0) RGB{N0f8}(0.988,0.988,0.988) … RGB{N0f8}(0.996,0.996,0.996) RGB{N0f8}(0.996,0.996,0.996)]                                                       \n",
       " [RGB{N0f8}(0.114,0.333,0.584) RGB{N0f8}(0.11,0.329,0.576) … RGB{N0f8}(0.122,0.314,0.506) RGB{N0f8}(0.122,0.318,0.51); RGB{N0f8}(0.157,0.341,0.553) RGB{N0f8}(0.125,0.345,0.588) … RGB{N0f8}(0.125,0.325,0.51) RGB{N0f8}(0.129,0.329,0.518); … ; RGB{N0f8}(0.765,0.404,0.035) RGB{N0f8}(0.757,0.396,0.035) … RGB{N0f8}(0.816,0.671,0.392) RGB{N0f8}(0.827,0.678,0.4); RGB{N0f8}(0.784,0.42,0.051) RGB{N0f8}(0.769,0.408,0.043) … RGB{N0f8}(0.812,0.667,0.392) RGB{N0f8}(0.827,0.682,0.4)]     \n",
       " [RGB{N0f8}(1.0,0.843,0.765) RGB{N0f8}(0.957,0.831,0.749) … RGB{N0f8}(0.757,0.675,0.651) RGB{N0f8}(0.561,0.514,0.486); RGB{N0f8}(0.937,0.757,0.675) RGB{N0f8}(0.733,0.596,0.514) … RGB{N0f8}(0.502,0.455,0.42) RGB{N0f8}(0.302,0.286,0.255); … ; RGB{N0f8}(0.976,0.894,0.796) RGB{N0f8}(0.725,0.627,0.522) … RGB{N0f8}(0.098,0.043,0.075) RGB{N0f8}(0.094,0.051,0.075); RGB{N0f8}(0.831,0.788,0.71) RGB{N0f8}(0.439,0.376,0.302) … RGB{N0f8}(0.051,0.012,0.035) RGB{N0f8}(0.055,0.024,0.047)] \n",
       " [RGB{N0f8}(0.502,0.376,0.263) RGB{N0f8}(0.384,0.275,0.18) … RGB{N0f8}(0.396,0.271,0.141) RGB{N0f8}(0.29,0.176,0.063); RGB{N0f8}(0.475,0.365,0.216) RGB{N0f8}(0.49,0.392,0.231) … RGB{N0f8}(0.447,0.357,0.192) RGB{N0f8}(0.337,0.259,0.098); … ; RGB{N0f8}(0.404,0.494,0.129) RGB{N0f8}(0.427,0.518,0.106) … RGB{N0f8}(0.757,0.561,0.306) RGB{N0f8}(0.773,0.58,0.361); RGB{N0f8}(0.271,0.314,0.051) RGB{N0f8}(0.278,0.329,0.063) … RGB{N0f8}(0.616,0.412,0.176) RGB{N0f8}(0.729,0.522,0.318)] \n",
       " [RGB{N0f8}(0.58,0.573,0.518) RGB{N0f8}(0.604,0.627,0.565) … RGB{N0f8}(0.333,0.282,0.267) RGB{N0f8}(0.341,0.294,0.271); RGB{N0f8}(0.51,0.525,0.486) RGB{N0f8}(0.424,0.435,0.396) … RGB{N0f8}(0.318,0.271,0.259) RGB{N0f8}(0.306,0.247,0.227); … ; RGB{N0f8}(0.588,0.51,0.482) RGB{N0f8}(0.471,0.392,0.365) … RGB{N0f8}(0.537,0.459,0.416) RGB{N0f8}(0.545,0.467,0.424); RGB{N0f8}(0.478,0.4,0.373) RGB{N0f8}(0.522,0.443,0.416) … RGB{N0f8}(0.439,0.361,0.318) RGB{N0f8}(0.463,0.384,0.341)]  \n",
       " [RGB{N0f8}(0.659,0.545,0.369) RGB{N0f8}(0.737,0.643,0.502) … RGB{N0f8}(0.271,0.427,0.239) RGB{N0f8}(0.161,0.416,0.176); RGB{N0f8}(0.616,0.439,0.235) RGB{N0f8}(0.659,0.522,0.4) … RGB{N0f8}(0.514,0.541,0.392) RGB{N0f8}(0.31,0.447,0.267); … ; RGB{N0f8}(0.749,0.616,0.482) RGB{N0f8}(0.671,0.529,0.478) … RGB{N0f8}(0.09,0.082,0.055) RGB{N0f8}(0.098,0.098,0.051); RGB{N0f8}(0.655,0.537,0.478) RGB{N0f8}(0.706,0.6,0.545) … RGB{N0f8}(0.047,0.039,0.039) RGB{N0f8}(0.031,0.031,0.016)]   "
      ]
     },
     "execution_count": 75,
     "metadata": {},
     "output_type": "execute_result"
    }
   ],
   "source": [
    "# 先下载 CIFAR10数据集，并且将其分batch\n",
    "Metalhead.download(CIFAR10)\n",
    "X = trainimgs(CIFAR10)\n",
    "labels = onehotbatch([X[i].ground_truth.class for i in 1:50000],1:10)\n",
    "\n",
    "# 随机显示其中的图片\n",
    "image(x) = x.img # handy for use later\n",
    "ground_truth(x) = x.ground_truth\n",
    "image.(X[rand(1:end, 10)])"
   ]
  },
  {
   "cell_type": "code",
   "execution_count": 76,
   "metadata": {},
   "outputs": [
    {
     "data": {
      "text/plain": [
       "10×1000 Flux.OneHotMatrix{Array{Flux.OneHotVector,1}}:\n",
       " 0  0  0  0  1  0  1  0  0  0  0  0  0  …  0  0  0  0  1  0  1  0  0  0  0  0\n",
       " 0  0  0  0  0  0  0  0  0  0  0  0  0     0  1  0  0  0  1  0  0  0  0  1  1\n",
       " 0  0  0  0  0  0  0  0  1  0  0  0  0     0  0  0  1  0  0  0  1  0  0  0  0\n",
       " 0  0  0  0  0  0  0  0  0  1  0  0  0     0  0  0  0  0  0  0  0  0  0  0  0\n",
       " 0  0  1  0  0  0  0  0  0  0  0  0  0     0  0  1  0  0  0  0  0  0  0  0  0\n",
       " 0  0  0  0  0  1  0  0  0  0  0  0  0  …  1  0  0  0  0  0  0  0  0  0  0  0\n",
       " 0  0  0  0  0  0  0  0  0  0  0  0  0     0  0  0  0  0  0  0  0  1  0  0  0\n",
       " 0  0  0  0  0  0  0  0  0  0  1  0  0     0  0  0  0  0  0  0  0  0  0  0  0\n",
       " 1  0  0  0  0  0  0  1  0  0  0  1  0     0  0  0  0  0  0  0  0  0  0  0  0\n",
       " 0  1  0  1  0  0  0  0  0  0  0  0  1     0  0  0  0  0  0  0  0  0  1  0  0"
      ]
     },
     "execution_count": 76,
     "metadata": {},
     "output_type": "execute_result"
    }
   ],
   "source": [
    "getarray(X) = float.(permutedims(channelview(X), (2, 3, 1)))\n",
    "imgs = [getarray(X[i].img) for i in 1:50000]\n",
    "\n",
    "train = gpu.([(cat(imgs[i]..., dims = 4), labels[:,i]) for i in partition(1:49000, 1000)])\n",
    "valset = 49001:50000\n",
    "valX = cat(imgs[valset]..., dims = 4) |> gpu\n",
    "valY = labels[:, valset] |> gpu"
   ]
  },
  {
   "cell_type": "code",
   "execution_count": 77,
   "metadata": {},
   "outputs": [
    {
     "data": {
      "text/plain": [
       "Chain(Conv((5, 5), 3=>16, relu), #47, Conv((5, 5), 16=>8, relu), #48, #49, Dense(200, 120), Dense(120, 84), Dense(84, 10), softmax)"
      ]
     },
     "execution_count": 77,
     "metadata": {},
     "output_type": "execute_result"
    }
   ],
   "source": [
    "m = Chain(\n",
    "  Conv((5,5), 3=>16, relu),\n",
    "  x -> MaxPool((2,2)),\n",
    "  Conv((5,5), 16=>8, relu),\n",
    "  x -> MaxPool((2,2)),\n",
    "  x -> reshape(x, :, size(x, 4)),\n",
    "  Dense(200, 120),\n",
    "  Dense(120, 84),\n",
    "  Dense(84, 10),\n",
    "  softmax) |> gpu"
   ]
  },
  {
   "cell_type": "code",
   "execution_count": 78,
   "metadata": {},
   "outputs": [
    {
     "name": "stderr",
     "output_type": "stream",
     "text": [
      "┌ Warning: Momentum(params) is deprecated; use Momentum(η::Float64) instead\n",
      "│   caller = top-level scope at In[78]:4\n",
      "└ @ Core In[78]:4\n"
     ]
    },
    {
     "data": {
      "text/plain": [
       "#24 (generic function with 1 method)"
      ]
     },
     "execution_count": 78,
     "metadata": {},
     "output_type": "execute_result"
    }
   ],
   "source": [
    "using Flux: crossentropy, Momentum\n",
    "\n",
    "loss(x, y) = sum(crossentropy(m(x), y))\n",
    "opt = Momentum(params(m), 0.01)"
   ]
  },
  {
   "cell_type": "code",
   "execution_count": 79,
   "metadata": {},
   "outputs": [
    {
     "data": {
      "text/plain": [
       "accuracy (generic function with 1 method)"
      ]
     },
     "execution_count": 79,
     "metadata": {},
     "output_type": "execute_result"
    }
   ],
   "source": [
    "accuracy(x, y) = mean(onecold(m(x), 1:10) .== onecold(y, 1:10))"
   ]
  },
  {
   "cell_type": "code",
   "execution_count": 80,
   "metadata": {},
   "outputs": [
    {
     "ename": "MethodError",
     "evalue": "MethodError: no method matching (::Conv{2,4,typeof(relu),TrackedArray{…,Array{Float32,4}},TrackedArray{…,Array{Float32,1}}})(::MaxPool{2,4})\nClosest candidates are:\n  Conv(!Matched::AbstractArray) at /root/.julia/packages/Flux/dkJUV/src/layers/conv.jl:53",
     "output_type": "error",
     "traceback": [
      "MethodError: no method matching (::Conv{2,4,typeof(relu),TrackedArray{…,Array{Float32,4}},TrackedArray{…,Array{Float32,1}}})(::MaxPool{2,4})\nClosest candidates are:\n  Conv(!Matched::AbstractArray) at /root/.julia/packages/Flux/dkJUV/src/layers/conv.jl:53",
      "",
      "Stacktrace:",
      " [1] applychain(::Tuple{Conv{2,4,typeof(relu),TrackedArray{…,Array{Float32,4}},TrackedArray{…,Array{Float32,1}}},getfield(Main, Symbol(\"##48#51\")),getfield(Main, Symbol(\"##49#52\")),Dense{typeof(identity),TrackedArray{…,Array{Float32,2}},TrackedArray{…,Array{Float32,1}}},Dense{typeof(identity),TrackedArray{…,Array{Float32,2}},TrackedArray{…,Array{Float32,1}}},Dense{typeof(identity),TrackedArray{…,Array{Float32,2}},TrackedArray{…,Array{Float32,1}}},typeof(softmax)}, ::MaxPool{2,4}) at /root/.julia/packages/Flux/dkJUV/src/layers/basic.jl:31 (repeats 3 times)",
      " [2] (::Chain{Tuple{Conv{2,4,typeof(relu),TrackedArray{…,Array{Float32,4}},TrackedArray{…,Array{Float32,1}}},getfield(Main, Symbol(\"##47#50\")),Conv{2,4,typeof(relu),TrackedArray{…,Array{Float32,4}},TrackedArray{…,Array{Float32,1}}},getfield(Main, Symbol(\"##48#51\")),getfield(Main, Symbol(\"##49#52\")),Dense{typeof(identity),TrackedArray{…,Array{Float32,2}},TrackedArray{…,Array{Float32,1}}},Dense{typeof(identity),TrackedArray{…,Array{Float32,2}},TrackedArray{…,Array{Float32,1}}},Dense{typeof(identity),TrackedArray{…,Array{Float32,2}},TrackedArray{…,Array{Float32,1}}},typeof(softmax)}})(::Array{Float32,4}) at /root/.julia/packages/Flux/dkJUV/src/layers/basic.jl:33",
      " [3] loss(::Array{Float32,4}, ::Flux.OneHotMatrix{Array{Flux.OneHotVector,1}}) at ./In[78]:3",
      " [4] top-level scope at ./In[80]:5"
     ]
    }
   ],
   "source": [
    "epochs = 10\n",
    "\n",
    "for epoch = 1:epochs\n",
    "  for d in train\n",
    "    l = loss(d...)\n",
    "    back!(l)\n",
    "    opt()\n",
    "    @show accuracy(valX, valY)\n",
    "  end\n",
    "end"
   ]
  },
  {
   "cell_type": "code",
   "execution_count": null,
   "metadata": {},
   "outputs": [],
   "source": []
  }
 ],
 "metadata": {
  "kernelspec": {
   "display_name": "Julia 1.2.0",
   "language": "julia",
   "name": "julia-1.2"
  },
  "language_info": {
   "file_extension": ".jl",
   "mimetype": "application/julia",
   "name": "julia",
   "version": "1.2.0"
  }
 },
 "nbformat": 4,
 "nbformat_minor": 2
}
