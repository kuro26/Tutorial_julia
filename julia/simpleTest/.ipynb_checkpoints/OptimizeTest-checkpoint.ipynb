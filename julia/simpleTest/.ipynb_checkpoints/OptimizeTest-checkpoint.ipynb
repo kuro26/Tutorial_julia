{
 "cells": [
  {
   "attachments": {},
   "cell_type": "markdown",
   "metadata": {},
   "source": [
    "## Convex.jl优化库测试\n",
    "一个用于标准凸优化的优化库"
   ]
  },
  {
   "cell_type": "code",
   "execution_count": 16,
   "metadata": {},
   "outputs": [
    {
     "ename": "UndefVarError",
     "evalue": "UndefVarError: set_default_solver not defined",
     "output_type": "error",
     "traceback": [
      "UndefVarError: set_default_solver not defined",
      "",
      "Stacktrace:",
      " [1] top-level scope at In[16]:4"
     ]
    }
   ],
   "source": [
    "using Convex,SCS\n",
    "\n",
    "solver = SCSSolver(verbose=0)        # 禁止solver输出详细信息\n",
    "set_default_solver(solver);          # 设置默认求解器"
   ]
  },
  {
   "cell_type": "markdown",
   "metadata": {},
   "source": [
    "### 问题描述\n",
    "$min: ||Ax+b||^2$\n",
    "\n",
    "$sub: x>=0$"
   ]
  },
  {
   "cell_type": "code",
   "execution_count": 8,
   "metadata": {},
   "outputs": [
    {
     "name": "stdout",
     "output_type": "stream",
     "text": [
      "----------------------------------------------------------------------------\n",
      "\tSCS v2.0.2 - Splitting Conic Solver\n",
      "\t(c) Brendan O'Donoghue, Stanford University, 2012-2017\n",
      "----------------------------------------------------------------------------\n",
      "Lin-sys: sparse-indirect, nnz in A = 31, CG tol ~ 1/iter^(2.00)\n",
      "eps = 1.00e-05, alpha = 1.50, max_iters = 5000, normalize = 1, scale = 1.00\n",
      "acceleration_lookback = 20, rho_x = 1.00e-03\n",
      "Variables n = 8, constraints m = 15\n",
      "Cones:\tprimal zero / dual free vars: 1\n",
      "\tlinear vars: 6\n",
      "\tsoc vars: 8, soc blks: 2\n",
      "Setup time: 5.52e-05s\n",
      "----------------------------------------------------------------------------\n",
      " Iter | pri res | dua res | rel gap | pri obj | dua obj | kap/tau | time (s)\n",
      "----------------------------------------------------------------------------\n",
      "     0| 2.99e+19  2.20e+19  1.00e+00 -7.01e+19  1.05e+19  3.46e+19  2.35e-05 \n",
      "    60| 4.08e-06  5.62e-06  5.64e-06 -1.87e-06  3.77e-06  4.38e-16  1.51e-03 \n",
      "----------------------------------------------------------------------------\n",
      "Status: Solved\n",
      "Timing: Solve time: 1.51e-03s\n",
      "\tLin-sys: avg # CG iterations: 3.49, avg solve time: 8.94e-07s\n",
      "\tCones: avg projection time: 8.16e-08s\n",
      "\tAcceleration: avg step time: 2.27e-05s\n",
      "----------------------------------------------------------------------------\n",
      "Error metrics:\n",
      "dist(s, K) = 3.3341e-08, dist(y, K*) = 1.6670e-08, s'y/|s||y| = -7.3930e-09\n",
      "primal res: |Ax + s - b|_2 / (1 + |b|_2) = 4.0797e-06\n",
      "dual res:   |A'y + c|_2 / (1 + |c|_2) = 5.6176e-06\n",
      "rel gap:    |c'x + b'y| / (1 + |c'x| + |b'y|) = 5.6412e-06\n",
      "----------------------------------------------------------------------------\n",
      "c'x = -0.0000, -b'y = 0.0000\n",
      "============================================================================\n"
     ]
    },
    {
     "data": {
      "text/plain": [
       "-1.8690591602266585e-6"
      ]
     },
     "execution_count": 8,
     "metadata": {},
     "output_type": "execute_result"
    }
   ],
   "source": [
    "# 变量数为5\n",
    "m = 4;  n = 5\n",
    "A = randn(m, n); b = randn(m, 1)\n",
    "\n",
    "# 创建符号,改类型来自Convex库\n",
    "x = Variable(n)\n",
    "\n",
    "# 创建问题形式：minimize(目标， 约束)\n",
    "problem= minimize(sumsquares(A*x-b), [x>=0])\n",
    "\n",
    "solve!(problem, SCSSolver())\n",
    "\n",
    "# 打印求解状态\n",
    "problem.status\n",
    "\n",
    "\n",
    "# 获取优化值\n",
    "problem.optval"
   ]
  },
  {
   "cell_type": "markdown",
   "metadata": {},
   "source": [
    "### 线性规划\n",
    "$min: c^T x$\n",
    "\n",
    "$subject to:$\n",
    "\n",
    "$Ax<=b$\n",
    "\n",
    "变量统一下界，ub：$x>=1$\n",
    "\n",
    "变量统一上界，lb：$x<=10$\n",
    "\n",
    "特殊边界：$x_2 <=5$\n",
    "\n",
    "特殊边界：$x_1 + x_4 - x_2 <=10$"
   ]
  },
  {
   "cell_type": "code",
   "execution_count": 14,
   "metadata": {
    "scrolled": true
   },
   "outputs": [
    {
     "ename": "UndefVarError",
     "evalue": "UndefVarError: eye not defined",
     "output_type": "error",
     "traceback": [
      "UndefVarError: eye not defined",
      "",
      "Stacktrace:",
      " [1] top-level scope at In[14]:3"
     ]
    }
   ],
   "source": [
    "x = Variable(4)         # 变量\n",
    "c = [1; 2; 3; 4]        # 参数\n",
    "A = eye(4)\n",
    "A = Matrix([1 0 0 0; 0 1 0 0; 0 0 1 0; 0 0 0 1])\n",
    "b = [10; 10; 10; 10]\n",
    "\n",
    "p = minimize(dot(c, x))    # 构造target表达式\n",
    "p.constraints += A * x <= b\n",
    "p.constraints += [x >= 1; x <= 10; x[2] <= 5; x[1] + x[4] - x[2] <= 10]\n",
    "solve!(p)\n",
    "\n",
    "println(round(p.optval, 2))      # 输出结果\n",
    "println(round(x.value, 2))\n",
    "println(evaluate(x[1] + x[4] - x[2]))"
   ]
  },
  {
   "cell_type": "code",
   "execution_count": 24,
   "metadata": {},
   "outputs": [
    {
     "name": "stdout",
     "output_type": "stream",
     "text": [
      "search: K\u001b[0m\u001b[1me\u001b[22m\u001b[0m\u001b[1my\u001b[22m\u001b[0m\u001b[1mE\u001b[22mrror \u001b[0m\u001b[1me\u001b[22mlt\u001b[0m\u001b[1my\u001b[22mp\u001b[0m\u001b[1me\u001b[22m k\u001b[0m\u001b[1me\u001b[22m\u001b[0m\u001b[1my\u001b[22mtyp\u001b[0m\u001b[1me\u001b[22m sup\u001b[0m\u001b[1me\u001b[22mrt\u001b[0m\u001b[1my\u001b[22mp\u001b[0m\u001b[1me\u001b[22m cod\u001b[0m\u001b[1me\u001b[22m_t\u001b[0m\u001b[1my\u001b[22mp\u001b[0m\u001b[1me\u001b[22md @cod\u001b[0m\u001b[1me\u001b[22m_t\u001b[0m\u001b[1my\u001b[22mp\u001b[0m\u001b[1me\u001b[22md h\u001b[0m\u001b[1me\u001b[22mx2b\u001b[0m\u001b[1my\u001b[22mt\u001b[0m\u001b[1me\u001b[22ms\n",
      "\n",
      "Couldn't find \u001b[36meye\u001b[39m\n",
      "Perhaps you meant keys, exp, eof, eps, esc, else, end, one, Type, Sys or eltype\n"
     ]
    },
    {
     "data": {
      "text/latex": [
       "No documentation found.\n",
       "\n",
       "Binding \\texttt{eye} does not exist.\n",
       "\n"
      ],
      "text/markdown": [
       "No documentation found.\n",
       "\n",
       "Binding `eye` does not exist.\n"
      ],
      "text/plain": [
       "  No documentation found.\n",
       "\n",
       "  Binding \u001b[36meye\u001b[39m does not exist."
      ]
     },
     "execution_count": 24,
     "metadata": {},
     "output_type": "execute_result"
    }
   ],
   "source": [
    "?eye"
   ]
  },
  {
   "cell_type": "code",
   "execution_count": 25,
   "metadata": {},
   "outputs": [
    {
     "data": {
      "text/plain": [
       "2×3 Array{Int64,2}:\n",
       " 1  0  0\n",
       " 0  1  0"
      ]
     },
     "execution_count": 25,
     "metadata": {},
     "output_type": "execute_result"
    }
   ],
   "source": [
    "Matrix([1 0 0; 0 1 0])"
   ]
  },
  {
   "cell_type": "code",
   "execution_count": null,
   "metadata": {},
   "outputs": [],
   "source": []
  }
 ],
 "metadata": {
  "kernelspec": {
   "display_name": "Julia 1.2.0",
   "language": "julia",
   "name": "julia-1.2"
  },
  "language_info": {
   "file_extension": ".jl",
   "mimetype": "application/julia",
   "name": "julia",
   "version": "1.2.0"
  }
 },
 "nbformat": 4,
 "nbformat_minor": 2
}
