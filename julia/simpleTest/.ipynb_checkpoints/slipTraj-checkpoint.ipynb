{
 "cells": [
  {
   "cell_type": "code",
   "execution_count": 1,
   "metadata": {},
   "outputs": [],
   "source": [
    "using DifferentialEquations, ParameterizedFunctions\n",
    "using Plots"
   ]
  },
  {
   "cell_type": "markdown",
   "metadata": {},
   "source": [
    "### 1. air situation\n",
    "状态：u = [x, y, z, vx, vy, vz]\n",
    "\n",
    "参数：p = [g, l0, α, β]"
   ]
  },
  {
   "cell_type": "code",
   "execution_count": 2,
   "metadata": {},
   "outputs": [
    {
     "data": {
      "text/plain": [
       "calc_foot_end (generic function with 1 method)"
      ]
     },
     "execution_count": 2,
     "metadata": {},
     "output_type": "execute_result"
    }
   ],
   "source": [
    "function calc_foot_end(u, p)\n",
    "    \"\"\" calculate the foot position in air \"\"\"\n",
    "    x, y, z = u[1:3]\n",
    "    l0, α, β = p[2:4]\n",
    "    x_pf = x + l0*cos(β)sin(α)\n",
    "    y_pf = y + l0*sin(β)\n",
    "    z_pf = z - l0*cos(β)cos(α)\n",
    "    return (x_pf, y_pf, z_pf)\n",
    "end"
   ]
  },
  {
   "cell_type": "code",
   "execution_count": 3,
   "metadata": {},
   "outputs": [
    {
     "data": {
      "text/plain": [
       "cond_peak (generic function with 1 method)"
      ]
     },
     "execution_count": 3,
     "metadata": {},
     "output_type": "execute_result"
    }
   ],
   "source": [
    "function diff_fun_fly!(du, u, p, t)\n",
    "    \"\"\" Differential Equations in air\"\"\"\n",
    "    x, y, z, vx, vy, vz = u\n",
    "    g = p[1]\n",
    "    du[1], du[2], du[3] = dx, dy, dz = vx, vy, vz\n",
    "    du[4], du[5], du[6] = 0.0, 0.0, -g \n",
    "end\n",
    "\n",
    "cond_contact(u, t, integrator) = calc_foot_end(u, integrator.p)[3]  # positive-->negative\n",
    "affect_contact!(integrator) = terminate!(integrator)\n",
    "cond_peak(u, t, integrator) = u[6]"
   ]
  },
  {
   "cell_type": "markdown",
   "metadata": {},
   "source": [
    "### 2. ground situation\n",
    "\n",
    "参数：p2 = [m, g, l0, k1, k2, x0, y0, z0]"
   ]
  },
  {
   "cell_type": "code",
   "execution_count": 4,
   "metadata": {},
   "outputs": [
    {
     "data": {
      "text/plain": [
       "k1k2Force (generic function with 1 method)"
      ]
     },
     "execution_count": 4,
     "metadata": {},
     "output_type": "execute_result"
    }
   ],
   "source": [
    "# controller\n",
    "function is_compressing(u, p)\n",
    "    \"\"\" decide if on compressing \"\"\"\n",
    "    x, y, z, vx, vy, vz = u\n",
    "    x0, y0, z0 = p[6:8]\n",
    "    vec1 = transpose([x-x0, y-y0, z])  # ground-->mass point\n",
    "    vec2 = [vx, vy, vz]                # velocity vector\n",
    "    return vec1*vec2<=0 ? true : false\n",
    "end\n",
    "function k1k2Force(u, p)\n",
    "    \"\"\" Control law1: using fixed k1, k2 model \"\"\"\n",
    "    k1, k2, x0, y0, z0 = p[4:8]\n",
    "    l0 = p[3]\n",
    "    x, y, z= u[1:3]\n",
    "    l = sqrt((x-x0)^2 + (y-y0)^2 + (z-0)^2)\n",
    "    k = is_compressing(u, p) ? k1 : k2\n",
    "\n",
    "    fx = - k * (x - (x0 - l0*(x0-x)/l))\n",
    "    fy = - k * (y - (y0 - l0*(y0-y)/l))\n",
    "    fz = - k * (z - ( 0 - l0*(z0-z)/l))\n",
    "    return (fx, fy, fz)\n",
    "end"
   ]
  },
  {
   "cell_type": "code",
   "execution_count": 5,
   "metadata": {},
   "outputs": [
    {
     "data": {
      "text/plain": [
       "cond_leave (generic function with 1 method)"
      ]
     },
     "execution_count": 5,
     "metadata": {},
     "output_type": "execute_result"
    }
   ],
   "source": [
    "function diff_fun_support!(du, u, p, t)\n",
    "    \"\"\" Differential Equations on ground \"\"\"\n",
    "    m, g = p[1:2]\n",
    "    x, y, z, vx, vy, vz = u\n",
    "    \n",
    "    fx, fy, fz = k1k2Force(u, p)          # force specification\n",
    "    ax, ay, az = fx/m, fy/m, (fz-m*g)/m\n",
    "    du[1], du[2], du[3] = vx, vy, vz\n",
    "    du[4], du[5], du[6] = ax, ay, az\n",
    "end\n",
    "\n",
    "function cond_compressed(u, t, integrator)\n",
    "    x, y, z, vx, vy, vz = u\n",
    "    x0, y0, z0 = integrator.p[6:8]\n",
    "    vec1 = transpose([x-x0, y-y0, z])  # ground-->mass point\n",
    "    vec2 = [vx, vy, vz]                # velocity vector\n",
    "    return vec1*vec2                   # negative-->positive\n",
    "end\n",
    "\n",
    "function cond_leave(u, t, integrator)\n",
    "    \"\"\" Condition: Leave ground \"\"\"\n",
    "    x, y, z = u[1:3]\n",
    "    x0, y0, z0 = integrator.p[6:8]\n",
    "    l = sqrt((x-x0)^2 + (y-y0)^2 + (z-z0)^2)\n",
    "    return (l - integrator.p[3])\n",
    "end"
   ]
  },
  {
   "cell_type": "markdown",
   "metadata": {},
   "source": [
    "### 3. 综合\n",
    "初始条件：s0 = [z0, vx0, vy0]\n",
    "\n",
    "控制器条件：ctrl = [[α, β, k1, k2]]"
   ]
  },
  {
   "cell_type": "code",
   "execution_count": 6,
   "metadata": {},
   "outputs": [
    {
     "data": {
      "text/plain": [
       "cycleCalc (generic function with 1 method)"
      ]
     },
     "execution_count": 6,
     "metadata": {},
     "output_type": "execute_result"
    }
   ],
   "source": [
    "function cycleCalc(m, l0, s0, ctrl)\n",
    "    α, β, k1, k2 = ctrl\n",
    "    z0, vx0, vy0 = s0\n",
    "    u0 = [0.0, 0.0, z0, vx0, vy0, 0.0]\n",
    "    tspan = (0.0, 4.0)\n",
    "    p1 = (9.8, l0, α, β, k1, k2)\n",
    "    # >>segment 1, air-->contact\n",
    "    prob = ODEProblem(diff_fun_fly!, u0, tspan, p1)\n",
    "    cb = ContinuousCallback(cond_contact, affect_contact!)\n",
    "    sol1 = solve(prob, Tsit5(), callback=cb)\n",
    "    # >>segment 2\n",
    "    u0 = sol1.u[end]    \n",
    "    x0, y0, z0 = calc_foot_end(u0, p1)\n",
    "    p2 = [m, 9.8, l0, k1, k2, x0, y0, z0]\n",
    "    prob = ODEProblem(diff_fun_support!, u0, tspan, p2)\n",
    "    cb = ContinuousCallback(cond_compressed, terminate!)\n",
    "    sol2 = solve(prob, Tsit5(), callback=cb)\n",
    "\n",
    "    # >>segment 3\n",
    "    u0 = sol2.u[end]\n",
    "    p3 = p2\n",
    "    prob = ODEProblem(diff_fun_support!, u0, tspan, p3)\n",
    "    cb = ContinuousCallback(cond_leave, terminate!, abstol=1e-9)\n",
    "    sol3 = solve(prob, Tsit5(), callback=cb)\n",
    "    # >>segment 4\n",
    "    u0 = sol3.u[end]\n",
    "    p4 = p1\n",
    "    prob = ODEProblem(diff_fun_fly!, u0, tspan, p4)\n",
    "    cb = ContinuousCallback(cond_peak, terminate!)\n",
    "    sol4 = solve(prob, Tsit5(), callback=cb)\n",
    "    # 综合\n",
    "    return sol1, sol2, sol3, sol4\n",
    "end"
   ]
  },
  {
   "cell_type": "code",
   "execution_count": 9,
   "metadata": {},
   "outputs": [
    {
     "data": {
      "text/plain": [
       "test1 (generic function with 1 method)"
      ]
     },
     "execution_count": 9,
     "metadata": {},
     "output_type": "execute_result"
    }
   ],
   "source": [
    "function test1()\n",
    "    m = 20; l0 = 0.8;\n",
    "    s0 = [1.0, 1.0, 0.2]\n",
    "    ctrl = [pi/8, pi/9, 1e3, 1e3]\n",
    "    sol1, sol2, sol3, sol4 = cycleCalc(m, l0, s0, ctrl)\n",
    "    x1, y1, z1 = [u[1] for u in sol1.u], [u[2] for u in sol1.u], [u[3] for u in sol1.u]\n",
    "    x2, y2, z2 = [u[1] for u in sol2.u], [u[2] for u in sol2.u], [u[3] for u in sol2.u]\n",
    "    x3, y3, z3 = [u[1] for u in sol3.u], [u[2] for u in sol3.u], [u[3] for u in sol3.u]\n",
    "    x4, y4, z4 = [u[1] for u in sol4.u], [u[2] for u in sol4.u], [u[3] for u in sol4.u]\n",
    "    plot3d(x1, y1, z1, color=[:red,])\n",
    "    plot3d!(x2, y2, z2, color=[:green,])\n",
    "    plot3d!(x3, y3, z3, color=[:blue,])\n",
    "    #plot3d!(x4, y4, z4, color=[:yellow,])\n",
    "end"
   ]
  },
  {
   "cell_type": "code",
   "execution_count": 8,
   "metadata": {},
   "outputs": [
    {
     "data": {
      "image/svg+xml": [
       "<?xml version=\"1.0\" encoding=\"utf-8\"?>\n",
       "<svg xmlns=\"http://www.w3.org/2000/svg\" xmlns:xlink=\"http://www.w3.org/1999/xlink\" width=\"600\" height=\"400\" viewBox=\"0 0 2400 1600\">\n",
       "<defs>\n",
       "  <clipPath id=\"clip6600\">\n",
       "    <rect x=\"0\" y=\"0\" width=\"2400\" height=\"1600\"/>\n",
       "  </clipPath>\n",
       "</defs>\n",
       "<polygon clip-path=\"url(#clip6600)\" points=\"\n",
       "0,1600 2400,1600 2400,0 0,0 \n",
       "  \" fill=\"#ffffff\" fill-rule=\"evenodd\" fill-opacity=\"1\"/>\n",
       "<defs>\n",
       "  <clipPath id=\"clip6601\">\n",
       "    <rect x=\"480\" y=\"0\" width=\"1681\" height=\"1600\"/>\n",
       "  </clipPath>\n",
       "</defs>\n",
       "<polygon clip-path=\"url(#clip6600)\" points=\"\n",
       "540.576,1487.47 1980.81,1487.47 1980.81,47.2441 540.576,47.2441 \n",
       "  \" fill=\"#ffffff\" fill-rule=\"evenodd\" fill-opacity=\"1\"/>\n",
       "<defs>\n",
       "  <clipPath id=\"clip6602\">\n",
       "    <rect x=\"540\" y=\"47\" width=\"1441\" height=\"1441\"/>\n",
       "  </clipPath>\n",
       "</defs>\n",
       "<polyline clip-path=\"url(#clip6600)\" style=\"stroke:#cccccc; stroke-width:2; stroke-opacity:0.1; fill:none\" points=\"\n",
       "  650.437,1412.63 1177.6,1157.4 \n",
       "  \"/>\n",
       "<polyline clip-path=\"url(#clip6600)\" style=\"stroke:#cccccc; stroke-width:2; stroke-opacity:0.1; fill:none\" points=\"\n",
       "  1177.6,1157.4 1177.6,57.4808 \n",
       "  \"/>\n",
       "<polyline clip-path=\"url(#clip6600)\" style=\"stroke:#ededed; stroke-width:2; stroke-opacity:0.1; fill:none\" points=\"\n",
       "  813.379,1427.82 1340.54,1172.58 \n",
       "  \"/>\n",
       "<polyline clip-path=\"url(#clip6600)\" style=\"stroke:#ededed; stroke-width:2; stroke-opacity:0.1; fill:none\" points=\"\n",
       "  1340.54,1172.58 1340.54,72.6636 \n",
       "  \"/>\n",
       "<polyline clip-path=\"url(#clip6600)\" style=\"stroke:#cccccc; stroke-width:2; stroke-opacity:0.1; fill:none\" points=\"\n",
       "  976.322,1443 1503.48,1187.76 \n",
       "  \"/>\n",
       "<polyline clip-path=\"url(#clip6600)\" style=\"stroke:#cccccc; stroke-width:2; stroke-opacity:0.1; fill:none\" points=\"\n",
       "  1503.48,1187.76 1503.48,87.8464 \n",
       "  \"/>\n",
       "<polyline clip-path=\"url(#clip6600)\" style=\"stroke:#ededed; stroke-width:2; stroke-opacity:0.1; fill:none\" points=\"\n",
       "  1139.26,1458.18 1666.42,1202.94 \n",
       "  \"/>\n",
       "<polyline clip-path=\"url(#clip6600)\" style=\"stroke:#ededed; stroke-width:2; stroke-opacity:0.1; fill:none\" points=\"\n",
       "  1666.42,1202.94 1666.42,103.029 \n",
       "  \"/>\n",
       "<polyline clip-path=\"url(#clip6600)\" style=\"stroke:#cccccc; stroke-width:2; stroke-opacity:0.1; fill:none\" points=\"\n",
       "  1302.21,1473.36 1829.37,1218.13 \n",
       "  \"/>\n",
       "<polyline clip-path=\"url(#clip6600)\" style=\"stroke:#cccccc; stroke-width:2; stroke-opacity:0.1; fill:none\" points=\"\n",
       "  1829.37,1218.13 1829.37,118.212 \n",
       "  \"/>\n",
       "<polyline clip-path=\"url(#clip6600)\" style=\"stroke:#cccccc; stroke-width:2; stroke-opacity:0.1; fill:none\" points=\"\n",
       "  565.327,1390.41 1478.4,1475.49 \n",
       "  \"/>\n",
       "<polyline clip-path=\"url(#clip6600)\" style=\"stroke:#cccccc; stroke-width:2; stroke-opacity:0.1; fill:none\" points=\"\n",
       "  565.327,1390.41 565.327,290.496 \n",
       "  \"/>\n",
       "<polyline clip-path=\"url(#clip6600)\" style=\"stroke:#ededed; stroke-width:2; stroke-opacity:0.1; fill:none\" points=\"\n",
       "  662.347,1343.44 1575.42,1428.52 \n",
       "  \"/>\n",
       "<polyline clip-path=\"url(#clip6600)\" style=\"stroke:#ededed; stroke-width:2; stroke-opacity:0.1; fill:none\" points=\"\n",
       "  662.347,1343.44 662.347,243.522 \n",
       "  \"/>\n",
       "<polyline clip-path=\"url(#clip6600)\" style=\"stroke:#cccccc; stroke-width:2; stroke-opacity:0.1; fill:none\" points=\"\n",
       "  759.367,1296.46 1672.44,1381.54 \n",
       "  \"/>\n",
       "<polyline clip-path=\"url(#clip6600)\" style=\"stroke:#cccccc; stroke-width:2; stroke-opacity:0.1; fill:none\" points=\"\n",
       "  759.367,1296.46 759.367,196.548 \n",
       "  \"/>\n",
       "<polyline clip-path=\"url(#clip6600)\" style=\"stroke:#ededed; stroke-width:2; stroke-opacity:0.1; fill:none\" points=\"\n",
       "  856.387,1249.49 1769.46,1334.57 \n",
       "  \"/>\n",
       "<polyline clip-path=\"url(#clip6600)\" style=\"stroke:#ededed; stroke-width:2; stroke-opacity:0.1; fill:none\" points=\"\n",
       "  856.387,1249.49 856.387,149.574 \n",
       "  \"/>\n",
       "<polyline clip-path=\"url(#clip6600)\" style=\"stroke:#cccccc; stroke-width:2; stroke-opacity:0.1; fill:none\" points=\"\n",
       "  953.407,1202.52 1866.48,1287.59 \n",
       "  \"/>\n",
       "<polyline clip-path=\"url(#clip6600)\" style=\"stroke:#cccccc; stroke-width:2; stroke-opacity:0.1; fill:none\" points=\"\n",
       "  953.407,1202.52 953.407,102.6 \n",
       "  \"/>\n",
       "<polyline clip-path=\"url(#clip6600)\" style=\"stroke:#ededed; stroke-width:2; stroke-opacity:0.1; fill:none\" points=\"\n",
       "  1050.43,1155.54 1963.5,1240.62 \n",
       "  \"/>\n",
       "<polyline clip-path=\"url(#clip6600)\" style=\"stroke:#ededed; stroke-width:2; stroke-opacity:0.1; fill:none\" points=\"\n",
       "  1050.43,1155.54 1050.43,55.6254 \n",
       "  \"/>\n",
       "<polyline clip-path=\"url(#clip6600)\" style=\"stroke:#cccccc; stroke-width:2; stroke-opacity:0.1; fill:none\" points=\"\n",
       "  540.576,1402.4 1067.74,1147.16 \n",
       "  \"/>\n",
       "<polyline clip-path=\"url(#clip6600)\" style=\"stroke:#cccccc; stroke-width:2; stroke-opacity:0.1; fill:none\" points=\"\n",
       "  1067.74,1147.16 1980.81,1232.24 \n",
       "  \"/>\n",
       "<polyline clip-path=\"url(#clip6600)\" style=\"stroke:#ededed; stroke-width:2; stroke-opacity:0.1; fill:none\" points=\"\n",
       "  540.576,1219.08 1067.74,963.84 \n",
       "  \"/>\n",
       "<polyline clip-path=\"url(#clip6600)\" style=\"stroke:#ededed; stroke-width:2; stroke-opacity:0.1; fill:none\" points=\"\n",
       "  1067.74,963.84 1980.81,1048.92 \n",
       "  \"/>\n",
       "<polyline clip-path=\"url(#clip6600)\" style=\"stroke:#cccccc; stroke-width:2; stroke-opacity:0.1; fill:none\" points=\"\n",
       "  540.576,1035.76 1067.74,780.521 \n",
       "  \"/>\n",
       "<polyline clip-path=\"url(#clip6600)\" style=\"stroke:#cccccc; stroke-width:2; stroke-opacity:0.1; fill:none\" points=\"\n",
       "  1067.74,780.521 1980.81,865.6 \n",
       "  \"/>\n",
       "<polyline clip-path=\"url(#clip6600)\" style=\"stroke:#ededed; stroke-width:2; stroke-opacity:0.1; fill:none\" points=\"\n",
       "  540.576,852.438 1067.74,597.202 \n",
       "  \"/>\n",
       "<polyline clip-path=\"url(#clip6600)\" style=\"stroke:#ededed; stroke-width:2; stroke-opacity:0.1; fill:none\" points=\"\n",
       "  1067.74,597.202 1980.81,682.281 \n",
       "  \"/>\n",
       "<polyline clip-path=\"url(#clip6600)\" style=\"stroke:#cccccc; stroke-width:2; stroke-opacity:0.1; fill:none\" points=\"\n",
       "  540.576,669.119 1067.74,413.883 \n",
       "  \"/>\n",
       "<polyline clip-path=\"url(#clip6600)\" style=\"stroke:#cccccc; stroke-width:2; stroke-opacity:0.1; fill:none\" points=\"\n",
       "  1067.74,413.883 1980.81,498.961 \n",
       "  \"/>\n",
       "<polyline clip-path=\"url(#clip6600)\" style=\"stroke:#ededed; stroke-width:2; stroke-opacity:0.1; fill:none\" points=\"\n",
       "  540.576,485.8 1067.74,230.563 \n",
       "  \"/>\n",
       "<polyline clip-path=\"url(#clip6600)\" style=\"stroke:#ededed; stroke-width:2; stroke-opacity:0.1; fill:none\" points=\"\n",
       "  1067.74,230.563 1980.81,315.642 \n",
       "  \"/>\n",
       "<polyline clip-path=\"url(#clip6600)\" style=\"stroke:#cccccc; stroke-width:2; stroke-opacity:0.1; fill:none\" points=\"\n",
       "  540.576,302.48 1067.74,47.2441 \n",
       "  \"/>\n",
       "<polyline clip-path=\"url(#clip6600)\" style=\"stroke:#cccccc; stroke-width:2; stroke-opacity:0.1; fill:none\" points=\"\n",
       "  1067.74,47.2441 1980.81,132.323 \n",
       "  \"/>\n",
       "<polyline clip-path=\"url(#clip6600)\" style=\"stroke:#000000; stroke-width:4; stroke-opacity:1; fill:none\" points=\"\n",
       "  448.053,1080.91 472.05,1069.29 \n",
       "  \"/>\n",
       "<polyline clip-path=\"url(#clip6600)\" style=\"stroke:#000000; stroke-width:4; stroke-opacity:1; fill:none\" points=\"\n",
       "  497.381,1037.28 484.049,1043.73 482.715,1059.19 484.049,1056.9 488.048,1053.32 492.048,1051.38 496.047,1051.09 498.714,1053.09 500.047,1057.38 500.047,1060.67 \n",
       "  498.714,1066.26 496.047,1070.84 492.048,1074.42 488.048,1076.36 484.049,1076.65 482.715,1075.65 481.382,1073 \n",
       "  \"/>\n",
       "<polyline clip-path=\"url(#clip6600)\" style=\"stroke:#000000; stroke-width:4; stroke-opacity:1; fill:none\" points=\"\n",
       "  516.045,1028.24 512.046,1031.82 509.379,1038.05 508.046,1046.93 508.046,1051.86 509.379,1059.45 512.046,1063.09 516.045,1062.8 518.711,1061.51 522.711,1057.93 \n",
       "  525.377,1051.7 526.711,1042.83 526.711,1037.89 525.377,1030.31 522.711,1026.66 518.711,1026.95 516.045,1028.24 \n",
       "  \"/>\n",
       "<polyline clip-path=\"url(#clip6600)\" style=\"stroke:#000000; stroke-width:4; stroke-opacity:1; fill:none\" points=\"\n",
       "  516.045,661.603 512.046,665.185 509.379,671.414 508.046,680.288 508.046,685.225 509.379,692.808 512.046,696.454 516.045,696.163 518.711,694.872 522.711,691.29 \n",
       "  525.377,685.062 526.711,676.188 526.711,671.251 525.377,663.668 522.711,660.021 518.711,660.312 516.045,661.603 \n",
       "  \"/>\n",
       "<polyline clip-path=\"url(#clip6600)\" style=\"stroke:#000000; stroke-width:4; stroke-opacity:1; fill:none\" points=\"\n",
       "  497.381,304.002 484.049,310.456 482.715,325.913 484.049,323.622 488.048,320.04 492.048,318.104 496.047,317.813 498.714,319.813 500.047,324.105 500.047,327.396 \n",
       "  498.714,332.979 496.047,337.561 492.048,341.144 488.048,343.08 484.049,343.371 482.715,342.371 481.382,339.725 \n",
       "  \"/>\n",
       "<polyline clip-path=\"url(#clip6600)\" style=\"stroke:#000000; stroke-width:4; stroke-opacity:1; fill:none\" points=\"\n",
       "  516.045,294.965 512.046,298.547 509.379,304.775 508.046,313.649 508.046,318.586 509.379,326.169 512.046,329.815 516.045,329.525 518.711,328.234 522.711,324.652 \n",
       "  525.377,318.423 526.711,309.549 526.711,304.612 525.377,297.029 522.711,293.383 518.711,293.674 516.045,294.965 \n",
       "  \"/>\n",
       "<polyline clip-path=\"url(#clip6600)\" style=\"stroke:#000000; stroke-width:4; stroke-opacity:1; fill:none\" points=\"\n",
       "  540.576,1402.4 540.576,1402.4 530.033,1407.5 540.576,1402.4 540.576,1219.08 535.304,1221.63 540.576,1219.08 540.576,1035.76 530.033,1040.86 540.576,1035.76 \n",
       "  540.576,852.438 535.304,854.991 540.576,852.438 540.576,669.119 530.033,674.224 540.576,669.119 540.576,485.8 535.304,488.352 540.576,485.8 540.576,302.48 \n",
       "  530.033,307.585 540.576,302.48 \n",
       "  \"/>\n",
       "<polyline clip-path=\"url(#clip6600)\" style=\"stroke:#000000; stroke-width:4; stroke-opacity:1; fill:none\" points=\"\n",
       "  599.647,1445.26 629.015,1448 \n",
       "  \"/>\n",
       "<polyline clip-path=\"url(#clip6600)\" style=\"stroke:#000000; stroke-width:4; stroke-opacity:1; fill:none\" points=\"\n",
       "  642.067,1437.69 642.067,1436.05 643.699,1432.91 645.331,1431.41 648.594,1430.07 655.12,1430.68 658.383,1432.63 660.015,1434.43 661.646,1437.87 661.646,1441.16 \n",
       "  660.015,1444.3 656.751,1448.93 640.436,1463.87 663.278,1466 \n",
       "  \"/>\n",
       "<polyline clip-path=\"url(#clip6600)\" style=\"stroke:#000000; stroke-width:4; stroke-opacity:1; fill:none\" points=\"\n",
       "  925.531,1475.62 954.899,1478.36 \n",
       "  \"/>\n",
       "<polyline clip-path=\"url(#clip6600)\" style=\"stroke:#000000; stroke-width:4; stroke-opacity:1; fill:none\" points=\"\n",
       "  971.215,1466.72 974.478,1465.37 979.373,1460.89 979.373,1495.45 \n",
       "  \"/>\n",
       "<polyline clip-path=\"url(#clip6600)\" style=\"stroke:#000000; stroke-width:4; stroke-opacity:1; fill:none\" points=\"\n",
       "  1280.78,1488.98 1275.89,1490.17 1272.63,1494.8 1270.99,1502.88 1270.99,1507.81 1272.63,1516.2 1275.89,1521.44 1280.78,1523.54 1284.05,1523.84 1288.94,1522.65 \n",
       "  1292.2,1518.02 1293.84,1509.94 1293.84,1505.01 1292.2,1496.63 1288.94,1491.38 1284.05,1489.28 1280.78,1488.98 \n",
       "  \"/>\n",
       "<polyline clip-path=\"url(#clip6600)\" style=\"stroke:#000000; stroke-width:4; stroke-opacity:1; fill:none\" points=\"\n",
       "  540.576,1402.4 650.437,1412.63 639.894,1417.74 650.437,1412.63 813.379,1427.82 808.108,1430.37 813.379,1427.82 976.322,1443 965.778,1448.1 976.322,1443 \n",
       "  1139.26,1458.18 1133.99,1460.73 1139.26,1458.18 1302.21,1473.36 1291.66,1478.47 1302.21,1473.36 1453.65,1487.47 \n",
       "  \"/>\n",
       "<polyline clip-path=\"url(#clip6600)\" style=\"stroke:#000000; stroke-width:4; stroke-opacity:1; fill:none\" points=\"\n",
       "  1582.82,1473.55 1606.82,1461.93 \n",
       "  \"/>\n",
       "<polyline clip-path=\"url(#clip6600)\" style=\"stroke:#000000; stroke-width:4; stroke-opacity:1; fill:none\" points=\"\n",
       "  1620.15,1442.31 1622.82,1439.37 1626.82,1432.5 1626.82,1467.06 \n",
       "  \"/>\n",
       "<polyline clip-path=\"url(#clip6600)\" style=\"stroke:#000000; stroke-width:4; stroke-opacity:1; fill:none\" points=\"\n",
       "  1650.81,1420.88 1646.81,1424.46 1644.15,1430.69 1642.82,1439.56 1642.82,1444.5 1644.15,1452.08 1646.81,1455.73 1650.81,1455.44 1653.48,1454.15 1657.48,1450.57 \n",
       "  1660.15,1444.34 1661.48,1435.46 1661.48,1430.53 1660.15,1422.94 1657.48,1419.3 1653.48,1419.59 1650.81,1420.88 \n",
       "  \"/>\n",
       "<polyline clip-path=\"url(#clip6600)\" style=\"stroke:#000000; stroke-width:4; stroke-opacity:1; fill:none\" points=\"\n",
       "  1790.19,1373.14 1814.19,1361.53 \n",
       "  \"/>\n",
       "<polyline clip-path=\"url(#clip6600)\" style=\"stroke:#000000; stroke-width:4; stroke-opacity:1; fill:none\" points=\"\n",
       "  1839.52,1329.51 1826.19,1335.97 1824.86,1351.42 1826.19,1349.13 1830.19,1345.55 1834.19,1343.61 1838.19,1343.32 1840.85,1345.32 1842.19,1349.62 1842.19,1352.91 \n",
       "  1840.85,1358.49 1838.19,1363.07 1834.19,1366.65 1830.19,1368.59 1826.19,1368.88 1824.86,1367.88 1823.52,1365.24 \n",
       "  \"/>\n",
       "<polyline clip-path=\"url(#clip6600)\" style=\"stroke:#000000; stroke-width:4; stroke-opacity:1; fill:none\" points=\"\n",
       "  2008.23,1247.83 2004.23,1251.41 2001.56,1257.64 2000.23,1266.51 2000.23,1271.45 2001.56,1279.03 2004.23,1282.68 2008.23,1282.39 2010.9,1281.1 2014.9,1277.52 \n",
       "  2017.56,1271.29 2018.9,1262.41 2018.9,1257.48 2017.56,1249.89 2014.9,1246.25 2010.9,1246.54 2008.23,1247.83 \n",
       "  \"/>\n",
       "<polyline clip-path=\"url(#clip6600)\" style=\"stroke:#000000; stroke-width:4; stroke-opacity:1; fill:none\" points=\"\n",
       "  1453.65,1487.47 1478.4,1475.49 1487.53,1476.34 1478.4,1475.49 1575.42,1428.52 1593.68,1430.22 1575.42,1428.52 1672.44,1381.54 1681.57,1382.39 1672.44,1381.54 \n",
       "  1769.46,1334.57 1787.72,1336.27 1769.46,1334.57 1866.48,1287.59 1875.61,1288.44 1866.48,1287.59 1963.5,1240.62 1981.76,1242.32 1963.5,1240.62 1980.81,1232.24 \n",
       "  \n",
       "  \"/>\n",
       "<polyline clip-path=\"url(#clip6602)\" style=\"stroke:#ff0000; stroke-width:4; stroke-opacity:1; fill:none\" points=\"\n",
       "  1812.06,485.899 1812.11,485.904 1812.7,485.95 1818.55,486.431 1877.07,492.448 1895.36,494.782 \n",
       "  \"/>\n",
       "<polyline clip-path=\"url(#clip6602)\" style=\"stroke:#008000; stroke-width:4; stroke-opacity:1; fill:none\" points=\"\n",
       "  1895.36,494.782 1908.64,496.624 1922.37,498.772 1932.56,500.847 1937.74,503.176 1937.68,503.8 \n",
       "  \"/>\n",
       "<polyline clip-path=\"url(#clip6602)\" style=\"stroke:#0000ff; stroke-width:4; stroke-opacity:1; fill:none\" points=\"\n",
       "  1937.68,503.8 1937.41,504.123 1936.1,504.92 1932.52,506.177 1925.39,507.968 1913.4,510.539 1904.03,512.49 \n",
       "  \"/>\n",
       "<polyline clip-path=\"url(#clip6602)\" style=\"stroke:#ffff00; stroke-width:4; stroke-opacity:1; fill:none\" points=\"\n",
       "  1904.03,512.49 1883.62,516.908 1679.57,576.146 581.337,1364.93 \n",
       "  \"/>\n",
       "<polygon clip-path=\"url(#clip6600)\" points=\"\n",
       "1617.98,433.164 1908.81,433.164 1908.81,130.764 1617.98,130.764 \n",
       "  \" fill=\"#ffffff\" fill-rule=\"evenodd\" fill-opacity=\"1\"/>\n",
       "<polyline clip-path=\"url(#clip6600)\" style=\"stroke:#000000; stroke-width:4; stroke-opacity:1; fill:none\" points=\"\n",
       "  1617.98,433.164 1908.81,433.164 1908.81,130.764 1617.98,130.764 1617.98,433.164 \n",
       "  \"/>\n",
       "<g clip-path=\"url(#clip6600)\">\n",
       "<text style=\"fill:#000000; fill-opacity:1; font-family:Arial,Helvetica Neue,Helvetica,sans-serif; font-size:48px; text-anchor:start;\" transform=\"rotate(0, 1809.98, 208.744)\" x=\"1809.98\" y=\"208.744\">y1</text>\n",
       "</g>\n",
       "<g clip-path=\"url(#clip6600)\">\n",
       "<text style=\"fill:#000000; fill-opacity:1; font-family:Arial,Helvetica Neue,Helvetica,sans-serif; font-size:48px; text-anchor:start;\" transform=\"rotate(0, 1809.98, 269.224)\" x=\"1809.98\" y=\"269.224\">y2</text>\n",
       "</g>\n",
       "<g clip-path=\"url(#clip6600)\">\n",
       "<text style=\"fill:#000000; fill-opacity:1; font-family:Arial,Helvetica Neue,Helvetica,sans-serif; font-size:48px; text-anchor:start;\" transform=\"rotate(0, 1809.98, 329.704)\" x=\"1809.98\" y=\"329.704\">y3</text>\n",
       "</g>\n",
       "<g clip-path=\"url(#clip6600)\">\n",
       "<text style=\"fill:#000000; fill-opacity:1; font-family:Arial,Helvetica Neue,Helvetica,sans-serif; font-size:48px; text-anchor:start;\" transform=\"rotate(0, 1809.98, 390.184)\" x=\"1809.98\" y=\"390.184\">y4</text>\n",
       "</g>\n",
       "</svg>\n"
      ]
     },
     "execution_count": 8,
     "metadata": {},
     "output_type": "execute_result"
    }
   ],
   "source": [
    "test1()"
   ]
  },
  {
   "cell_type": "markdown",
   "metadata": {},
   "source": [
    "### ToDo\n",
    "一些需要后续改进的\n",
    "1. 如果在第三阶段发现无法稳定，应该迅速中断测试并且关闭\n",
    "2. 过大的压缩也是不合常理的，不过这是在优化那边去考虑的\n",
    "3. 可以考虑增加积分的精度\n",
    "4. 排除失败的情况\n",
    "5. 给出一个目标函数\n"
   ]
  },
  {
   "cell_type": "code",
   "execution_count": null,
   "metadata": {},
   "outputs": [],
   "source": []
  }
 ],
 "metadata": {
  "kernelspec": {
   "display_name": "Julia 1.2.0",
   "language": "julia",
   "name": "julia-1.2"
  },
  "language_info": {
   "file_extension": ".jl",
   "mimetype": "application/julia",
   "name": "julia",
   "version": "1.2.0"
  }
 },
 "nbformat": 4,
 "nbformat_minor": 2
}
