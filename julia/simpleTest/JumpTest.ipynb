{
 "cells": [
  {
   "cell_type": "markdown",
   "metadata": {},
   "source": [
    "## JuMP库的使用\n",
    "1. LP，线性规划\n",
    "2. QP，二次优化\n",
    "3. SOCP，二阶圆锥曲线优化\n",
    "3. MILP，混合整数线性规划\n",
    "4. NLP，非线性规划\n",
    "5. MINLP，混合整数非线性规划\n",
    "6. SDP，半正定规划\n",
    "7. MISDP，混合整数半正定规划"
   ]
  },
  {
   "cell_type": "markdown",
   "metadata": {},
   "source": [
    "### 1. 一个基本的使用流程"
   ]
  },
  {
   "cell_type": "code",
   "execution_count": null,
   "metadata": {},
   "outputs": [],
   "source": [
    "using JuMP\n",
    "using SCS"
   ]
  },
  {
   "cell_type": "code",
   "execution_count": 5,
   "metadata": {},
   "outputs": [
    {
     "data": {
      "text/latex": [
       "con : $ x + 5 y \\leq 3.0 $"
      ],
      "text/plain": [
       "con : x + 5 y ≤ 3.0"
      ]
     },
     "execution_count": 5,
     "metadata": {},
     "output_type": "execute_result"
    }
   ],
   "source": [
    "model = Model(with_optimizer(SCS.Optimizer))\n",
    "@variable(model, 0 <= x <= 2)       # 创建包含自身边界的变量\n",
    "@variable(model, 0 <= y <= 30)\n",
    "@objective(model, Max, 5x + 3 * y)\n",
    "@constraint(model, con, 1x + 5y <= 3)"
   ]
  },
  {
   "cell_type": "code",
   "execution_count": 6,
   "metadata": {},
   "outputs": [
    {
     "name": "stdout",
     "output_type": "stream",
     "text": [
      "----------------------------------------------------------------------------\n",
      "\tSCS v2.0.2 - Splitting Conic Solver\n",
      "\t(c) Brendan O'Donoghue, Stanford University, 2012-2017\n",
      "----------------------------------------------------------------------------\n",
      "Lin-sys: sparse-indirect, nnz in A = 6, CG tol ~ 1/iter^(2.00)\n",
      "eps = 1.00e-05, alpha = 1.50, max_iters = 5000, normalize = 1, scale = 1.00\n",
      "acceleration_lookback = 20, rho_x = 1.00e-03\n",
      "Variables n = 2, constraints m = 5\n",
      "Cones:\tlinear vars: 5\n",
      "Setup time: 5.20e-05s\n",
      "----------------------------------------------------------------------------\n",
      " Iter | pri res | dua res | rel gap | pri obj | dua obj | kap/tau | time (s)\n",
      "----------------------------------------------------------------------------\n",
      "     0| 5.85e+19  1.81e+19  8.38e-01 -2.03e+21 -1.79e+20  1.63e+20  2.56e-05 \n",
      "    60| 2.24e-08  1.30e-08  7.96e-08 -1.06e+01 -1.06e+01  1.86e-15  1.43e-04 \n",
      "----------------------------------------------------------------------------\n",
      "Status: Solved\n",
      "Timing: Solve time: 1.45e-04s\n",
      "\tLin-sys: avg # CG iterations: 1.46, avg solve time: 2.81e-07s\n",
      "\tCones: avg projection time: 4.57e-08s\n",
      "\tAcceleration: avg step time: 8.86e-07s\n",
      "----------------------------------------------------------------------------\n",
      "Error metrics:\n",
      "dist(s, K) = 1.1101e-15, dist(y, K*) = 0.0000e+00, s'y/|s||y| = 1.3020e-17\n",
      "primal res: |Ax + s - b|_2 / (1 + |b|_2) = 2.2397e-08\n",
      "dual res:   |A'y + c|_2 / (1 + |c|_2) = 1.3038e-08\n",
      "rel gap:    |c'x + b'y| / (1 + |c'x| + |b'y|) = 7.9593e-08\n",
      "----------------------------------------------------------------------------\n",
      "c'x = -10.6000, -b'y = -10.6000\n",
      "============================================================================\n"
     ]
    }
   ],
   "source": [
    "optimize!(model)\n"
   ]
  },
  {
   "cell_type": "code",
   "execution_count": 8,
   "metadata": {},
   "outputs": [
    {
     "data": {
      "text/plain": [
       "OPTIMAL::TerminationStatusCode = 1"
      ]
     },
     "execution_count": 8,
     "metadata": {},
     "output_type": "execute_result"
    }
   ],
   "source": [
    "# 求解器可能因为超时的原因停止，调用改函数查看终止状态\n",
    "# 返回 OPTIMAL，表示结果是优的\n",
    "termination_status(model)"
   ]
  },
  {
   "cell_type": "code",
   "execution_count": 9,
   "metadata": {},
   "outputs": [
    {
     "data": {
      "text/plain": [
       "FEASIBLE_POINT::ResultStatusCode = 1"
      ]
     },
     "execution_count": 9,
     "metadata": {},
     "output_type": "execute_result"
    }
   ],
   "source": [
    "# 获取模型的求解信息\n",
    "# primal-dual pair是一种常用的优化方法，对应其中的参数状况\n",
    "primal_status(model)\n",
    "dual_status(model)\n",
    "value(x)\n",
    "value(y)\n",
    "dual(con)"
   ]
  },
  {
   "cell_type": "markdown",
   "metadata": {},
   "source": [
    "### 2. 一个简单的LP示例"
   ]
  },
  {
   "cell_type": "code",
   "execution_count": 12,
   "metadata": {},
   "outputs": [
    {
     "name": "stderr",
     "output_type": "stream",
     "text": [
      "┌ Info: Precompiling GLPK [60bf3e95-4087-53dc-ae20-288a0d20c6a6]\n",
      "└ @ Base loading.jl:1242\n"
     ]
    }
   ],
   "source": [
    "using JuMP, GLPK, Test"
   ]
  },
  {
   "cell_type": "code",
   "execution_count": 13,
   "metadata": {},
   "outputs": [
    {
     "data": {
      "text/plain": [
       "example_basic (generic function with 1 method)"
      ]
     },
     "execution_count": 13,
     "metadata": {},
     "output_type": "execute_result"
    }
   ],
   "source": [
    "# 一个简单的线性规划\n",
    "function example_basic(; verbose = true)\n",
    "    model = Model(with_optimizer(GLPK.Optimizer))\n",
    "\n",
    "    @variable(model, 0 <= x <= 2)\n",
    "    @variable(model, 0 <= y <= 30)\n",
    "\n",
    "    @objective(model, Max, 5x + 3y)\n",
    "    @constraint(model, 1x + 5y <= 3.0)\n",
    "\n",
    "    if verbose\n",
    "        print(model)\n",
    "    end\n",
    "\n",
    "    JuMP.optimize!(model)\n",
    "\n",
    "    obj_value = JuMP.objective_value(model)\n",
    "    x_value = JuMP.value(x)\n",
    "    y_value = JuMP.value(y)\n",
    "\n",
    "    if verbose\n",
    "        println(\"Objective value: \", obj_value)\n",
    "        println(\"x = \", x_value)\n",
    "        println(\"y = \", y_value)\n",
    "    end\n",
    "\n",
    "    # 这个@test以及≈的使用还是有点意思的\n",
    "    @test obj_value ≈ 10.6\n",
    "    @test x_value ≈ 2\n",
    "    @test y_value ≈ 0.2\n",
    "end"
   ]
  },
  {
   "cell_type": "code",
   "execution_count": 14,
   "metadata": {},
   "outputs": [
    {
     "data": {
      "text/plain": [
       "\u001b[32m\u001b[1mTest Passed\u001b[22m\u001b[39m"
      ]
     },
     "execution_count": 14,
     "metadata": {},
     "output_type": "execute_result"
    }
   ],
   "source": [
    "example_basic(verbose = false)"
   ]
  },
  {
   "cell_type": "markdown",
   "metadata": {},
   "source": [
    "### 3. 罐头食品厂问题\n",
    "问题来自：Dantzig, Linear Programming and Extensions, Princeton University Press, Princeton, NJ, 1963.\n",
    "\n",
    "说明："
   ]
  },
  {
   "cell_type": "code",
   "execution_count": 15,
   "metadata": {},
   "outputs": [
    {
     "data": {
      "text/plain": [
       "example_cannery (generic function with 1 method)"
      ]
     },
     "execution_count": 15,
     "metadata": {},
     "output_type": "execute_result"
    }
   ],
   "source": [
    "function example_cannery(; verbose = true)\n",
    "    plants = [\"Seattle\", \"San-Diego\"]\n",
    "    markets = [\"New-York\", \"Chicago\", \"Topeka\"]\n",
    "\n",
    "    # 两个原产地和三个目标城市\n",
    "    capacity = [350, 600]\n",
    "    demand = [300, 300, 300]\n",
    "\n",
    "    # 两个原产地分别到三个城市的距离\n",
    "    distance = [2.5 1.7 1.8; 2.5 1.8 1.4]\n",
    "\n",
    "    # 运输单价\n",
    "    freight = 90\n",
    "\n",
    "    num_plants = length(plants)\n",
    "    num_markets = length(markets)\n",
    "\n",
    "    cannery = Model(with_optimizer(GLPK.Optimizer))\n",
    "\n",
    "    # 创建变量，分别对应运输数量\n",
    "    @variable(cannery, ship[1:num_plants, 1:num_markets] >= 0)\n",
    "\n",
    "    # i表示两个原产地，j表示单个原产地到所有的城市，\n",
    "    @constraint(cannery, capacity_con[i in 1:num_plants],\n",
    "        sum(ship[i,j] for j in 1:num_markets) <= capacity[i]\n",
    "    )\n",
    "\n",
    "    # 运送量至少大于城市的需求\n",
    "    @constraint(cannery, demand_con[j in 1:num_markets],\n",
    "        sum(ship[i,j] for i in 1:num_plants) >= demand[j]\n",
    "    )\n",
    "\n",
    "    # 目标函数\n",
    "    @objective(cannery, Min, sum(distance[i, j] * freight * ship[i, j]\n",
    "        for i in 1:num_plants, j in 1:num_markets)\n",
    "    )\n",
    "\n",
    "    JuMP.optimize!(cannery)\n",
    "\n",
    "    # 自定义输出结果\n",
    "    if verbose\n",
    "        println(\"RESULTS:\")\n",
    "        for i in 1:num_plants\n",
    "            for j in 1:num_markets\n",
    "                println(\"  $(plants[i]) $(markets[j]) = $(JuMP.value(ship[i, j]))\")\n",
    "            end\n",
    "        end\n",
    "    end\n",
    "\n",
    "    # 测试终止条件等，这个可以\n",
    "    @test JuMP.termination_status(cannery) == MOI.OPTIMAL\n",
    "    @test JuMP.primal_status(cannery) == MOI.FEASIBLE_POINT\n",
    "    @test JuMP.objective_value(cannery) == 151200.0\n",
    "end"
   ]
  },
  {
   "cell_type": "code",
   "execution_count": 16,
   "metadata": {},
   "outputs": [
    {
     "data": {
      "text/plain": [
       "\u001b[32m\u001b[1mTest Passed\u001b[22m\u001b[39m"
      ]
     },
     "execution_count": 16,
     "metadata": {},
     "output_type": "execute_result"
    }
   ],
   "source": [
    "example_cannery(verbose = false)"
   ]
  },
  {
   "cell_type": "markdown",
   "metadata": {},
   "source": [
    "### 4. 优化控制问题\n",
    "问题来自：H. Maurer and H.D. Mittelman, \"The non-linear beam via optimal control with bound state variables\", Optimal Control Applications and Methods 12, pp. 19-31, 1991.\n"
   ]
  },
  {
   "cell_type": "code",
   "execution_count": 21,
   "metadata": {},
   "outputs": [
    {
     "name": "stderr",
     "output_type": "stream",
     "text": [
      "┌ Info: Precompiling Ipopt [b6b21f68-93f8-5de0-b562-5493be1d77c9]\n",
      "└ @ Base loading.jl:1242\n"
     ]
    },
    {
     "data": {
      "text/plain": [
       "example_clnlbeam (generic function with 1 method)"
      ]
     },
     "execution_count": 21,
     "metadata": {},
     "output_type": "execute_result"
    }
   ],
   "source": [
    "using Ipopt\n",
    "function example_clnlbeam()\n",
    "    N = 1000      # 总步数\n",
    "    h = 1/N       \n",
    "    alpha = 350\n",
    "    model = Model(with_optimizer(Ipopt.Optimizer, print_level = 0))\n",
    "    @variables(model, begin\n",
    "        -1 <= t[1:(N + 1)] <= 1\n",
    "        -0.05 <= x[1:(N + 1)] <= 0.05\n",
    "        u[1:(N + 1)]\n",
    "    end)\n",
    "    @NLobjective(model, Min, sum(0.5 * h * (u[i + 1]^2 + u[i]^2) +\n",
    "        0.5 * alpha * h * (cos(t[i + 1]) + cos(t[i])) for i in 1:N)\n",
    "    )\n",
    "    @NLconstraint(model, [i = 1:N],\n",
    "        x[i + 1] - x[i] - 0.5 * h * (sin(t[i + 1]) + sin(t[i])) == 0\n",
    "    )\n",
    "    @constraint(model, [i = 1:N],\n",
    "        t[i + 1] - t[i] - 0.5 * h * u[i + 1] - 0.5 * h * u[i] == 0\n",
    "    )\n",
    "    JuMP.optimize!(model)\n",
    "\n",
    "    @test JuMP.termination_status(model) == MOI.LOCALLY_SOLVED\n",
    "    @test JuMP.primal_status(model) == MOI.FEASIBLE_POINT\n",
    "    @test JuMP.objective_value(model) ≈ 350.0\n",
    "end"
   ]
  },
  {
   "cell_type": "code",
   "execution_count": 22,
   "metadata": {},
   "outputs": [
    {
     "name": "stdout",
     "output_type": "stream",
     "text": [
      "\n",
      "******************************************************************************\n",
      "This program contains Ipopt, a library for large-scale nonlinear optimization.\n",
      " Ipopt is released as open source code under the Eclipse Public License (EPL).\n",
      "         For more information visit http://projects.coin-or.org/Ipopt\n",
      "******************************************************************************\n",
      "\n"
     ]
    },
    {
     "data": {
      "text/plain": [
       "\u001b[32m\u001b[1mTest Passed\u001b[22m\u001b[39m"
      ]
     },
     "execution_count": 22,
     "metadata": {},
     "output_type": "execute_result"
    }
   ],
   "source": [
    "example_clnlbeam()"
   ]
  },
  {
   "cell_type": "markdown",
   "metadata": {},
   "source": [
    "### 5. 一个简单的聚类"
   ]
  },
  {
   "cell_type": "code",
   "execution_count": 23,
   "metadata": {},
   "outputs": [],
   "source": [
    "using LinearAlgebra"
   ]
  },
  {
   "cell_type": "code",
   "execution_count": null,
   "metadata": {},
   "outputs": [],
   "source": [
    "using Plots\n",
    "a = Any[[2.0, 2.0], [2.5, 2.1], [7.0, 7.0],\n",
    "        [2.2, 2.3], [6.8, 7.0], [7.2, 7.5]]\n"
   ]
  },
  {
   "cell_type": "code",
   "execution_count": null,
   "metadata": {},
   "outputs": [],
   "source": [
    "function example_cluster(; verbose = true)\n",
    "    # Data points\n",
    "    n = 2\n",
    "    m = 6\n",
    "    a = Any[[2.0, 2.0], [2.5, 2.1], [7.0, 7.0],\n",
    "            [2.2, 2.3], [6.8, 7.0], [7.2, 7.5]]\n",
    "    k = 2\n",
    "\n",
    "    # Weight matrix\n",
    "    W = zeros(m, m)\n",
    "    for i in 1:m\n",
    "        for j in i + 1:m\n",
    "            W[i, j] = W[j, i] = exp(-norm(a[i] - a[j]) / 1.0)\n",
    "        end\n",
    "    end\n",
    "\n",
    "    model = Model(with_optimizer(SCS.Optimizer, verbose = 0))\n",
    "    # Z >= 0, PSD，半正定约束\n",
    "    @variable(model, Z[1:m, 1:m], PSD)\n",
    "    @constraint(model, Z .>= 0)\n",
    "    # min Tr(W(I-Z))\n",
    "    @objective(model, Min, tr(W * (Matrix(1.0I, m, m) - Z)))\n",
    "    # Z e = e\n",
    "    @constraint(model, Z * ones(m) .== ones(m))\n",
    "    # Tr(Z) = k\n",
    "    @constraint(model, tr(Z) == k)\n",
    "\n",
    "    JuMP.optimize!(model)\n",
    "\n",
    "    Z_val = JuMP.value.(Z)\n",
    "\n",
    "    # A simple rounding scheme\n",
    "    which_cluster = zeros(Int, m)\n",
    "    num_clusters = 0\n",
    "    for i in 1:m\n",
    "        Z_val[i, i] <= 1e-6 && continue\n",
    "        if which_cluster[i] == 0\n",
    "            num_clusters += 1\n",
    "            which_cluster[i] = num_clusters\n",
    "            for j in i + 1:m\n",
    "                if norm(Z_val[i, j] - Z_val[i, i]) <= 1e-6\n",
    "                    which_cluster[j] = num_clusters\n",
    "                end\n",
    "            end\n",
    "        end\n",
    "    end\n",
    "\n",
    "    @test which_cluster == [1, 1, 2, 1, 2, 2]\n",
    "\n",
    "    if verbose\n",
    "        # Print results\n",
    "        for cluster in 1:k\n",
    "            println(\"Cluster $cluster\")\n",
    "            for i in 1:m\n",
    "                if which_cluster[i] == cluster\n",
    "                    println(a[i])\n",
    "                end\n",
    "            end\n",
    "        end\n",
    "    end\n",
    "end"
   ]
  }
 ],
 "metadata": {
  "kernelspec": {
   "display_name": "Julia 1.2.0",
   "language": "julia",
   "name": "julia-1.2"
  },
  "language_info": {
   "file_extension": ".jl",
   "mimetype": "application/julia",
   "name": "julia",
   "version": "1.2.0"
  }
 },
 "nbformat": 4,
 "nbformat_minor": 2
}
