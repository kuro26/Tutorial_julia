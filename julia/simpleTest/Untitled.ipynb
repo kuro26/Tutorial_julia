{
 "cells": [
  {
   "cell_type": "code",
   "execution_count": null,
   "metadata": {},
   "outputs": [],
   "source": []
  }
 ],
 "metadata": {
  "kernelspec": {
   "display_name": "Julia 1.2.0",
   "language": "julia",
   "name": "julia-1.2"
  }
 },
 "nbformat": 4,
 "nbformat_minor": 2
}
