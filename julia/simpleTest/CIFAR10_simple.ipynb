{
 "cells": [
  {
   "cell_type": "code",
   "execution_count": 1,
   "metadata": {},
   "outputs": [
    {
     "name": "stderr",
     "output_type": "stream",
     "text": [
      "┌ Info: Recompiling stale cache file /root/.julia/compiled/v1.2/Flux/QdkVy.ji for Flux [587475ba-b771-5e3f-ad9e-33799f191a9c]\n",
      "└ @ Base loading.jl:1240\n",
      "┌ Info: Recompiling stale cache file /root/.julia/compiled/v1.2/Metalhead/OYscp.ji for Metalhead [dbeba491-748d-5e0e-a39e-b530a07fa0cc]\n",
      "└ @ Base loading.jl:1240\n"
     ]
    }
   ],
   "source": [
    "using Statistics\n",
    "# using CuArrays\n",
    "using Flux, Flux.Tracker, Flux.Optimise\n",
    "using Metalhead, Images\n",
    "using Metalhead: trainimgs\n",
    "using Images.ImageCore\n",
    "using Flux: onehotbatch, onecold\n",
    "using Base.Iterators: partition"
   ]
  },
  {
   "cell_type": "code",
   "execution_count": 5,
   "metadata": {},
   "outputs": [
    {
     "data": {
      "text/plain": [
       "ground_truth (generic function with 1 method)"
      ]
     },
     "execution_count": 5,
     "metadata": {},
     "output_type": "execute_result"
    }
   ],
   "source": [
    "# 先下载 CIFAR10数据集，并且将其分batch\n",
    "Metalhead.download(CIFAR10)\n",
    "X = trainimgs(CIFAR10)\n",
    "labels = onehotbatch([X[i].ground_truth.class for i in 1:50000],1:10)\n",
    "\n",
    "# 随机显示其中的图片\n",
    "image(x) = x.img\n",
    "ground_truth(x) = x.ground_truth\n",
    "# image.(X[rand(1:end, 10)])"
   ]
  },
  {
   "cell_type": "code",
   "execution_count": 42,
   "metadata": {},
   "outputs": [
    {
     "name": "stdout",
     "output_type": "stream",
     "text": [
      "search: \u001b[0m\u001b[1mg\u001b[22m\u001b[0m\u001b[1mp\u001b[22m\u001b[0m\u001b[1mu\u001b[22m thin_ed\u001b[0m\u001b[1mg\u001b[22mes_nonmaxsu\u001b[0m\u001b[1mp\u001b[22m_s\u001b[0m\u001b[1mu\u001b[22mbpix \u001b[0m\u001b[1mg\u001b[22maussian_\u001b[0m\u001b[1mp\u001b[22myramid\n",
      "\n"
     ]
    },
    {
     "data": {
      "text/latex": [
       "No documentation found.\n",
       "\n",
       "\\texttt{Flux.gpu} is a \\texttt{Function}.\n",
       "\n",
       "\\begin{verbatim}\n",
       "# 1 method for generic function \"gpu\":\n",
       "[1] gpu(x) in Flux at /root/.julia/packages/Flux/dkJUV/src/treelike.jl:69\n",
       "\\end{verbatim}\n"
      ],
      "text/markdown": [
       "No documentation found.\n",
       "\n",
       "`Flux.gpu` is a `Function`.\n",
       "\n",
       "```\n",
       "# 1 method for generic function \"gpu\":\n",
       "[1] gpu(x) in Flux at /root/.julia/packages/Flux/dkJUV/src/treelike.jl:69\n",
       "```\n"
      ],
      "text/plain": [
       "  No documentation found.\n",
       "\n",
       "  \u001b[36mFlux.gpu\u001b[39m is a \u001b[36mFunction\u001b[39m.\n",
       "\n",
       "\u001b[36m  # 1 method for generic function \"gpu\":\u001b[39m\n",
       "\u001b[36m  [1] gpu(x) in Flux at /root/.julia/packages/Flux/dkJUV/src/treelike.jl:69\u001b[39m"
      ]
     },
     "execution_count": 42,
     "metadata": {},
     "output_type": "execute_result"
    }
   ],
   "source": [
    "?gpu"
   ]
  },
  {
   "cell_type": "code",
   "execution_count": 8,
   "metadata": {},
   "outputs": [
    {
     "data": {
      "text/plain": [
       "10×1000 Flux.OneHotMatrix{Array{Flux.OneHotVector,1}}:\n",
       " 0  0  0  0  1  0  1  0  0  0  0  0  0  …  0  0  0  0  1  0  1  0  0  0  0  0\n",
       " 0  0  0  0  0  0  0  0  0  0  0  0  0     0  1  0  0  0  1  0  0  0  0  1  1\n",
       " 0  0  0  0  0  0  0  0  1  0  0  0  0     0  0  0  1  0  0  0  1  0  0  0  0\n",
       " 0  0  0  0  0  0  0  0  0  1  0  0  0     0  0  0  0  0  0  0  0  0  0  0  0\n",
       " 0  0  1  0  0  0  0  0  0  0  0  0  0     0  0  1  0  0  0  0  0  0  0  0  0\n",
       " 0  0  0  0  0  1  0  0  0  0  0  0  0  …  1  0  0  0  0  0  0  0  0  0  0  0\n",
       " 0  0  0  0  0  0  0  0  0  0  0  0  0     0  0  0  0  0  0  0  0  1  0  0  0\n",
       " 0  0  0  0  0  0  0  0  0  0  1  0  0     0  0  0  0  0  0  0  0  0  0  0  0\n",
       " 1  0  0  0  0  0  0  1  0  0  0  1  0     0  0  0  0  0  0  0  0  0  0  0  0\n",
       " 0  1  0  1  0  0  0  0  0  0  0  0  1     0  0  0  0  0  0  0  0  0  1  0  0"
      ]
     },
     "execution_count": 8,
     "metadata": {},
     "output_type": "execute_result"
    }
   ],
   "source": [
    "getarray(X) = float.(permutedims(channelview(X), (2, 3, 1)))\n",
    "imgs = [getarray(X[i].img) for i in 1:50000]\n",
    "\n",
    "train = gpu.([(cat(imgs[i]..., dims = 4), labels[:,i]) for i in partition(1:49000, 1000)])\n",
    "valset = 49001:50000\n",
    "valX = cat(imgs[valset]..., dims = 4) |> gpu\n",
    "valY = labels[:, valset] |> gpu"
   ]
  },
  {
   "cell_type": "code",
   "execution_count": 43,
   "metadata": {},
   "outputs": [
    {
     "data": {
      "text/plain": [
       "Chain(Conv((5, 5), 3=>16, relu), MaxPool((2, 2), pad = (0, 0, 0, 0), stride = (2, 2)), Conv((5, 5), 16=>8, relu), MaxPool((2, 2), pad = (0, 0, 0, 0), stride = (2, 2)), #17, Dense(200, 120), Dense(120, 84), Dense(84, 10), softmax)"
      ]
     },
     "execution_count": 43,
     "metadata": {},
     "output_type": "execute_result"
    }
   ],
   "source": [
    "m = Chain(\n",
    "  Conv((5,5), 3=>16, relu),\n",
    "  MaxPool((2,2)),\n",
    "  Conv((5,5), 16=>8, relu),\n",
    "  MaxPool((2,2)),\n",
    "  x -> reshape(x, :, size(x, 4)),\n",
    "  Dense(200, 120),\n",
    "  Dense(120, 84),\n",
    "  Dense(84, 10),\n",
    "  softmax) |> gpu"
   ]
  },
  {
   "cell_type": "code",
   "execution_count": null,
   "metadata": {},
   "outputs": [],
   "source": []
  },
  {
   "cell_type": "code",
   "execution_count": 44,
   "metadata": {},
   "outputs": [
    {
     "name": "stderr",
     "output_type": "stream",
     "text": [
      "┌ Warning: Momentum(params) is deprecated; use Momentum(η::Float64) instead\n",
      "│   caller = top-level scope at In[44]:4\n",
      "└ @ Core In[44]:4\n"
     ]
    },
    {
     "data": {
      "text/plain": [
       "#24 (generic function with 1 method)"
      ]
     },
     "execution_count": 44,
     "metadata": {},
     "output_type": "execute_result"
    }
   ],
   "source": [
    "using Flux: crossentropy, Momentum\n",
    "\n",
    "loss(x, y) = sum(crossentropy(m(x), y))\n",
    "opt = Momentum(params(m), 0.01)"
   ]
  },
  {
   "cell_type": "code",
   "execution_count": 45,
   "metadata": {},
   "outputs": [
    {
     "data": {
      "text/plain": [
       "accuracy (generic function with 1 method)"
      ]
     },
     "execution_count": 45,
     "metadata": {},
     "output_type": "execute_result"
    }
   ],
   "source": [
    "accuracy(x, y) = mean(onecold(m(x), 1:10) .== onecold(y, 1:10))"
   ]
  },
  {
   "cell_type": "code",
   "execution_count": 48,
   "metadata": {},
   "outputs": [
    {
     "name": "stdout",
     "output_type": "stream",
     "text": [
      "accuracy(valX, valY) = 0.324\n",
      "accuracy(valX, valY) = 0.374\n",
      "accuracy(valX, valY) = 0.389\n",
      "accuracy(valX, valY) = 0.404\n",
      "accuracy(valX, valY) = 0.429\n",
      "accuracy(valX, valY) = 0.432\n",
      "accuracy(valX, valY) = 0.437\n",
      "accuracy(valX, valY) = 0.453\n",
      "accuracy(valX, valY) = 0.46\n",
      "accuracy(valX, valY) = 0.443\n",
      "accuracy(valX, valY) = 0.447\n",
      "accuracy(valX, valY) = 0.462\n",
      "accuracy(valX, valY) = 0.461\n",
      "accuracy(valX, valY) = 0.475\n",
      "accuracy(valX, valY) = 0.478\n",
      "accuracy(valX, valY) = 0.49\n",
      "accuracy(valX, valY) = 0.493\n",
      "accuracy(valX, valY) = 0.501\n",
      "accuracy(valX, valY) = 0.506\n",
      "accuracy(valX, valY) = 0.507\n",
      "accuracy(valX, valY) = 0.512\n",
      "accuracy(valX, valY) = 0.507\n",
      "accuracy(valX, valY) = 0.513\n",
      "accuracy(valX, valY) = 0.514\n",
      "accuracy(valX, valY) = 0.515\n",
      "accuracy(valX, valY) = 0.514\n",
      "accuracy(valX, valY) = 0.508\n",
      "accuracy(valX, valY) = 0.517\n",
      "accuracy(valX, valY) = 0.52\n",
      "accuracy(valX, valY) = 0.521\n",
      "accuracy(valX, valY) = 0.519\n",
      "accuracy(valX, valY) = 0.518\n",
      "accuracy(valX, valY) = 0.526\n",
      "accuracy(valX, valY) = 0.527\n",
      "accuracy(valX, valY) = 0.538\n",
      "accuracy(valX, valY) = 0.528\n",
      "accuracy(valX, valY) = 0.542\n",
      "accuracy(valX, valY) = 0.532\n",
      "accuracy(valX, valY) = 0.538\n",
      "accuracy(valX, valY) = 0.552\n",
      "accuracy(valX, valY) = 0.552\n",
      "accuracy(valX, valY) = 0.554\n",
      "accuracy(valX, valY) = 0.554\n",
      "accuracy(valX, valY) = 0.56\n",
      "accuracy(valX, valY) = 0.563\n",
      "accuracy(valX, valY) = 0.561\n",
      "accuracy(valX, valY) = 0.562\n",
      "accuracy(valX, valY) = 0.558\n",
      "accuracy(valX, valY) = 0.568\n",
      "accuracy(valX, valY) = 0.575\n"
     ]
    }
   ],
   "source": [
    "epochs = 50\n",
    "\n",
    "for epoch = 1:epochs\n",
    "  for d in train\n",
    "    l = loss(d...)    # d展开之后就是对应的两个参数\n",
    "    back!(l)\n",
    "    opt()\n",
    "  end\n",
    "  @show accuracy(valX, valY)\n",
    "end"
   ]
  },
  {
   "cell_type": "code",
   "execution_count": null,
   "metadata": {},
   "outputs": [],
   "source": []
  }
 ],
 "metadata": {
  "kernelspec": {
   "display_name": "Julia 1.2.0",
   "language": "julia",
   "name": "julia-1.2"
  },
  "language_info": {
   "file_extension": ".jl",
   "mimetype": "application/julia",
   "name": "julia",
   "version": "1.2.0"
  }
 },
 "nbformat": 4,
 "nbformat_minor": 2
}
